{
 "cells": [
  {
   "cell_type": "code",
   "execution_count": 1,
   "metadata": {},
   "outputs": [],
   "source": [
    "import pandas as pd\n",
    "import numpy as np\n",
    "from sklearn.tree import DecisionTreeClassifier\n",
    "from sklearn.model_selection import GridSearchCV\n",
    "from sklearn.metrics import accuracy_score, confusion_matrix\n",
    "from sklearn.preprocessing import scale"
   ]
  },
  {
   "cell_type": "markdown",
   "metadata": {},
   "source": [
    "Loading training and testing data"
   ]
  },
  {
   "cell_type": "code",
   "execution_count": 2,
   "metadata": {},
   "outputs": [],
   "source": [
    "x_train= pd.read_csv(\"Data/x_train.csv\")\n",
    "x_test= pd.read_csv(\"Data/x_test.csv\")\n",
    "y_train= pd.read_csv(\"Data/y_train.csv\")\n",
    "y_test= pd.read_csv(\"Data/y_test.csv\")"
   ]
  },
  {
   "cell_type": "code",
   "execution_count": 3,
   "metadata": {},
   "outputs": [
    {
     "data": {
      "text/plain": [
       "DecisionTreeClassifier()"
      ]
     },
     "execution_count": 3,
     "metadata": {},
     "output_type": "execute_result"
    }
   ],
   "source": [
    "# creating algorithm instance\n",
    "tree = DecisionTreeClassifier()\n",
    "tree"
   ]
  },
  {
   "cell_type": "code",
   "execution_count": 4,
   "metadata": {},
   "outputs": [],
   "source": [
    "# training base model \n",
    "xtrain = x_train.iloc[:, 0:12]\n",
    "model = tree.fit(xtrain, y_train)"
   ]
  },
  {
   "cell_type": "code",
   "execution_count": 5,
   "metadata": {},
   "outputs": [
    {
     "data": {
      "text/plain": [
       "1.0"
      ]
     },
     "execution_count": 5,
     "metadata": {},
     "output_type": "execute_result"
    }
   ],
   "source": [
    "# Prediction with training data to check training accuracy\n",
    "predict = model.predict(xtrain)\n",
    "accuracy_score(predict, y_train)"
   ]
  },
  {
   "cell_type": "code",
   "execution_count": 6,
   "metadata": {},
   "outputs": [
    {
     "data": {
      "text/plain": [
       "array([[6617,    0,    0,    0,    0],\n",
       "       [   0, 6617,    0,    0,    0],\n",
       "       [   0,    0, 6617,    0,    0],\n",
       "       [   0,    0,    0, 6617,    0],\n",
       "       [   0,    0,    0,    0, 6617]])"
      ]
     },
     "execution_count": 6,
     "metadata": {},
     "output_type": "execute_result"
    }
   ],
   "source": [
    "confusion_matrix(y_train, predict)"
   ]
  },
  {
   "cell_type": "code",
   "execution_count": 7,
   "metadata": {},
   "outputs": [
    {
     "data": {
      "text/plain": [
       "<matplotlib.collections.PathCollection at 0x7fe8c2c8f850>"
      ]
     },
     "execution_count": 7,
     "metadata": {},
     "output_type": "execute_result"
    },
    {
     "data": {
      "image/png": "[encoded data removed]",
      "text/plain": [
       "<Figure size 432x288 with 1 Axes>"
      ]
     },
     "metadata": {
      "needs_background": "light"
     },
     "output_type": "display_data"
    }
   ],
   "source": [
    "import matplotlib.pyplot as plt\n",
    "plt.scatter(y_train, predict)"
   ]
  },
  {
   "cell_type": "code",
   "execution_count": 8,
   "metadata": {},
   "outputs": [],
   "source": [
    "# Prediction with test data\n",
    "xtest= x_test.iloc[:, 0:12]\n",
    "pred = model.predict(xtest)"
   ]
  },
  {
   "cell_type": "code",
   "execution_count": 9,
   "metadata": {},
   "outputs": [
    {
     "data": {
      "text/plain": [
       "0.6885953087085468"
      ]
     },
     "execution_count": 9,
     "metadata": {},
     "output_type": "execute_result"
    }
   ],
   "source": [
    "accuracy_score(pred, y_test)"
   ]
  },
  {
   "cell_type": "code",
   "execution_count": 10,
   "metadata": {},
   "outputs": [
    {
     "data": {
      "text/plain": [
       "array([[ 785,  302,   37,    6,    0],\n",
       "       [ 328, 1212,    8,   57,    7],\n",
       "       [  32,    7,  451,  103,   32],\n",
       "       [   4,   43,   68,   39,   37],\n",
       "       [   0,    2,   28,   54,   67]])"
      ]
     },
     "execution_count": 10,
     "metadata": {},
     "output_type": "execute_result"
    }
   ],
   "source": [
    "confusion_matrix(y_test, pred)"
   ]
  },
  {
   "cell_type": "code",
   "execution_count": 11,
   "metadata": {},
   "outputs": [
    {
     "data": {
      "text/plain": [
       "<matplotlib.collections.PathCollection at 0x7fe8c2bb5d10>"
      ]
     },
     "execution_count": 11,
     "metadata": {},
     "output_type": "execute_result"
    },
    {
     "data": {
      "image/png": "[encoded data removed]",
      "text/plain": [
       "<Figure size 432x288 with 1 Axes>"
      ]
     },
     "metadata": {
      "needs_background": "light"
     },
     "output_type": "display_data"
    }
   ],
   "source": [
    "plt.scatter(y_test, pred)"
   ]
  },
  {
   "cell_type": "markdown",
   "metadata": {},
   "source": [
    "<font color=\"blue\"> The conclusion is that the base model suffers from overfiting because the training accuracy was perfect and had difficulties with test data </font>"
   ]
  },
  {
   "cell_type": "markdown",
   "metadata": {},
   "source": [
    "<font color=\"green\"> Tuning hiper-parameters com gridsearchCV</font>"
   ]
  },
  {
   "cell_type": "code",
   "execution_count": 12,
   "metadata": {},
   "outputs": [],
   "source": [
    "parameters= {\"criterion\":[\"gini\", \"entropy\"],\n",
    "             \"max_depth\":list(range(2, 11))}"
   ]
  },
  {
   "cell_type": "code",
   "execution_count": 13,
   "metadata": {},
   "outputs": [],
   "source": [
    "# creating algorithm instance\n",
    "grid= GridSearchCV(tree, parameters, cv= 5, n_jobs= 4, scoring= \"accuracy\", refit= True)"
   ]
  },
  {
   "cell_type": "code",
   "execution_count": 14,
   "metadata": {},
   "outputs": [],
   "source": [
    "model2= grid.fit(xtrain, y_train)"
   ]
  },
  {
   "cell_type": "code",
   "execution_count": 15,
   "metadata": {},
   "outputs": [
    {
     "data": {
      "text/plain": [
       "{'criterion': 'gini', 'max_depth': 10}"
      ]
     },
     "execution_count": 15,
     "metadata": {},
     "output_type": "execute_result"
    }
   ],
   "source": [
    "model2.best_params_"
   ]
  },
  {
   "cell_type": "code",
   "execution_count": 16,
   "metadata": {},
   "outputs": [
    {
     "data": {
      "text/plain": [
       "0.7579870031736436"
      ]
     },
     "execution_count": 16,
     "metadata": {},
     "output_type": "execute_result"
    }
   ],
   "source": [
    "model2.best_score_"
   ]
  },
  {
   "cell_type": "code",
   "execution_count": 18,
   "metadata": {
    "scrolled": true
   },
   "outputs": [
    {
     "data": {
      "text/html": [
       "<div>\n",
       "<style scoped>\n",
       "    .dataframe tbody tr th:only-of-type {\n",
       "        vertical-align: middle;\n",
       "    }\n",
       "\n",
       "    .dataframe tbody tr th {\n",
       "        vertical-align: top;\n",
       "    }\n",
       "\n",
       "    .dataframe thead th {\n",
       "        text-align: right;\n",
       "    }\n",
       "</style>\n",
       "<table border=\"1\" class=\"dataframe\">\n",
       "  <thead>\n",
       "    <tr style=\"text-align: right;\">\n",
       "      <th></th>\n",
       "      <th>param_criterion</th>\n",
       "      <th>param_max_depth</th>\n",
       "      <th>mean_test_score</th>\n",
       "      <th>std_test_score</th>\n",
       "      <th>rank_test_score</th>\n",
       "    </tr>\n",
       "  </thead>\n",
       "  <tbody>\n",
       "    <tr>\n",
       "      <th>0</th>\n",
       "      <td>gini</td>\n",
       "      <td>2</td>\n",
       "      <td>0.639323</td>\n",
       "      <td>0.003972</td>\n",
       "      <td>18</td>\n",
       "    </tr>\n",
       "    <tr>\n",
       "      <th>1</th>\n",
       "      <td>gini</td>\n",
       "      <td>3</td>\n",
       "      <td>0.661780</td>\n",
       "      <td>0.007672</td>\n",
       "      <td>16</td>\n",
       "    </tr>\n",
       "    <tr>\n",
       "      <th>2</th>\n",
       "      <td>gini</td>\n",
       "      <td>4</td>\n",
       "      <td>0.691068</td>\n",
       "      <td>0.009264</td>\n",
       "      <td>13</td>\n",
       "    </tr>\n",
       "    <tr>\n",
       "      <th>3</th>\n",
       "      <td>gini</td>\n",
       "      <td>5</td>\n",
       "      <td>0.699955</td>\n",
       "      <td>0.009329</td>\n",
       "      <td>11</td>\n",
       "    </tr>\n",
       "    <tr>\n",
       "      <th>4</th>\n",
       "      <td>gini</td>\n",
       "      <td>6</td>\n",
       "      <td>0.708841</td>\n",
       "      <td>0.010807</td>\n",
       "      <td>10</td>\n",
       "    </tr>\n",
       "    <tr>\n",
       "      <th>5</th>\n",
       "      <td>gini</td>\n",
       "      <td>7</td>\n",
       "      <td>0.720840</td>\n",
       "      <td>0.013073</td>\n",
       "      <td>7</td>\n",
       "    </tr>\n",
       "    <tr>\n",
       "      <th>6</th>\n",
       "      <td>gini</td>\n",
       "      <td>8</td>\n",
       "      <td>0.729998</td>\n",
       "      <td>0.011279</td>\n",
       "      <td>5</td>\n",
       "    </tr>\n",
       "    <tr>\n",
       "      <th>7</th>\n",
       "      <td>gini</td>\n",
       "      <td>9</td>\n",
       "      <td>0.743086</td>\n",
       "      <td>0.014007</td>\n",
       "      <td>3</td>\n",
       "    </tr>\n",
       "    <tr>\n",
       "      <th>8</th>\n",
       "      <td>gini</td>\n",
       "      <td>10</td>\n",
       "      <td>0.757987</td>\n",
       "      <td>0.012030</td>\n",
       "      <td>1</td>\n",
       "    </tr>\n",
       "    <tr>\n",
       "      <th>9</th>\n",
       "      <td>entropy</td>\n",
       "      <td>2</td>\n",
       "      <td>0.639414</td>\n",
       "      <td>0.003872</td>\n",
       "      <td>17</td>\n",
       "    </tr>\n",
       "    <tr>\n",
       "      <th>10</th>\n",
       "      <td>entropy</td>\n",
       "      <td>3</td>\n",
       "      <td>0.662385</td>\n",
       "      <td>0.006634</td>\n",
       "      <td>15</td>\n",
       "    </tr>\n",
       "    <tr>\n",
       "      <th>11</th>\n",
       "      <td>entropy</td>\n",
       "      <td>4</td>\n",
       "      <td>0.686595</td>\n",
       "      <td>0.007266</td>\n",
       "      <td>14</td>\n",
       "    </tr>\n",
       "    <tr>\n",
       "      <th>12</th>\n",
       "      <td>entropy</td>\n",
       "      <td>5</td>\n",
       "      <td>0.698383</td>\n",
       "      <td>0.006496</td>\n",
       "      <td>12</td>\n",
       "    </tr>\n",
       "    <tr>\n",
       "      <th>13</th>\n",
       "      <td>entropy</td>\n",
       "      <td>6</td>\n",
       "      <td>0.711561</td>\n",
       "      <td>0.008045</td>\n",
       "      <td>9</td>\n",
       "    </tr>\n",
       "    <tr>\n",
       "      <th>14</th>\n",
       "      <td>entropy</td>\n",
       "      <td>7</td>\n",
       "      <td>0.719148</td>\n",
       "      <td>0.009876</td>\n",
       "      <td>8</td>\n",
       "    </tr>\n",
       "    <tr>\n",
       "      <th>15</th>\n",
       "      <td>entropy</td>\n",
       "      <td>8</td>\n",
       "      <td>0.727792</td>\n",
       "      <td>0.010427</td>\n",
       "      <td>6</td>\n",
       "    </tr>\n",
       "    <tr>\n",
       "      <th>16</th>\n",
       "      <td>entropy</td>\n",
       "      <td>9</td>\n",
       "      <td>0.740063</td>\n",
       "      <td>0.012177</td>\n",
       "      <td>4</td>\n",
       "    </tr>\n",
       "    <tr>\n",
       "      <th>17</th>\n",
       "      <td>entropy</td>\n",
       "      <td>10</td>\n",
       "      <td>0.752093</td>\n",
       "      <td>0.012678</td>\n",
       "      <td>2</td>\n",
       "    </tr>\n",
       "  </tbody>\n",
       "</table>\n",
       "</div>"
      ],
      "text/plain": [
       "   param_criterion param_max_depth  mean_test_score  std_test_score  \\\n",
       "0             gini               2         0.639323        0.003972   \n",
       "1             gini               3         0.661780        0.007672   \n",
       "2             gini               4         0.691068        0.009264   \n",
       "3             gini               5         0.699955        0.009329   \n",
       "4             gini               6         0.708841        0.010807   \n",
       "5             gini               7         0.720840        0.013073   \n",
       "6             gini               8         0.729998        0.011279   \n",
       "7             gini               9         0.743086        0.014007   \n",
       "8             gini              10         0.757987        0.012030   \n",
       "9          entropy               2         0.639414        0.003872   \n",
       "10         entropy               3         0.662385        0.006634   \n",
       "11         entropy               4         0.686595        0.007266   \n",
       "12         entropy               5         0.698383        0.006496   \n",
       "13         entropy               6         0.711561        0.008045   \n",
       "14         entropy               7         0.719148        0.009876   \n",
       "15         entropy               8         0.727792        0.010427   \n",
       "16         entropy               9         0.740063        0.012177   \n",
       "17         entropy              10         0.752093        0.012678   \n",
       "\n",
       "    rank_test_score  \n",
       "0                18  \n",
       "1                16  \n",
       "2                13  \n",
       "3                11  \n",
       "4                10  \n",
       "5                 7  \n",
       "6                 5  \n",
       "7                 3  \n",
       "8                 1  \n",
       "9                17  \n",
       "10               15  \n",
       "11               14  \n",
       "12               12  \n",
       "13                9  \n",
       "14                8  \n",
       "15                6  \n",
       "16                4  \n",
       "17                2  "
      ]
     },
     "execution_count": 18,
     "metadata": {},
     "output_type": "execute_result"
    }
   ],
   "source": [
    "table= pd.DataFrame(model2.cv_results_)\n",
    "result= table[[\"param_criterion\", \"param_max_depth\", \"mean_test_score\",\n",
    "              \"std_test_score\", \"rank_test_score\" ]]     \n",
    "result"
   ]
  },
  {
   "cell_type": "code",
   "execution_count": 19,
   "metadata": {},
   "outputs": [
    {
     "data": {
      "text/plain": [
       "0.7960405017379477"
      ]
     },
     "execution_count": 19,
     "metadata": {},
     "output_type": "execute_result"
    }
   ],
   "source": [
    "# Prediction with training data to check training accuracy\n",
    "predict2 = model2.predict(xtrain)\n",
    "accuracy_score(y_train, predict2)"
   ]
  },
  {
   "cell_type": "code",
   "execution_count": 21,
   "metadata": {},
   "outputs": [
    {
     "data": {
      "text/plain": [
       "0.7198705850633594"
      ]
     },
     "execution_count": 21,
     "metadata": {},
     "output_type": "execute_result"
    }
   ],
   "source": [
    "# Prediction with data test\n",
    "pred2 = model2.predict(xtest)\n",
    "accuracy_score(y_test, pred2)"
   ]
  },
  {
   "cell_type": "code",
   "execution_count": 23,
   "metadata": {},
   "outputs": [
    {
     "data": {
      "text/plain": [
       "array([[ 809,  271,   48,    2,    0],\n",
       "       [ 225, 1238,   10,  133,    6],\n",
       "       [   3,    0,  475,  110,   37],\n",
       "       [   0,   33,   53,   72,   33],\n",
       "       [   0,    1,   17,   57,   76]])"
      ]
     },
     "execution_count": 23,
     "metadata": {},
     "output_type": "execute_result"
    }
   ],
   "source": [
    "confusion_matrix(y_test, pred2)"
   ]
  },
  {
   "cell_type": "code",
   "execution_count": 14,
   "metadata": {},
   "outputs": [],
   "source": [
    "parameters2= {\"criterion\":[\"gini\", \"entropy\"],\n",
    "              \"max_depth\":list(range(4, 13)), \n",
    "              \"min_samples_split\":list(range(2, 6)), \n",
    "              \"min_samples_leaf\":list(range(2, 6))}"
   ]
  },
  {
   "cell_type": "code",
   "execution_count": 15,
   "metadata": {},
   "outputs": [],
   "source": [
    "grid2 = GridSearchCV(tree, parameters2, cv=5, refit= True, scoring= \"accuracy\")"
   ]
  },
  {
   "cell_type": "code",
   "execution_count": 26,
   "metadata": {},
   "outputs": [],
   "source": [
    "model3= grid2.fit(xtrain, y_train)"
   ]
  },
  {
   "cell_type": "code",
   "execution_count": 27,
   "metadata": {},
   "outputs": [
    {
     "data": {
      "text/plain": [
       "0.7804443101103219"
      ]
     },
     "execution_count": 27,
     "metadata": {},
     "output_type": "execute_result"
    }
   ],
   "source": [
    "model3.best_score_"
   ]
  },
  {
   "cell_type": "code",
   "execution_count": 28,
   "metadata": {},
   "outputs": [
    {
     "data": {
      "text/plain": [
       "{'criterion': 'gini',\n",
       " 'max_depth': 12,\n",
       " 'min_samples_leaf': 2,\n",
       " 'min_samples_split': 2}"
      ]
     },
     "execution_count": 28,
     "metadata": {},
     "output_type": "execute_result"
    }
   ],
   "source": [
    "model3.best_params_"
   ]
  },
  {
   "cell_type": "code",
   "execution_count": 29,
   "metadata": {},
   "outputs": [
    {
     "data": {
      "text/html": [
       "<div>\n",
       "<style scoped>\n",
       "    .dataframe tbody tr th:only-of-type {\n",
       "        vertical-align: middle;\n",
       "    }\n",
       "\n",
       "    .dataframe tbody tr th {\n",
       "        vertical-align: top;\n",
       "    }\n",
       "\n",
       "    .dataframe thead th {\n",
       "        text-align: right;\n",
       "    }\n",
       "</style>\n",
       "<table border=\"1\" class=\"dataframe\">\n",
       "  <thead>\n",
       "    <tr style=\"text-align: right;\">\n",
       "      <th></th>\n",
       "      <th>param_criterion</th>\n",
       "      <th>param_max_depth</th>\n",
       "      <th>param_min_samples_leaf</th>\n",
       "      <th>param_min_samples_split</th>\n",
       "      <th>mean_test_score</th>\n",
       "      <th>std_test_score</th>\n",
       "      <th>rank_test_score</th>\n",
       "    </tr>\n",
       "  </thead>\n",
       "  <tbody>\n",
       "    <tr>\n",
       "      <th>128</th>\n",
       "      <td>gini</td>\n",
       "      <td>12</td>\n",
       "      <td>2</td>\n",
       "      <td>2</td>\n",
       "      <td>0.780444</td>\n",
       "      <td>0.015629</td>\n",
       "      <td>1</td>\n",
       "    </tr>\n",
       "    <tr>\n",
       "      <th>135</th>\n",
       "      <td>gini</td>\n",
       "      <td>12</td>\n",
       "      <td>3</td>\n",
       "      <td>5</td>\n",
       "      <td>0.780384</td>\n",
       "      <td>0.013583</td>\n",
       "      <td>2</td>\n",
       "    </tr>\n",
       "    <tr>\n",
       "      <th>130</th>\n",
       "      <td>gini</td>\n",
       "      <td>12</td>\n",
       "      <td>2</td>\n",
       "      <td>4</td>\n",
       "      <td>0.780323</td>\n",
       "      <td>0.014575</td>\n",
       "      <td>3</td>\n",
       "    </tr>\n",
       "    <tr>\n",
       "      <th>129</th>\n",
       "      <td>gini</td>\n",
       "      <td>12</td>\n",
       "      <td>2</td>\n",
       "      <td>3</td>\n",
       "      <td>0.780293</td>\n",
       "      <td>0.014666</td>\n",
       "      <td>4</td>\n",
       "    </tr>\n",
       "    <tr>\n",
       "      <th>132</th>\n",
       "      <td>gini</td>\n",
       "      <td>12</td>\n",
       "      <td>3</td>\n",
       "      <td>2</td>\n",
       "      <td>0.780263</td>\n",
       "      <td>0.013456</td>\n",
       "      <td>5</td>\n",
       "    </tr>\n",
       "    <tr>\n",
       "      <th>...</th>\n",
       "      <td>...</td>\n",
       "      <td>...</td>\n",
       "      <td>...</td>\n",
       "      <td>...</td>\n",
       "      <td>...</td>\n",
       "      <td>...</td>\n",
       "      <td>...</td>\n",
       "    </tr>\n",
       "    <tr>\n",
       "      <th>154</th>\n",
       "      <td>entropy</td>\n",
       "      <td>4</td>\n",
       "      <td>4</td>\n",
       "      <td>4</td>\n",
       "      <td>0.686595</td>\n",
       "      <td>0.007266</td>\n",
       "      <td>273</td>\n",
       "    </tr>\n",
       "    <tr>\n",
       "      <th>155</th>\n",
       "      <td>entropy</td>\n",
       "      <td>4</td>\n",
       "      <td>4</td>\n",
       "      <td>5</td>\n",
       "      <td>0.686595</td>\n",
       "      <td>0.007266</td>\n",
       "      <td>273</td>\n",
       "    </tr>\n",
       "    <tr>\n",
       "      <th>156</th>\n",
       "      <td>entropy</td>\n",
       "      <td>4</td>\n",
       "      <td>5</td>\n",
       "      <td>2</td>\n",
       "      <td>0.686595</td>\n",
       "      <td>0.007266</td>\n",
       "      <td>273</td>\n",
       "    </tr>\n",
       "    <tr>\n",
       "      <th>149</th>\n",
       "      <td>entropy</td>\n",
       "      <td>4</td>\n",
       "      <td>3</td>\n",
       "      <td>3</td>\n",
       "      <td>0.686595</td>\n",
       "      <td>0.007266</td>\n",
       "      <td>273</td>\n",
       "    </tr>\n",
       "    <tr>\n",
       "      <th>158</th>\n",
       "      <td>entropy</td>\n",
       "      <td>4</td>\n",
       "      <td>5</td>\n",
       "      <td>4</td>\n",
       "      <td>0.686595</td>\n",
       "      <td>0.007266</td>\n",
       "      <td>273</td>\n",
       "    </tr>\n",
       "  </tbody>\n",
       "</table>\n",
       "<p>288 rows × 7 columns</p>\n",
       "</div>"
      ],
      "text/plain": [
       "    param_criterion param_max_depth param_min_samples_leaf  \\\n",
       "128            gini              12                      2   \n",
       "135            gini              12                      3   \n",
       "130            gini              12                      2   \n",
       "129            gini              12                      2   \n",
       "132            gini              12                      3   \n",
       "..              ...             ...                    ...   \n",
       "154         entropy               4                      4   \n",
       "155         entropy               4                      4   \n",
       "156         entropy               4                      5   \n",
       "149         entropy               4                      3   \n",
       "158         entropy               4                      5   \n",
       "\n",
       "    param_min_samples_split  mean_test_score  std_test_score  rank_test_score  \n",
       "128                       2         0.780444        0.015629                1  \n",
       "135                       5         0.780384        0.013583                2  \n",
       "130                       4         0.780323        0.014575                3  \n",
       "129                       3         0.780293        0.014666                4  \n",
       "132                       2         0.780263        0.013456                5  \n",
       "..                      ...              ...             ...              ...  \n",
       "154                       4         0.686595        0.007266              273  \n",
       "155                       5         0.686595        0.007266              273  \n",
       "156                       2         0.686595        0.007266              273  \n",
       "149                       3         0.686595        0.007266              273  \n",
       "158                       4         0.686595        0.007266              273  \n",
       "\n",
       "[288 rows x 7 columns]"
      ]
     },
     "execution_count": 29,
     "metadata": {},
     "output_type": "execute_result"
    }
   ],
   "source": [
    "table2= pd.DataFrame(model3.cv_results_)\n",
    "result2= table2[[\"param_criterion\", \"param_max_depth\", \"param_min_samples_leaf\",\n",
    "                \"param_min_samples_split\", \"mean_test_score\",\n",
    "                \"std_test_score\", \"rank_test_score\" ]]     \n",
    "result2.sort_values(by= [\"rank_test_score\"])"
   ]
  },
  {
   "cell_type": "code",
   "execution_count": 30,
   "metadata": {},
   "outputs": [
    {
     "data": {
      "text/plain": [
       "0.8414689436300439"
      ]
     },
     "execution_count": 30,
     "metadata": {},
     "output_type": "execute_result"
    }
   ],
   "source": [
    "predict3 = model3.predict(xtrain)\n",
    "accuracy_score(y_train, predict3)"
   ]
  },
  {
   "cell_type": "code",
   "execution_count": 31,
   "metadata": {},
   "outputs": [],
   "source": [
    "pred3= model3.predict(xtest)"
   ]
  },
  {
   "cell_type": "code",
   "execution_count": 32,
   "metadata": {},
   "outputs": [
    {
     "data": {
      "text/plain": [
       "0.7190617417093557"
      ]
     },
     "execution_count": 32,
     "metadata": {},
     "output_type": "execute_result"
    }
   ],
   "source": [
    "accuracy_score(y_test, pred3)"
   ]
  },
  {
   "cell_type": "markdown",
   "metadata": {},
   "source": [
    "Loading standardized training and testing data"
   ]
  },
  {
   "cell_type": "code",
   "execution_count": 33,
   "metadata": {},
   "outputs": [],
   "source": [
    "x_train_norm= pd.read_csv(\"Data/x_train_norm.csv\")\n",
    "x_test_norm= pd.read_csv(\"Data/x_test_norm.csv\")"
   ]
  },
  {
   "cell_type": "code",
   "execution_count": 34,
   "metadata": {},
   "outputs": [
    {
     "data": {
      "text/html": [
       "<div>\n",
       "<style scoped>\n",
       "    .dataframe tbody tr th:only-of-type {\n",
       "        vertical-align: middle;\n",
       "    }\n",
       "\n",
       "    .dataframe tbody tr th {\n",
       "        vertical-align: top;\n",
       "    }\n",
       "\n",
       "    .dataframe thead th {\n",
       "        text-align: right;\n",
       "    }\n",
       "</style>\n",
       "<table border=\"1\" class=\"dataframe\">\n",
       "  <thead>\n",
       "    <tr style=\"text-align: right;\">\n",
       "      <th></th>\n",
       "      <th>DISAPPROVALS_BL</th>\n",
       "      <th>DISAPPROVALS_EN</th>\n",
       "      <th>DISAPPROVALS_FM</th>\n",
       "      <th>DISAPPROVALS_OM</th>\n",
       "      <th>NOTE_BL</th>\n",
       "      <th>NOTE_EN</th>\n",
       "      <th>NOTE_FM</th>\n",
       "      <th>NOTE_OM</th>\n",
       "      <th>ENGLISH</th>\n",
       "      <th>H_CLASS_PRES</th>\n",
       "      <th>ONLINE_TASKS</th>\n",
       "      <th>ABSENCES</th>\n",
       "    </tr>\n",
       "  </thead>\n",
       "  <tbody>\n",
       "    <tr>\n",
       "      <th>0</th>\n",
       "      <td>-0.250308</td>\n",
       "      <td>-0.250198</td>\n",
       "      <td>-0.293156</td>\n",
       "      <td>-0.293808</td>\n",
       "      <td>-0.212294</td>\n",
       "      <td>-0.877855</td>\n",
       "      <td>-0.551592</td>\n",
       "      <td>-0.135847</td>\n",
       "      <td>0.800015</td>\n",
       "      <td>-0.557012</td>\n",
       "      <td>-0.886794</td>\n",
       "      <td>1.512318</td>\n",
       "    </tr>\n",
       "    <tr>\n",
       "      <th>1</th>\n",
       "      <td>-0.250308</td>\n",
       "      <td>-0.250198</td>\n",
       "      <td>-0.293156</td>\n",
       "      <td>-0.293808</td>\n",
       "      <td>-0.313401</td>\n",
       "      <td>-0.251804</td>\n",
       "      <td>-0.631016</td>\n",
       "      <td>-0.292352</td>\n",
       "      <td>0.800015</td>\n",
       "      <td>-1.117204</td>\n",
       "      <td>-0.886794</td>\n",
       "      <td>1.512318</td>\n",
       "    </tr>\n",
       "    <tr>\n",
       "      <th>2</th>\n",
       "      <td>1.917495</td>\n",
       "      <td>1.927500</td>\n",
       "      <td>-0.293156</td>\n",
       "      <td>-0.293808</td>\n",
       "      <td>-3.144408</td>\n",
       "      <td>-2.996797</td>\n",
       "      <td>-0.273605</td>\n",
       "      <td>-0.448858</td>\n",
       "      <td>0.800015</td>\n",
       "      <td>-0.930473</td>\n",
       "      <td>1.180295</td>\n",
       "      <td>1.512318</td>\n",
       "    </tr>\n",
       "    <tr>\n",
       "      <th>3</th>\n",
       "      <td>1.917495</td>\n",
       "      <td>1.927500</td>\n",
       "      <td>1.631678</td>\n",
       "      <td>1.701063</td>\n",
       "      <td>-3.144408</td>\n",
       "      <td>-2.996797</td>\n",
       "      <td>-2.497497</td>\n",
       "      <td>-2.952943</td>\n",
       "      <td>-1.385902</td>\n",
       "      <td>-1.117204</td>\n",
       "      <td>-1.920339</td>\n",
       "      <td>-0.330399</td>\n",
       "    </tr>\n",
       "    <tr>\n",
       "      <th>4</th>\n",
       "      <td>-0.250308</td>\n",
       "      <td>-0.250198</td>\n",
       "      <td>-0.293156</td>\n",
       "      <td>-0.293808</td>\n",
       "      <td>0.444904</td>\n",
       "      <td>0.470562</td>\n",
       "      <td>0.004381</td>\n",
       "      <td>0.698848</td>\n",
       "      <td>-1.385902</td>\n",
       "      <td>-0.743743</td>\n",
       "      <td>1.180295</td>\n",
       "      <td>-0.330399</td>\n",
       "    </tr>\n",
       "    <tr>\n",
       "      <th>...</th>\n",
       "      <td>...</td>\n",
       "      <td>...</td>\n",
       "      <td>...</td>\n",
       "      <td>...</td>\n",
       "      <td>...</td>\n",
       "      <td>...</td>\n",
       "      <td>...</td>\n",
       "      <td>...</td>\n",
       "      <td>...</td>\n",
       "      <td>...</td>\n",
       "      <td>...</td>\n",
       "      <td>...</td>\n",
       "    </tr>\n",
       "    <tr>\n",
       "      <th>33080</th>\n",
       "      <td>-0.250308</td>\n",
       "      <td>-0.250198</td>\n",
       "      <td>-0.293156</td>\n",
       "      <td>-0.293808</td>\n",
       "      <td>0.784377</td>\n",
       "      <td>0.655919</td>\n",
       "      <td>-0.341944</td>\n",
       "      <td>0.714010</td>\n",
       "      <td>0.177260</td>\n",
       "      <td>-0.503813</td>\n",
       "      <td>1.180295</td>\n",
       "      <td>-0.330399</td>\n",
       "    </tr>\n",
       "    <tr>\n",
       "      <th>33081</th>\n",
       "      <td>-0.250308</td>\n",
       "      <td>-0.250198</td>\n",
       "      <td>-0.293156</td>\n",
       "      <td>-0.293808</td>\n",
       "      <td>0.863443</td>\n",
       "      <td>1.192929</td>\n",
       "      <td>1.276570</td>\n",
       "      <td>-0.135847</td>\n",
       "      <td>-0.597996</td>\n",
       "      <td>1.377602</td>\n",
       "      <td>1.180295</td>\n",
       "      <td>-0.944638</td>\n",
       "    </tr>\n",
       "    <tr>\n",
       "      <th>33082</th>\n",
       "      <td>-0.250308</td>\n",
       "      <td>-0.250198</td>\n",
       "      <td>-0.293156</td>\n",
       "      <td>-0.293808</td>\n",
       "      <td>0.494578</td>\n",
       "      <td>0.423242</td>\n",
       "      <td>0.878399</td>\n",
       "      <td>0.491536</td>\n",
       "      <td>-1.385902</td>\n",
       "      <td>1.683757</td>\n",
       "      <td>0.663522</td>\n",
       "      <td>-0.536926</td>\n",
       "    </tr>\n",
       "    <tr>\n",
       "      <th>33083</th>\n",
       "      <td>-0.250308</td>\n",
       "      <td>-0.250198</td>\n",
       "      <td>-0.293156</td>\n",
       "      <td>-0.293808</td>\n",
       "      <td>0.882537</td>\n",
       "      <td>0.907402</td>\n",
       "      <td>1.056171</td>\n",
       "      <td>1.236893</td>\n",
       "      <td>0.800015</td>\n",
       "      <td>-0.292937</td>\n",
       "      <td>-0.672747</td>\n",
       "      <td>-0.944638</td>\n",
       "    </tr>\n",
       "    <tr>\n",
       "      <th>33084</th>\n",
       "      <td>-0.250308</td>\n",
       "      <td>-0.250198</td>\n",
       "      <td>-0.293156</td>\n",
       "      <td>-0.293808</td>\n",
       "      <td>0.980722</td>\n",
       "      <td>1.044164</td>\n",
       "      <td>1.297195</td>\n",
       "      <td>-0.135847</td>\n",
       "      <td>-1.288505</td>\n",
       "      <td>0.555052</td>\n",
       "      <td>1.180295</td>\n",
       "      <td>-0.944638</td>\n",
       "    </tr>\n",
       "  </tbody>\n",
       "</table>\n",
       "<p>33085 rows × 12 columns</p>\n",
       "</div>"
      ],
      "text/plain": [
       "       DISAPPROVALS_BL  DISAPPROVALS_EN  DISAPPROVALS_FM  DISAPPROVALS_OM  \\\n",
       "0            -0.250308        -0.250198        -0.293156        -0.293808   \n",
       "1            -0.250308        -0.250198        -0.293156        -0.293808   \n",
       "2             1.917495         1.927500        -0.293156        -0.293808   \n",
       "3             1.917495         1.927500         1.631678         1.701063   \n",
       "4            -0.250308        -0.250198        -0.293156        -0.293808   \n",
       "...                ...              ...              ...              ...   \n",
       "33080        -0.250308        -0.250198        -0.293156        -0.293808   \n",
       "33081        -0.250308        -0.250198        -0.293156        -0.293808   \n",
       "33082        -0.250308        -0.250198        -0.293156        -0.293808   \n",
       "33083        -0.250308        -0.250198        -0.293156        -0.293808   \n",
       "33084        -0.250308        -0.250198        -0.293156        -0.293808   \n",
       "\n",
       "        NOTE_BL   NOTE_EN   NOTE_FM   NOTE_OM   ENGLISH  H_CLASS_PRES  \\\n",
       "0     -0.212294 -0.877855 -0.551592 -0.135847  0.800015     -0.557012   \n",
       "1     -0.313401 -0.251804 -0.631016 -0.292352  0.800015     -1.117204   \n",
       "2     -3.144408 -2.996797 -0.273605 -0.448858  0.800015     -0.930473   \n",
       "3     -3.144408 -2.996797 -2.497497 -2.952943 -1.385902     -1.117204   \n",
       "4      0.444904  0.470562  0.004381  0.698848 -1.385902     -0.743743   \n",
       "...         ...       ...       ...       ...       ...           ...   \n",
       "33080  0.784377  0.655919 -0.341944  0.714010  0.177260     -0.503813   \n",
       "33081  0.863443  1.192929  1.276570 -0.135847 -0.597996      1.377602   \n",
       "33082  0.494578  0.423242  0.878399  0.491536 -1.385902      1.683757   \n",
       "33083  0.882537  0.907402  1.056171  1.236893  0.800015     -0.292937   \n",
       "33084  0.980722  1.044164  1.297195 -0.135847 -1.288505      0.555052   \n",
       "\n",
       "       ONLINE_TASKS  ABSENCES  \n",
       "0         -0.886794  1.512318  \n",
       "1         -0.886794  1.512318  \n",
       "2          1.180295  1.512318  \n",
       "3         -1.920339 -0.330399  \n",
       "4          1.180295 -0.330399  \n",
       "...             ...       ...  \n",
       "33080      1.180295 -0.330399  \n",
       "33081      1.180295 -0.944638  \n",
       "33082      0.663522 -0.536926  \n",
       "33083     -0.672747 -0.944638  \n",
       "33084      1.180295 -0.944638  \n",
       "\n",
       "[33085 rows x 12 columns]"
      ]
     },
     "execution_count": 34,
     "metadata": {},
     "output_type": "execute_result"
    }
   ],
   "source": [
    "x_train_norm"
   ]
  },
  {
   "cell_type": "code",
   "execution_count": 35,
   "metadata": {},
   "outputs": [
    {
     "data": {
      "text/html": [
       "<div>\n",
       "<style scoped>\n",
       "    .dataframe tbody tr th:only-of-type {\n",
       "        vertical-align: middle;\n",
       "    }\n",
       "\n",
       "    .dataframe tbody tr th {\n",
       "        vertical-align: top;\n",
       "    }\n",
       "\n",
       "    .dataframe thead th {\n",
       "        text-align: right;\n",
       "    }\n",
       "</style>\n",
       "<table border=\"1\" class=\"dataframe\">\n",
       "  <thead>\n",
       "    <tr style=\"text-align: right;\">\n",
       "      <th></th>\n",
       "      <th>DISAPPROVALS_BL</th>\n",
       "      <th>DISAPPROVALS_EN</th>\n",
       "      <th>DISAPPROVALS_FM</th>\n",
       "      <th>DISAPPROVALS_OM</th>\n",
       "      <th>NOTE_BL</th>\n",
       "      <th>NOTE_EN</th>\n",
       "      <th>NOTE_FM</th>\n",
       "      <th>NOTE_OM</th>\n",
       "      <th>ENGLISH</th>\n",
       "      <th>H_CLASS_PRES</th>\n",
       "      <th>ONLINE_TASKS</th>\n",
       "      <th>ABSENCES</th>\n",
       "    </tr>\n",
       "  </thead>\n",
       "  <tbody>\n",
       "    <tr>\n",
       "      <th>0</th>\n",
       "      <td>-0.250308</td>\n",
       "      <td>-0.250198</td>\n",
       "      <td>-0.293156</td>\n",
       "      <td>-0.293808</td>\n",
       "      <td>-0.262848</td>\n",
       "      <td>-0.059173</td>\n",
       "      <td>-0.591304</td>\n",
       "      <td>-0.396689</td>\n",
       "      <td>0.800015</td>\n",
       "      <td>-0.743743</td>\n",
       "      <td>-0.886794</td>\n",
       "      <td>-0.330399</td>\n",
       "    </tr>\n",
       "    <tr>\n",
       "      <th>1</th>\n",
       "      <td>-0.250308</td>\n",
       "      <td>-0.250198</td>\n",
       "      <td>-0.293156</td>\n",
       "      <td>-0.293808</td>\n",
       "      <td>0.394350</td>\n",
       "      <td>0.037142</td>\n",
       "      <td>0.361792</td>\n",
       "      <td>-0.396689</td>\n",
       "      <td>-1.385902</td>\n",
       "      <td>0.750103</td>\n",
       "      <td>0.146750</td>\n",
       "      <td>-0.944638</td>\n",
       "    </tr>\n",
       "    <tr>\n",
       "      <th>2</th>\n",
       "      <td>-0.250308</td>\n",
       "      <td>-0.250198</td>\n",
       "      <td>-0.293156</td>\n",
       "      <td>-0.293808</td>\n",
       "      <td>0.849333</td>\n",
       "      <td>0.855824</td>\n",
       "      <td>0.798628</td>\n",
       "      <td>-0.135847</td>\n",
       "      <td>0.800015</td>\n",
       "      <td>0.003180</td>\n",
       "      <td>0.663522</td>\n",
       "      <td>-0.330399</td>\n",
       "    </tr>\n",
       "    <tr>\n",
       "      <th>3</th>\n",
       "      <td>-0.250308</td>\n",
       "      <td>-0.250198</td>\n",
       "      <td>-0.293156</td>\n",
       "      <td>-0.293808</td>\n",
       "      <td>0.091028</td>\n",
       "      <td>-0.059173</td>\n",
       "      <td>-0.591304</td>\n",
       "      <td>0.072827</td>\n",
       "      <td>0.800015</td>\n",
       "      <td>-0.930473</td>\n",
       "      <td>-0.886794</td>\n",
       "      <td>0.283840</td>\n",
       "    </tr>\n",
       "    <tr>\n",
       "      <th>4</th>\n",
       "      <td>-0.250308</td>\n",
       "      <td>-0.250198</td>\n",
       "      <td>-0.293156</td>\n",
       "      <td>-0.293808</td>\n",
       "      <td>0.242689</td>\n",
       "      <td>0.181616</td>\n",
       "      <td>-0.114756</td>\n",
       "      <td>-0.135847</td>\n",
       "      <td>0.800015</td>\n",
       "      <td>-0.930473</td>\n",
       "      <td>-0.370022</td>\n",
       "      <td>-0.330399</td>\n",
       "    </tr>\n",
       "    <tr>\n",
       "      <th>...</th>\n",
       "      <td>...</td>\n",
       "      <td>...</td>\n",
       "      <td>...</td>\n",
       "      <td>...</td>\n",
       "      <td>...</td>\n",
       "      <td>...</td>\n",
       "      <td>...</td>\n",
       "      <td>...</td>\n",
       "      <td>...</td>\n",
       "      <td>...</td>\n",
       "      <td>...</td>\n",
       "      <td>...</td>\n",
       "    </tr>\n",
       "    <tr>\n",
       "      <th>3704</th>\n",
       "      <td>-0.250308</td>\n",
       "      <td>-0.250198</td>\n",
       "      <td>-0.293156</td>\n",
       "      <td>-0.293808</td>\n",
       "      <td>-0.414509</td>\n",
       "      <td>-0.637066</td>\n",
       "      <td>-0.114756</td>\n",
       "      <td>0.385837</td>\n",
       "      <td>0.800015</td>\n",
       "      <td>-0.557012</td>\n",
       "      <td>0.663522</td>\n",
       "      <td>-0.330399</td>\n",
       "    </tr>\n",
       "    <tr>\n",
       "      <th>3705</th>\n",
       "      <td>-0.250308</td>\n",
       "      <td>-0.250198</td>\n",
       "      <td>-0.293156</td>\n",
       "      <td>-0.293808</td>\n",
       "      <td>-0.717831</td>\n",
       "      <td>-0.251804</td>\n",
       "      <td>-0.194180</td>\n",
       "      <td>-0.553194</td>\n",
       "      <td>0.800015</td>\n",
       "      <td>-0.557012</td>\n",
       "      <td>0.663522</td>\n",
       "      <td>-0.944638</td>\n",
       "    </tr>\n",
       "    <tr>\n",
       "      <th>3706</th>\n",
       "      <td>-0.250308</td>\n",
       "      <td>-0.250198</td>\n",
       "      <td>-0.293156</td>\n",
       "      <td>-0.293808</td>\n",
       "      <td>0.343797</td>\n",
       "      <td>-0.396278</td>\n",
       "      <td>0.600067</td>\n",
       "      <td>-0.135847</td>\n",
       "      <td>0.800015</td>\n",
       "      <td>1.497026</td>\n",
       "      <td>-1.920339</td>\n",
       "      <td>-0.330399</td>\n",
       "    </tr>\n",
       "    <tr>\n",
       "      <th>3707</th>\n",
       "      <td>-0.250308</td>\n",
       "      <td>-0.250198</td>\n",
       "      <td>-0.293156</td>\n",
       "      <td>-0.293808</td>\n",
       "      <td>0.546011</td>\n",
       "      <td>0.326089</td>\n",
       "      <td>0.679491</td>\n",
       "      <td>0.490174</td>\n",
       "      <td>0.800015</td>\n",
       "      <td>0.563373</td>\n",
       "      <td>1.180295</td>\n",
       "      <td>-0.330399</td>\n",
       "    </tr>\n",
       "    <tr>\n",
       "      <th>3708</th>\n",
       "      <td>1.917495</td>\n",
       "      <td>1.927500</td>\n",
       "      <td>1.631678</td>\n",
       "      <td>1.701063</td>\n",
       "      <td>-3.144408</td>\n",
       "      <td>-2.996797</td>\n",
       "      <td>-2.497497</td>\n",
       "      <td>-2.952943</td>\n",
       "      <td>0.800015</td>\n",
       "      <td>-0.743743</td>\n",
       "      <td>-1.920339</td>\n",
       "      <td>2.126557</td>\n",
       "    </tr>\n",
       "  </tbody>\n",
       "</table>\n",
       "<p>3709 rows × 12 columns</p>\n",
       "</div>"
      ],
      "text/plain": [
       "      DISAPPROVALS_BL  DISAPPROVALS_EN  DISAPPROVALS_FM  DISAPPROVALS_OM  \\\n",
       "0           -0.250308        -0.250198        -0.293156        -0.293808   \n",
       "1           -0.250308        -0.250198        -0.293156        -0.293808   \n",
       "2           -0.250308        -0.250198        -0.293156        -0.293808   \n",
       "3           -0.250308        -0.250198        -0.293156        -0.293808   \n",
       "4           -0.250308        -0.250198        -0.293156        -0.293808   \n",
       "...               ...              ...              ...              ...   \n",
       "3704        -0.250308        -0.250198        -0.293156        -0.293808   \n",
       "3705        -0.250308        -0.250198        -0.293156        -0.293808   \n",
       "3706        -0.250308        -0.250198        -0.293156        -0.293808   \n",
       "3707        -0.250308        -0.250198        -0.293156        -0.293808   \n",
       "3708         1.917495         1.927500         1.631678         1.701063   \n",
       "\n",
       "       NOTE_BL   NOTE_EN   NOTE_FM   NOTE_OM   ENGLISH  H_CLASS_PRES  \\\n",
       "0    -0.262848 -0.059173 -0.591304 -0.396689  0.800015     -0.743743   \n",
       "1     0.394350  0.037142  0.361792 -0.396689 -1.385902      0.750103   \n",
       "2     0.849333  0.855824  0.798628 -0.135847  0.800015      0.003180   \n",
       "3     0.091028 -0.059173 -0.591304  0.072827  0.800015     -0.930473   \n",
       "4     0.242689  0.181616 -0.114756 -0.135847  0.800015     -0.930473   \n",
       "...        ...       ...       ...       ...       ...           ...   \n",
       "3704 -0.414509 -0.637066 -0.114756  0.385837  0.800015     -0.557012   \n",
       "3705 -0.717831 -0.251804 -0.194180 -0.553194  0.800015     -0.557012   \n",
       "3706  0.343797 -0.396278  0.600067 -0.135847  0.800015      1.497026   \n",
       "3707  0.546011  0.326089  0.679491  0.490174  0.800015      0.563373   \n",
       "3708 -3.144408 -2.996797 -2.497497 -2.952943  0.800015     -0.743743   \n",
       "\n",
       "      ONLINE_TASKS  ABSENCES  \n",
       "0        -0.886794 -0.330399  \n",
       "1         0.146750 -0.944638  \n",
       "2         0.663522 -0.330399  \n",
       "3        -0.886794  0.283840  \n",
       "4        -0.370022 -0.330399  \n",
       "...            ...       ...  \n",
       "3704      0.663522 -0.330399  \n",
       "3705      0.663522 -0.944638  \n",
       "3706     -1.920339 -0.330399  \n",
       "3707      1.180295 -0.330399  \n",
       "3708     -1.920339  2.126557  \n",
       "\n",
       "[3709 rows x 12 columns]"
      ]
     },
     "execution_count": 35,
     "metadata": {},
     "output_type": "execute_result"
    }
   ],
   "source": [
    "x_test_norm"
   ]
  },
  {
   "cell_type": "code",
   "execution_count": 42,
   "metadata": {},
   "outputs": [],
   "source": [
    "model4 = tree.fit(x_train_norm, y_train)"
   ]
  },
  {
   "cell_type": "code",
   "execution_count": 43,
   "metadata": {},
   "outputs": [
    {
     "data": {
      "text/plain": [
       "1.0"
      ]
     },
     "execution_count": 43,
     "metadata": {},
     "output_type": "execute_result"
    }
   ],
   "source": [
    "predict4= model_norm.predict(x_train_norm)\n",
    "accuracy_score(y_train, predict_n)"
   ]
  },
  {
   "cell_type": "code",
   "execution_count": 44,
   "metadata": {},
   "outputs": [
    {
     "data": {
      "text/plain": [
       "0.6931787543812349"
      ]
     },
     "execution_count": 44,
     "metadata": {},
     "output_type": "execute_result"
    }
   ],
   "source": [
    "pred4= model4.predict(x_test_norm)\n",
    "accuracy_score(y_test, pred_norm)"
   ]
  },
  {
   "cell_type": "code",
   "execution_count": 45,
   "metadata": {},
   "outputs": [],
   "source": [
    "model5= grid.fit(x_train_norm, y_train)"
   ]
  },
  {
   "cell_type": "code",
   "execution_count": 46,
   "metadata": {},
   "outputs": [
    {
     "data": {
      "text/plain": [
       "0.7580776787063623"
      ]
     },
     "execution_count": 46,
     "metadata": {},
     "output_type": "execute_result"
    }
   ],
   "source": [
    "model5.best_score_"
   ]
  },
  {
   "cell_type": "code",
   "execution_count": 47,
   "metadata": {},
   "outputs": [
    {
     "data": {
      "text/plain": [
       "{'criterion': 'gini', 'max_depth': 10}"
      ]
     },
     "execution_count": 47,
     "metadata": {},
     "output_type": "execute_result"
    }
   ],
   "source": [
    "model5.best_params_"
   ]
  },
  {
   "cell_type": "code",
   "execution_count": 48,
   "metadata": {},
   "outputs": [
    {
     "data": {
      "text/html": [
       "<div>\n",
       "<style scoped>\n",
       "    .dataframe tbody tr th:only-of-type {\n",
       "        vertical-align: middle;\n",
       "    }\n",
       "\n",
       "    .dataframe tbody tr th {\n",
       "        vertical-align: top;\n",
       "    }\n",
       "\n",
       "    .dataframe thead th {\n",
       "        text-align: right;\n",
       "    }\n",
       "</style>\n",
       "<table border=\"1\" class=\"dataframe\">\n",
       "  <thead>\n",
       "    <tr style=\"text-align: right;\">\n",
       "      <th></th>\n",
       "      <th>param_criterion</th>\n",
       "      <th>param_max_depth</th>\n",
       "      <th>mean_test_score</th>\n",
       "      <th>std_test_score</th>\n",
       "      <th>rank_test_score</th>\n",
       "    </tr>\n",
       "  </thead>\n",
       "  <tbody>\n",
       "    <tr>\n",
       "      <th>0</th>\n",
       "      <td>gini</td>\n",
       "      <td>2</td>\n",
       "      <td>0.639323</td>\n",
       "      <td>0.003972</td>\n",
       "      <td>18</td>\n",
       "    </tr>\n",
       "    <tr>\n",
       "      <th>1</th>\n",
       "      <td>gini</td>\n",
       "      <td>3</td>\n",
       "      <td>0.661780</td>\n",
       "      <td>0.007672</td>\n",
       "      <td>16</td>\n",
       "    </tr>\n",
       "    <tr>\n",
       "      <th>2</th>\n",
       "      <td>gini</td>\n",
       "      <td>4</td>\n",
       "      <td>0.691068</td>\n",
       "      <td>0.009264</td>\n",
       "      <td>13</td>\n",
       "    </tr>\n",
       "    <tr>\n",
       "      <th>3</th>\n",
       "      <td>gini</td>\n",
       "      <td>5</td>\n",
       "      <td>0.699955</td>\n",
       "      <td>0.009329</td>\n",
       "      <td>11</td>\n",
       "    </tr>\n",
       "    <tr>\n",
       "      <th>4</th>\n",
       "      <td>gini</td>\n",
       "      <td>6</td>\n",
       "      <td>0.708841</td>\n",
       "      <td>0.010807</td>\n",
       "      <td>10</td>\n",
       "    </tr>\n",
       "    <tr>\n",
       "      <th>5</th>\n",
       "      <td>gini</td>\n",
       "      <td>7</td>\n",
       "      <td>0.720750</td>\n",
       "      <td>0.013193</td>\n",
       "      <td>7</td>\n",
       "    </tr>\n",
       "    <tr>\n",
       "      <th>6</th>\n",
       "      <td>gini</td>\n",
       "      <td>8</td>\n",
       "      <td>0.730089</td>\n",
       "      <td>0.011515</td>\n",
       "      <td>5</td>\n",
       "    </tr>\n",
       "    <tr>\n",
       "      <th>7</th>\n",
       "      <td>gini</td>\n",
       "      <td>9</td>\n",
       "      <td>0.743267</td>\n",
       "      <td>0.014171</td>\n",
       "      <td>3</td>\n",
       "    </tr>\n",
       "    <tr>\n",
       "      <th>8</th>\n",
       "      <td>gini</td>\n",
       "      <td>10</td>\n",
       "      <td>0.758078</td>\n",
       "      <td>0.011882</td>\n",
       "      <td>1</td>\n",
       "    </tr>\n",
       "    <tr>\n",
       "      <th>9</th>\n",
       "      <td>entropy</td>\n",
       "      <td>2</td>\n",
       "      <td>0.639383</td>\n",
       "      <td>0.003861</td>\n",
       "      <td>17</td>\n",
       "    </tr>\n",
       "    <tr>\n",
       "      <th>10</th>\n",
       "      <td>entropy</td>\n",
       "      <td>3</td>\n",
       "      <td>0.662385</td>\n",
       "      <td>0.006634</td>\n",
       "      <td>15</td>\n",
       "    </tr>\n",
       "    <tr>\n",
       "      <th>11</th>\n",
       "      <td>entropy</td>\n",
       "      <td>4</td>\n",
       "      <td>0.686595</td>\n",
       "      <td>0.007266</td>\n",
       "      <td>14</td>\n",
       "    </tr>\n",
       "    <tr>\n",
       "      <th>12</th>\n",
       "      <td>entropy</td>\n",
       "      <td>5</td>\n",
       "      <td>0.698383</td>\n",
       "      <td>0.006496</td>\n",
       "      <td>12</td>\n",
       "    </tr>\n",
       "    <tr>\n",
       "      <th>13</th>\n",
       "      <td>entropy</td>\n",
       "      <td>6</td>\n",
       "      <td>0.711561</td>\n",
       "      <td>0.008045</td>\n",
       "      <td>9</td>\n",
       "    </tr>\n",
       "    <tr>\n",
       "      <th>14</th>\n",
       "      <td>entropy</td>\n",
       "      <td>7</td>\n",
       "      <td>0.719178</td>\n",
       "      <td>0.009876</td>\n",
       "      <td>8</td>\n",
       "    </tr>\n",
       "    <tr>\n",
       "      <th>15</th>\n",
       "      <td>entropy</td>\n",
       "      <td>8</td>\n",
       "      <td>0.727580</td>\n",
       "      <td>0.010510</td>\n",
       "      <td>6</td>\n",
       "    </tr>\n",
       "    <tr>\n",
       "      <th>16</th>\n",
       "      <td>entropy</td>\n",
       "      <td>9</td>\n",
       "      <td>0.739791</td>\n",
       "      <td>0.012109</td>\n",
       "      <td>4</td>\n",
       "    </tr>\n",
       "    <tr>\n",
       "      <th>17</th>\n",
       "      <td>entropy</td>\n",
       "      <td>10</td>\n",
       "      <td>0.752516</td>\n",
       "      <td>0.012294</td>\n",
       "      <td>2</td>\n",
       "    </tr>\n",
       "  </tbody>\n",
       "</table>\n",
       "</div>"
      ],
      "text/plain": [
       "   param_criterion param_max_depth  mean_test_score  std_test_score  \\\n",
       "0             gini               2         0.639323        0.003972   \n",
       "1             gini               3         0.661780        0.007672   \n",
       "2             gini               4         0.691068        0.009264   \n",
       "3             gini               5         0.699955        0.009329   \n",
       "4             gini               6         0.708841        0.010807   \n",
       "5             gini               7         0.720750        0.013193   \n",
       "6             gini               8         0.730089        0.011515   \n",
       "7             gini               9         0.743267        0.014171   \n",
       "8             gini              10         0.758078        0.011882   \n",
       "9          entropy               2         0.639383        0.003861   \n",
       "10         entropy               3         0.662385        0.006634   \n",
       "11         entropy               4         0.686595        0.007266   \n",
       "12         entropy               5         0.698383        0.006496   \n",
       "13         entropy               6         0.711561        0.008045   \n",
       "14         entropy               7         0.719178        0.009876   \n",
       "15         entropy               8         0.727580        0.010510   \n",
       "16         entropy               9         0.739791        0.012109   \n",
       "17         entropy              10         0.752516        0.012294   \n",
       "\n",
       "    rank_test_score  \n",
       "0                18  \n",
       "1                16  \n",
       "2                13  \n",
       "3                11  \n",
       "4                10  \n",
       "5                 7  \n",
       "6                 5  \n",
       "7                 3  \n",
       "8                 1  \n",
       "9                17  \n",
       "10               15  \n",
       "11               14  \n",
       "12               12  \n",
       "13                9  \n",
       "14                8  \n",
       "15                6  \n",
       "16                4  \n",
       "17                2  "
      ]
     },
     "execution_count": 48,
     "metadata": {},
     "output_type": "execute_result"
    }
   ],
   "source": [
    "grid_norm= pd.DataFrame(model2_norm.cv_results_)\n",
    "result= grid_norm[[\"param_criterion\", \"param_max_depth\", \"mean_test_score\",\n",
    "              \"std_test_score\", \"rank_test_score\" ]]     \n",
    "result"
   ]
  },
  {
   "cell_type": "code",
   "execution_count": 49,
   "metadata": {},
   "outputs": [
    {
     "data": {
      "text/plain": [
       "0.7217578862227015"
      ]
     },
     "execution_count": 49,
     "metadata": {},
     "output_type": "execute_result"
    }
   ],
   "source": [
    "pred5= model2_norm.predict(x_test_norm)\n",
    "accuracy_score(y_test, pred2_norm)"
   ]
  },
  {
   "cell_type": "code",
   "execution_count": 50,
   "metadata": {},
   "outputs": [],
   "source": [
    "model6= grid2.fit(x_train_norm, y_train)"
   ]
  },
  {
   "cell_type": "code",
   "execution_count": 51,
   "metadata": {},
   "outputs": [
    {
     "data": {
      "text/plain": [
       "{'criterion': 'gini',\n",
       " 'max_depth': 12,\n",
       " 'min_samples_leaf': 3,\n",
       " 'min_samples_split': 5}"
      ]
     },
     "execution_count": 51,
     "metadata": {},
     "output_type": "execute_result"
    }
   ],
   "source": [
    "model6.best_params_"
   ]
  },
  {
   "cell_type": "code",
   "execution_count": 52,
   "metadata": {},
   "outputs": [
    {
     "data": {
      "text/plain": [
       "0.7811092640169262"
      ]
     },
     "execution_count": 52,
     "metadata": {},
     "output_type": "execute_result"
    }
   ],
   "source": [
    "model6.best_score_"
   ]
  },
  {
   "cell_type": "code",
   "execution_count": 53,
   "metadata": {},
   "outputs": [
    {
     "data": {
      "text/plain": [
       "0.7198705850633594"
      ]
     },
     "execution_count": 53,
     "metadata": {},
     "output_type": "execute_result"
    }
   ],
   "source": [
    "pred6= model3_norm.predict(x_test_norm)\n",
    "accuracy_score(y_test, pred3_norm)"
   ]
  },
  {
   "cell_type": "markdown",
   "metadata": {},
   "source": [
    "<font color=\"red\"> Loading pca training and testing data</font>"
   ]
  },
  {
   "cell_type": "code",
   "execution_count": 65,
   "metadata": {},
   "outputs": [],
   "source": [
    "x_trainpca= pd.read_csv(\"Data/xtrain_pca.csv\")\n",
    "x_testpca= pd.read_csv(\"Data/xtest_pca.csv\")"
   ]
  },
  {
   "cell_type": "code",
   "execution_count": 66,
   "metadata": {},
   "outputs": [
    {
     "data": {
      "text/html": [
       "<div>\n",
       "<style scoped>\n",
       "    .dataframe tbody tr th:only-of-type {\n",
       "        vertical-align: middle;\n",
       "    }\n",
       "\n",
       "    .dataframe tbody tr th {\n",
       "        vertical-align: top;\n",
       "    }\n",
       "\n",
       "    .dataframe thead th {\n",
       "        text-align: right;\n",
       "    }\n",
       "</style>\n",
       "<table border=\"1\" class=\"dataframe\">\n",
       "  <thead>\n",
       "    <tr style=\"text-align: right;\">\n",
       "      <th></th>\n",
       "      <th>0</th>\n",
       "      <th>1</th>\n",
       "      <th>2</th>\n",
       "      <th>3</th>\n",
       "      <th>PROFILE_N</th>\n",
       "    </tr>\n",
       "  </thead>\n",
       "  <tbody>\n",
       "    <tr>\n",
       "      <th>0</th>\n",
       "      <td>-1.575681</td>\n",
       "      <td>-2.435701</td>\n",
       "      <td>-1.940061</td>\n",
       "      <td>0.124467</td>\n",
       "      <td>2.0</td>\n",
       "    </tr>\n",
       "    <tr>\n",
       "      <th>1</th>\n",
       "      <td>1.835935</td>\n",
       "      <td>-2.920650</td>\n",
       "      <td>2.098848</td>\n",
       "      <td>-0.757466</td>\n",
       "      <td>3.0</td>\n",
       "    </tr>\n",
       "    <tr>\n",
       "      <th>2</th>\n",
       "      <td>-7.857390</td>\n",
       "      <td>7.418531</td>\n",
       "      <td>-1.736708</td>\n",
       "      <td>-0.448283</td>\n",
       "      <td>1.0</td>\n",
       "    </tr>\n",
       "    <tr>\n",
       "      <th>3</th>\n",
       "      <td>-7.630789</td>\n",
       "      <td>7.843443</td>\n",
       "      <td>0.637897</td>\n",
       "      <td>-0.460358</td>\n",
       "      <td>1.0</td>\n",
       "    </tr>\n",
       "    <tr>\n",
       "      <th>4</th>\n",
       "      <td>2.249076</td>\n",
       "      <td>-3.057006</td>\n",
       "      <td>0.920320</td>\n",
       "      <td>-0.142734</td>\n",
       "      <td>3.0</td>\n",
       "    </tr>\n",
       "    <tr>\n",
       "      <th>...</th>\n",
       "      <td>...</td>\n",
       "      <td>...</td>\n",
       "      <td>...</td>\n",
       "      <td>...</td>\n",
       "      <td>...</td>\n",
       "    </tr>\n",
       "    <tr>\n",
       "      <th>32710</th>\n",
       "      <td>9.946353</td>\n",
       "      <td>0.650680</td>\n",
       "      <td>0.830226</td>\n",
       "      <td>-1.085142</td>\n",
       "      <td>5.0</td>\n",
       "    </tr>\n",
       "    <tr>\n",
       "      <th>32711</th>\n",
       "      <td>4.734239</td>\n",
       "      <td>-1.910591</td>\n",
       "      <td>-1.265020</td>\n",
       "      <td>0.623513</td>\n",
       "      <td>5.0</td>\n",
       "    </tr>\n",
       "    <tr>\n",
       "      <th>32712</th>\n",
       "      <td>12.490218</td>\n",
       "      <td>4.574944</td>\n",
       "      <td>-0.440892</td>\n",
       "      <td>-0.435939</td>\n",
       "      <td>5.0</td>\n",
       "    </tr>\n",
       "    <tr>\n",
       "      <th>32713</th>\n",
       "      <td>12.932957</td>\n",
       "      <td>3.946119</td>\n",
       "      <td>-1.609262</td>\n",
       "      <td>-0.648761</td>\n",
       "      <td>5.0</td>\n",
       "    </tr>\n",
       "    <tr>\n",
       "      <th>32714</th>\n",
       "      <td>3.216654</td>\n",
       "      <td>-4.023506</td>\n",
       "      <td>-3.324250</td>\n",
       "      <td>-1.110163</td>\n",
       "      <td>5.0</td>\n",
       "    </tr>\n",
       "  </tbody>\n",
       "</table>\n",
       "<p>32715 rows × 5 columns</p>\n",
       "</div>"
      ],
      "text/plain": [
       "               0         1         2         3  PROFILE_N\n",
       "0      -1.575681 -2.435701 -1.940061  0.124467        2.0\n",
       "1       1.835935 -2.920650  2.098848 -0.757466        3.0\n",
       "2      -7.857390  7.418531 -1.736708 -0.448283        1.0\n",
       "3      -7.630789  7.843443  0.637897 -0.460358        1.0\n",
       "4       2.249076 -3.057006  0.920320 -0.142734        3.0\n",
       "...          ...       ...       ...       ...        ...\n",
       "32710   9.946353  0.650680  0.830226 -1.085142        5.0\n",
       "32711   4.734239 -1.910591 -1.265020  0.623513        5.0\n",
       "32712  12.490218  4.574944 -0.440892 -0.435939        5.0\n",
       "32713  12.932957  3.946119 -1.609262 -0.648761        5.0\n",
       "32714   3.216654 -4.023506 -3.324250 -1.110163        5.0\n",
       "\n",
       "[32715 rows x 5 columns]"
      ]
     },
     "execution_count": 66,
     "metadata": {},
     "output_type": "execute_result"
    }
   ],
   "source": [
    "x_trainpca"
   ]
  },
  {
   "cell_type": "code",
   "execution_count": 67,
   "metadata": {},
   "outputs": [],
   "source": [
    "xpca= x_testpca.drop([\"PROFILE_N\"], axis= 1)\n",
    "ypca= x_testpca.PROFILE_N "
   ]
  },
  {
   "cell_type": "code",
   "execution_count": 68,
   "metadata": {},
   "outputs": [
    {
     "data": {
      "text/html": [
       "<div>\n",
       "<style scoped>\n",
       "    .dataframe tbody tr th:only-of-type {\n",
       "        vertical-align: middle;\n",
       "    }\n",
       "\n",
       "    .dataframe tbody tr th {\n",
       "        vertical-align: top;\n",
       "    }\n",
       "\n",
       "    .dataframe thead th {\n",
       "        text-align: right;\n",
       "    }\n",
       "</style>\n",
       "<table border=\"1\" class=\"dataframe\">\n",
       "  <thead>\n",
       "    <tr style=\"text-align: right;\">\n",
       "      <th></th>\n",
       "      <th>0</th>\n",
       "      <th>1</th>\n",
       "      <th>2</th>\n",
       "      <th>3</th>\n",
       "    </tr>\n",
       "  </thead>\n",
       "  <tbody>\n",
       "    <tr>\n",
       "      <th>0</th>\n",
       "      <td>-1.388728</td>\n",
       "      <td>-1.965118</td>\n",
       "      <td>0.436214</td>\n",
       "      <td>-0.104563</td>\n",
       "    </tr>\n",
       "    <tr>\n",
       "      <th>1</th>\n",
       "      <td>0.375220</td>\n",
       "      <td>-4.352072</td>\n",
       "      <td>-2.525721</td>\n",
       "      <td>0.259981</td>\n",
       "    </tr>\n",
       "    <tr>\n",
       "      <th>2</th>\n",
       "      <td>1.984599</td>\n",
       "      <td>1.056485</td>\n",
       "      <td>2.784133</td>\n",
       "      <td>0.639217</td>\n",
       "    </tr>\n",
       "    <tr>\n",
       "      <th>3</th>\n",
       "      <td>10.009216</td>\n",
       "      <td>4.140566</td>\n",
       "      <td>-0.213733</td>\n",
       "      <td>-0.559644</td>\n",
       "    </tr>\n",
       "    <tr>\n",
       "      <th>4</th>\n",
       "      <td>0.425236</td>\n",
       "      <td>-2.037004</td>\n",
       "      <td>-0.592006</td>\n",
       "      <td>0.387378</td>\n",
       "    </tr>\n",
       "    <tr>\n",
       "      <th>...</th>\n",
       "      <td>...</td>\n",
       "      <td>...</td>\n",
       "      <td>...</td>\n",
       "      <td>...</td>\n",
       "    </tr>\n",
       "    <tr>\n",
       "      <th>3704</th>\n",
       "      <td>2.563085</td>\n",
       "      <td>-2.347213</td>\n",
       "      <td>-1.841070</td>\n",
       "      <td>-1.330054</td>\n",
       "    </tr>\n",
       "    <tr>\n",
       "      <th>3705</th>\n",
       "      <td>-0.479269</td>\n",
       "      <td>-1.592704</td>\n",
       "      <td>1.132477</td>\n",
       "      <td>0.184089</td>\n",
       "    </tr>\n",
       "    <tr>\n",
       "      <th>3706</th>\n",
       "      <td>11.076587</td>\n",
       "      <td>3.654155</td>\n",
       "      <td>-2.052433</td>\n",
       "      <td>-0.324103</td>\n",
       "    </tr>\n",
       "    <tr>\n",
       "      <th>3707</th>\n",
       "      <td>1.777712</td>\n",
       "      <td>-3.647713</td>\n",
       "      <td>-0.128878</td>\n",
       "      <td>0.042614</td>\n",
       "    </tr>\n",
       "    <tr>\n",
       "      <th>3708</th>\n",
       "      <td>5.630604</td>\n",
       "      <td>-0.029273</td>\n",
       "      <td>-0.843198</td>\n",
       "      <td>1.328439</td>\n",
       "    </tr>\n",
       "  </tbody>\n",
       "</table>\n",
       "<p>3709 rows × 4 columns</p>\n",
       "</div>"
      ],
      "text/plain": [
       "              0         1         2         3\n",
       "0     -1.388728 -1.965118  0.436214 -0.104563\n",
       "1      0.375220 -4.352072 -2.525721  0.259981\n",
       "2      1.984599  1.056485  2.784133  0.639217\n",
       "3     10.009216  4.140566 -0.213733 -0.559644\n",
       "4      0.425236 -2.037004 -0.592006  0.387378\n",
       "...         ...       ...       ...       ...\n",
       "3704   2.563085 -2.347213 -1.841070 -1.330054\n",
       "3705  -0.479269 -1.592704  1.132477  0.184089\n",
       "3706  11.076587  3.654155 -2.052433 -0.324103\n",
       "3707   1.777712 -3.647713 -0.128878  0.042614\n",
       "3708   5.630604 -0.029273 -0.843198  1.328439\n",
       "\n",
       "[3709 rows x 4 columns]"
      ]
     },
     "execution_count": 68,
     "metadata": {},
     "output_type": "execute_result"
    }
   ],
   "source": [
    "xpca"
   ]
  },
  {
   "cell_type": "code",
   "execution_count": 69,
   "metadata": {},
   "outputs": [
    {
     "data": {
      "text/plain": [
       "0       1.0\n",
       "1       4.0\n",
       "2       2.0\n",
       "3       3.0\n",
       "4       2.0\n",
       "       ... \n",
       "3704    3.0\n",
       "3705    2.0\n",
       "3706    4.0\n",
       "3707    3.0\n",
       "3708    4.0\n",
       "Name: PROFILE_N, Length: 3709, dtype: float64"
      ]
     },
     "execution_count": 69,
     "metadata": {},
     "output_type": "execute_result"
    }
   ],
   "source": [
    "ypca"
   ]
  },
  {
   "cell_type": "code",
   "execution_count": 70,
   "metadata": {},
   "outputs": [],
   "source": [
    "x= x_trainpca.iloc[:, 0:4]\n",
    "y= x_trainpca.PROFILE_N"
   ]
  },
  {
   "cell_type": "code",
   "execution_count": 71,
   "metadata": {},
   "outputs": [],
   "source": [
    "model7= tree.fit(x, y)"
   ]
  },
  {
   "cell_type": "code",
   "execution_count": 72,
   "metadata": {},
   "outputs": [
    {
     "data": {
      "text/plain": [
       "1.0"
      ]
     },
     "execution_count": 72,
     "metadata": {},
     "output_type": "execute_result"
    }
   ],
   "source": [
    "predict_pca= model7.predict(x)\n",
    "accuracy_score(y, predict_pca)"
   ]
  },
  {
   "cell_type": "code",
   "execution_count": 74,
   "metadata": {},
   "outputs": [
    {
     "data": {
      "text/plain": [
       "0.6044755998921543"
      ]
     },
     "execution_count": 74,
     "metadata": {},
     "output_type": "execute_result"
    }
   ],
   "source": [
    "pred_pca= model7.predict(xpca)\n",
    "accuracy_score(ypca, pred_pca)"
   ]
  },
  {
   "cell_type": "code",
   "execution_count": 79,
   "metadata": {},
   "outputs": [],
   "source": [
    "model8= grid.fit(x, y)"
   ]
  },
  {
   "cell_type": "code",
   "execution_count": 80,
   "metadata": {},
   "outputs": [
    {
     "data": {
      "text/plain": [
       "{'criterion': 'gini', 'max_depth': 10}"
      ]
     },
     "execution_count": 80,
     "metadata": {},
     "output_type": "execute_result"
    }
   ],
   "source": [
    "model8.best_params_"
   ]
  },
  {
   "cell_type": "code",
   "execution_count": 81,
   "metadata": {},
   "outputs": [
    {
     "data": {
      "text/plain": [
       "0.6893168271435122"
      ]
     },
     "execution_count": 81,
     "metadata": {},
     "output_type": "execute_result"
    }
   ],
   "source": [
    "model8.best_score_"
   ]
  },
  {
   "cell_type": "code",
   "execution_count": 83,
   "metadata": {},
   "outputs": [
    {
     "data": {
      "text/plain": [
       "0.6317066594769479"
      ]
     },
     "execution_count": 83,
     "metadata": {},
     "output_type": "execute_result"
    }
   ],
   "source": [
    "pred8= model2_pca.predict(xpca)\n",
    "accuracy_score(ypca, pred2_pca)"
   ]
  },
  {
   "cell_type": "code",
   "execution_count": 84,
   "metadata": {},
   "outputs": [],
   "source": [
    "model9= grid2.fit(x, y)"
   ]
  },
  {
   "cell_type": "code",
   "execution_count": 85,
   "metadata": {},
   "outputs": [
    {
     "data": {
      "text/plain": [
       "{'criterion': 'gini',\n",
       " 'max_depth': 12,\n",
       " 'min_samples_leaf': 2,\n",
       " 'min_samples_split': 2}"
      ]
     },
     "execution_count": 85,
     "metadata": {},
     "output_type": "execute_result"
    }
   ],
   "source": [
    "model9.best_params_"
   ]
  },
  {
   "cell_type": "code",
   "execution_count": 86,
   "metadata": {},
   "outputs": [
    {
     "data": {
      "text/plain": [
       "0.7186611646033929"
      ]
     },
     "execution_count": 86,
     "metadata": {},
     "output_type": "execute_result"
    }
   ],
   "source": [
    "model9.best_score_"
   ]
  },
  {
   "cell_type": "code",
   "execution_count": 88,
   "metadata": {},
   "outputs": [
    {
     "data": {
      "text/plain": [
       "0.6400647074683203"
      ]
     },
     "execution_count": 88,
     "metadata": {},
     "output_type": "execute_result"
    }
   ],
   "source": [
    "pred9= model3_pca.predict(xpca)\n",
    "accuracy_score(ypca, pred3_pca)"
   ]
  },
  {
   "cell_type": "markdown",
   "metadata": {},
   "source": [
    "<font color=\"brow\">New tests with data from preprocessing2</font>"
   ]
  },
  {
   "cell_type": "code",
   "execution_count": 16,
   "metadata": {},
   "outputs": [],
   "source": [
    "from sklearn.model_selection import train_test_split\n",
    "from sklearn.preprocessing import StandardScaler\n",
    "from sklearn.pipeline import Pipeline\n",
    "from imblearn.over_sampling import SMOTE"
   ]
  },
  {
   "cell_type": "code",
   "execution_count": 17,
   "metadata": {},
   "outputs": [
    {
     "data": {
      "text/plain": [
       "(18545, 23)"
      ]
     },
     "execution_count": 17,
     "metadata": {},
     "output_type": "execute_result"
    }
   ],
   "source": [
    "df= pd.read_csv(\"Data/data3.csv\")\n",
    "df.shape"
   ]
  },
  {
   "cell_type": "code",
   "execution_count": 18,
   "metadata": {},
   "outputs": [
    {
     "data": {
      "text/html": [
       "<div>\n",
       "<style scoped>\n",
       "    .dataframe tbody tr th:only-of-type {\n",
       "        vertical-align: middle;\n",
       "    }\n",
       "\n",
       "    .dataframe tbody tr th {\n",
       "        vertical-align: top;\n",
       "    }\n",
       "\n",
       "    .dataframe thead th {\n",
       "        text-align: right;\n",
       "    }\n",
       "</style>\n",
       "<table border=\"1\" class=\"dataframe\">\n",
       "  <thead>\n",
       "    <tr style=\"text-align: right;\">\n",
       "      <th></th>\n",
       "      <th>DISAPPROVALS_BL</th>\n",
       "      <th>DISAPPROVALS_EN</th>\n",
       "      <th>DISAPPROVALS_HUMAN</th>\n",
       "      <th>DISAPPROVALS_FM</th>\n",
       "      <th>DISAPPROVALS_OM</th>\n",
       "      <th>DISAPPROVALS_EXACTS</th>\n",
       "      <th>NOTE_BL</th>\n",
       "      <th>NOTE_EN</th>\n",
       "      <th>NOTE_FM</th>\n",
       "      <th>NOTE_OM</th>\n",
       "      <th>...</th>\n",
       "      <th>NOTE_OM_CAT</th>\n",
       "      <th>NOTE_BL_CAT_N</th>\n",
       "      <th>NOTE_EN_CAT_N</th>\n",
       "      <th>NOTE_FM_CAT_N</th>\n",
       "      <th>NOTE_OM_CAT_N</th>\n",
       "      <th>ENGLISH</th>\n",
       "      <th>H_CLASS_PRES</th>\n",
       "      <th>ONLINE_TASKS</th>\n",
       "      <th>ABSENCES</th>\n",
       "      <th>PROFILE_N</th>\n",
       "    </tr>\n",
       "  </thead>\n",
       "  <tbody>\n",
       "    <tr>\n",
       "      <th>0</th>\n",
       "      <td>0.0</td>\n",
       "      <td>0.0</td>\n",
       "      <td>0</td>\n",
       "      <td>0.0</td>\n",
       "      <td>0.0</td>\n",
       "      <td>0</td>\n",
       "      <td>6.2</td>\n",
       "      <td>5.8</td>\n",
       "      <td>4.6</td>\n",
       "      <td>5.9</td>\n",
       "      <td>...</td>\n",
       "      <td>(4, 6]</td>\n",
       "      <td>8</td>\n",
       "      <td>6</td>\n",
       "      <td>6</td>\n",
       "      <td>6</td>\n",
       "      <td>0.0</td>\n",
       "      <td>2.0</td>\n",
       "      <td>4.0</td>\n",
       "      <td>3.0</td>\n",
       "      <td>2.0</td>\n",
       "    </tr>\n",
       "    <tr>\n",
       "      <th>1</th>\n",
       "      <td>0.0</td>\n",
       "      <td>0.0</td>\n",
       "      <td>0</td>\n",
       "      <td>0.0</td>\n",
       "      <td>0.0</td>\n",
       "      <td>0</td>\n",
       "      <td>6.0</td>\n",
       "      <td>6.2</td>\n",
       "      <td>5.2</td>\n",
       "      <td>4.5</td>\n",
       "      <td>...</td>\n",
       "      <td>(4, 6]</td>\n",
       "      <td>6</td>\n",
       "      <td>8</td>\n",
       "      <td>6</td>\n",
       "      <td>6</td>\n",
       "      <td>1.0</td>\n",
       "      <td>2.0</td>\n",
       "      <td>4.0</td>\n",
       "      <td>3.0</td>\n",
       "      <td>2.0</td>\n",
       "    </tr>\n",
       "    <tr>\n",
       "      <th>2</th>\n",
       "      <td>0.0</td>\n",
       "      <td>0.0</td>\n",
       "      <td>0</td>\n",
       "      <td>0.0</td>\n",
       "      <td>0.0</td>\n",
       "      <td>0</td>\n",
       "      <td>7.3</td>\n",
       "      <td>6.7</td>\n",
       "      <td>7.1</td>\n",
       "      <td>7.2</td>\n",
       "      <td>...</td>\n",
       "      <td>(6, 8]</td>\n",
       "      <td>8</td>\n",
       "      <td>8</td>\n",
       "      <td>8</td>\n",
       "      <td>8</td>\n",
       "      <td>0.0</td>\n",
       "      <td>5.0</td>\n",
       "      <td>0.0</td>\n",
       "      <td>3.0</td>\n",
       "      <td>3.0</td>\n",
       "    </tr>\n",
       "    <tr>\n",
       "      <th>3</th>\n",
       "      <td>1.0</td>\n",
       "      <td>3.0</td>\n",
       "      <td>1</td>\n",
       "      <td>1.0</td>\n",
       "      <td>1.0</td>\n",
       "      <td>1</td>\n",
       "      <td>0.0</td>\n",
       "      <td>0.0</td>\n",
       "      <td>0.0</td>\n",
       "      <td>0.0</td>\n",
       "      <td>...</td>\n",
       "      <td>(-1, 2]</td>\n",
       "      <td>2</td>\n",
       "      <td>2</td>\n",
       "      <td>2</td>\n",
       "      <td>2</td>\n",
       "      <td>1.0</td>\n",
       "      <td>4.0</td>\n",
       "      <td>4.0</td>\n",
       "      <td>4.0</td>\n",
       "      <td>1.0</td>\n",
       "    </tr>\n",
       "    <tr>\n",
       "      <th>4</th>\n",
       "      <td>1.0</td>\n",
       "      <td>3.0</td>\n",
       "      <td>1</td>\n",
       "      <td>1.0</td>\n",
       "      <td>1.0</td>\n",
       "      <td>1</td>\n",
       "      <td>0.0</td>\n",
       "      <td>0.0</td>\n",
       "      <td>0.0</td>\n",
       "      <td>0.0</td>\n",
       "      <td>...</td>\n",
       "      <td>(-1, 2]</td>\n",
       "      <td>2</td>\n",
       "      <td>2</td>\n",
       "      <td>2</td>\n",
       "      <td>2</td>\n",
       "      <td>1.0</td>\n",
       "      <td>5.0</td>\n",
       "      <td>2.0</td>\n",
       "      <td>5.0</td>\n",
       "      <td>1.0</td>\n",
       "    </tr>\n",
       "    <tr>\n",
       "      <th>...</th>\n",
       "      <td>...</td>\n",
       "      <td>...</td>\n",
       "      <td>...</td>\n",
       "      <td>...</td>\n",
       "      <td>...</td>\n",
       "      <td>...</td>\n",
       "      <td>...</td>\n",
       "      <td>...</td>\n",
       "      <td>...</td>\n",
       "      <td>...</td>\n",
       "      <td>...</td>\n",
       "      <td>...</td>\n",
       "      <td>...</td>\n",
       "      <td>...</td>\n",
       "      <td>...</td>\n",
       "      <td>...</td>\n",
       "      <td>...</td>\n",
       "      <td>...</td>\n",
       "      <td>...</td>\n",
       "      <td>...</td>\n",
       "      <td>...</td>\n",
       "    </tr>\n",
       "    <tr>\n",
       "      <th>18540</th>\n",
       "      <td>1.0</td>\n",
       "      <td>1.0</td>\n",
       "      <td>1</td>\n",
       "      <td>1.0</td>\n",
       "      <td>1.0</td>\n",
       "      <td>1</td>\n",
       "      <td>0.0</td>\n",
       "      <td>0.0</td>\n",
       "      <td>0.0</td>\n",
       "      <td>0.0</td>\n",
       "      <td>...</td>\n",
       "      <td>(-1, 2]</td>\n",
       "      <td>2</td>\n",
       "      <td>2</td>\n",
       "      <td>2</td>\n",
       "      <td>2</td>\n",
       "      <td>1.0</td>\n",
       "      <td>20.0</td>\n",
       "      <td>4.0</td>\n",
       "      <td>4.0</td>\n",
       "      <td>1.0</td>\n",
       "    </tr>\n",
       "    <tr>\n",
       "      <th>18541</th>\n",
       "      <td>0.0</td>\n",
       "      <td>0.0</td>\n",
       "      <td>0</td>\n",
       "      <td>0.0</td>\n",
       "      <td>0.0</td>\n",
       "      <td>0</td>\n",
       "      <td>7.0</td>\n",
       "      <td>7.9</td>\n",
       "      <td>5.8</td>\n",
       "      <td>7.0</td>\n",
       "      <td>...</td>\n",
       "      <td>(6, 8]</td>\n",
       "      <td>8</td>\n",
       "      <td>8</td>\n",
       "      <td>6</td>\n",
       "      <td>8</td>\n",
       "      <td>1.0</td>\n",
       "      <td>9.0</td>\n",
       "      <td>5.0</td>\n",
       "      <td>6.0</td>\n",
       "      <td>2.0</td>\n",
       "    </tr>\n",
       "    <tr>\n",
       "      <th>18542</th>\n",
       "      <td>0.0</td>\n",
       "      <td>0.0</td>\n",
       "      <td>0</td>\n",
       "      <td>0.0</td>\n",
       "      <td>0.0</td>\n",
       "      <td>0</td>\n",
       "      <td>7.9</td>\n",
       "      <td>7.6</td>\n",
       "      <td>8.3</td>\n",
       "      <td>7.2</td>\n",
       "      <td>...</td>\n",
       "      <td>(6, 8]</td>\n",
       "      <td>8</td>\n",
       "      <td>8</td>\n",
       "      <td>10</td>\n",
       "      <td>8</td>\n",
       "      <td>1.0</td>\n",
       "      <td>8.0</td>\n",
       "      <td>3.0</td>\n",
       "      <td>1.0</td>\n",
       "      <td>5.0</td>\n",
       "    </tr>\n",
       "    <tr>\n",
       "      <th>18543</th>\n",
       "      <td>0.0</td>\n",
       "      <td>0.0</td>\n",
       "      <td>0</td>\n",
       "      <td>1.0</td>\n",
       "      <td>1.0</td>\n",
       "      <td>1</td>\n",
       "      <td>6.3</td>\n",
       "      <td>5.1</td>\n",
       "      <td>0.0</td>\n",
       "      <td>0.0</td>\n",
       "      <td>...</td>\n",
       "      <td>(-1, 2]</td>\n",
       "      <td>8</td>\n",
       "      <td>6</td>\n",
       "      <td>2</td>\n",
       "      <td>2</td>\n",
       "      <td>1.0</td>\n",
       "      <td>3.0</td>\n",
       "      <td>2.0</td>\n",
       "      <td>6.0</td>\n",
       "      <td>1.0</td>\n",
       "    </tr>\n",
       "    <tr>\n",
       "      <th>18544</th>\n",
       "      <td>0.0</td>\n",
       "      <td>0.0</td>\n",
       "      <td>0</td>\n",
       "      <td>1.0</td>\n",
       "      <td>1.0</td>\n",
       "      <td>1</td>\n",
       "      <td>7.0</td>\n",
       "      <td>7.3</td>\n",
       "      <td>0.0</td>\n",
       "      <td>0.0</td>\n",
       "      <td>...</td>\n",
       "      <td>(-1, 2]</td>\n",
       "      <td>8</td>\n",
       "      <td>8</td>\n",
       "      <td>2</td>\n",
       "      <td>2</td>\n",
       "      <td>1.0</td>\n",
       "      <td>3.0</td>\n",
       "      <td>0.0</td>\n",
       "      <td>6.0</td>\n",
       "      <td>1.0</td>\n",
       "    </tr>\n",
       "  </tbody>\n",
       "</table>\n",
       "<p>18545 rows × 23 columns</p>\n",
       "</div>"
      ],
      "text/plain": [
       "       DISAPPROVALS_BL  DISAPPROVALS_EN  DISAPPROVALS_HUMAN  DISAPPROVALS_FM  \\\n",
       "0                  0.0              0.0                   0              0.0   \n",
       "1                  0.0              0.0                   0              0.0   \n",
       "2                  0.0              0.0                   0              0.0   \n",
       "3                  1.0              3.0                   1              1.0   \n",
       "4                  1.0              3.0                   1              1.0   \n",
       "...                ...              ...                 ...              ...   \n",
       "18540              1.0              1.0                   1              1.0   \n",
       "18541              0.0              0.0                   0              0.0   \n",
       "18542              0.0              0.0                   0              0.0   \n",
       "18543              0.0              0.0                   0              1.0   \n",
       "18544              0.0              0.0                   0              1.0   \n",
       "\n",
       "       DISAPPROVALS_OM  DISAPPROVALS_EXACTS  NOTE_BL  NOTE_EN  NOTE_FM  \\\n",
       "0                  0.0                    0      6.2      5.8      4.6   \n",
       "1                  0.0                    0      6.0      6.2      5.2   \n",
       "2                  0.0                    0      7.3      6.7      7.1   \n",
       "3                  1.0                    1      0.0      0.0      0.0   \n",
       "4                  1.0                    1      0.0      0.0      0.0   \n",
       "...                ...                  ...      ...      ...      ...   \n",
       "18540              1.0                    1      0.0      0.0      0.0   \n",
       "18541              0.0                    0      7.0      7.9      5.8   \n",
       "18542              0.0                    0      7.9      7.6      8.3   \n",
       "18543              1.0                    1      6.3      5.1      0.0   \n",
       "18544              1.0                    1      7.0      7.3      0.0   \n",
       "\n",
       "       NOTE_OM  ... NOTE_OM_CAT NOTE_BL_CAT_N NOTE_EN_CAT_N NOTE_FM_CAT_N  \\\n",
       "0          5.9  ...      (4, 6]             8             6             6   \n",
       "1          4.5  ...      (4, 6]             6             8             6   \n",
       "2          7.2  ...      (6, 8]             8             8             8   \n",
       "3          0.0  ...     (-1, 2]             2             2             2   \n",
       "4          0.0  ...     (-1, 2]             2             2             2   \n",
       "...        ...  ...         ...           ...           ...           ...   \n",
       "18540      0.0  ...     (-1, 2]             2             2             2   \n",
       "18541      7.0  ...      (6, 8]             8             8             6   \n",
       "18542      7.2  ...      (6, 8]             8             8            10   \n",
       "18543      0.0  ...     (-1, 2]             8             6             2   \n",
       "18544      0.0  ...     (-1, 2]             8             8             2   \n",
       "\n",
       "       NOTE_OM_CAT_N  ENGLISH  H_CLASS_PRES  ONLINE_TASKS  ABSENCES  PROFILE_N  \n",
       "0                  6      0.0           2.0           4.0       3.0        2.0  \n",
       "1                  6      1.0           2.0           4.0       3.0        2.0  \n",
       "2                  8      0.0           5.0           0.0       3.0        3.0  \n",
       "3                  2      1.0           4.0           4.0       4.0        1.0  \n",
       "4                  2      1.0           5.0           2.0       5.0        1.0  \n",
       "...              ...      ...           ...           ...       ...        ...  \n",
       "18540              2      1.0          20.0           4.0       4.0        1.0  \n",
       "18541              8      1.0           9.0           5.0       6.0        2.0  \n",
       "18542              8      1.0           8.0           3.0       1.0        5.0  \n",
       "18543              2      1.0           3.0           2.0       6.0        1.0  \n",
       "18544              2      1.0           3.0           0.0       6.0        1.0  \n",
       "\n",
       "[18545 rows x 23 columns]"
      ]
     },
     "execution_count": 18,
     "metadata": {},
     "output_type": "execute_result"
    }
   ],
   "source": [
    "df"
   ]
  },
  {
   "cell_type": "code",
   "execution_count": 19,
   "metadata": {},
   "outputs": [
    {
     "data": {
      "text/plain": [
       "(18545, 19)"
      ]
     },
     "execution_count": 19,
     "metadata": {},
     "output_type": "execute_result"
    }
   ],
   "source": [
    "# Removing categorical variables and create new dataframe \n",
    "df1 = df.drop(['NOTE_BL_CAT', 'NOTE_EN_CAT', 'NOTE_FM_CAT', 'NOTE_OM_CAT'], axis= 1)\n",
    "df1.shape"
   ]
  },
  {
   "cell_type": "code",
   "execution_count": 20,
   "metadata": {},
   "outputs": [],
   "source": [
    "x = df1.iloc[:, 0:18]\n",
    "y = df1.PROFILE_N"
   ]
  },
  {
   "cell_type": "code",
   "execution_count": 21,
   "metadata": {},
   "outputs": [
    {
     "data": {
      "text/plain": [
       "DISAPPROVALS_BL        float64\n",
       "DISAPPROVALS_EN        float64\n",
       "DISAPPROVALS_HUMAN       int64\n",
       "DISAPPROVALS_FM        float64\n",
       "DISAPPROVALS_OM        float64\n",
       "DISAPPROVALS_EXACTS      int64\n",
       "NOTE_BL                float64\n",
       "NOTE_EN                float64\n",
       "NOTE_FM                float64\n",
       "NOTE_OM                float64\n",
       "NOTE_BL_CAT_N            int64\n",
       "NOTE_EN_CAT_N            int64\n",
       "NOTE_FM_CAT_N            int64\n",
       "NOTE_OM_CAT_N            int64\n",
       "ENGLISH                float64\n",
       "H_CLASS_PRES           float64\n",
       "ONLINE_TASKS           float64\n",
       "ABSENCES               float64\n",
       "dtype: object"
      ]
     },
     "execution_count": 21,
     "metadata": {},
     "output_type": "execute_result"
    }
   ],
   "source": [
    "x.dtypes"
   ]
  },
  {
   "cell_type": "code",
   "execution_count": 22,
   "metadata": {},
   "outputs": [
    {
     "data": {
      "text/plain": [
       "(18545,)"
      ]
     },
     "execution_count": 22,
     "metadata": {},
     "output_type": "execute_result"
    }
   ],
   "source": [
    "y.shape"
   ]
  },
  {
   "cell_type": "code",
   "execution_count": 95,
   "metadata": {},
   "outputs": [],
   "source": [
    "x_train, x_test, y_train, y_test = train_test_split(x, y, test_size= 0.2, random_state = 42)"
   ]
  },
  {
   "cell_type": "code",
   "execution_count": 96,
   "metadata": {},
   "outputs": [
    {
     "data": {
      "text/plain": [
       "(14836, 18)"
      ]
     },
     "execution_count": 96,
     "metadata": {},
     "output_type": "execute_result"
    }
   ],
   "source": [
    "x_train.shape"
   ]
  },
  {
   "cell_type": "code",
   "execution_count": 97,
   "metadata": {},
   "outputs": [
    {
     "data": {
      "text/plain": [
       "(14836,)"
      ]
     },
     "execution_count": 97,
     "metadata": {},
     "output_type": "execute_result"
    }
   ],
   "source": [
    "y_train.shape"
   ]
  },
  {
   "cell_type": "code",
   "execution_count": 67,
   "metadata": {},
   "outputs": [
    {
     "data": {
      "text/html": [
       "<div>\n",
       "<style scoped>\n",
       "    .dataframe tbody tr th:only-of-type {\n",
       "        vertical-align: middle;\n",
       "    }\n",
       "\n",
       "    .dataframe tbody tr th {\n",
       "        vertical-align: top;\n",
       "    }\n",
       "\n",
       "    .dataframe thead th {\n",
       "        text-align: right;\n",
       "    }\n",
       "</style>\n",
       "<table border=\"1\" class=\"dataframe\">\n",
       "  <thead>\n",
       "    <tr style=\"text-align: right;\">\n",
       "      <th></th>\n",
       "      <th>0</th>\n",
       "      <th>1</th>\n",
       "      <th>2</th>\n",
       "      <th>3</th>\n",
       "      <th>4</th>\n",
       "      <th>5</th>\n",
       "      <th>6</th>\n",
       "      <th>7</th>\n",
       "      <th>8</th>\n",
       "      <th>9</th>\n",
       "      <th>10</th>\n",
       "      <th>11</th>\n",
       "      <th>12</th>\n",
       "      <th>13</th>\n",
       "      <th>14</th>\n",
       "      <th>15</th>\n",
       "      <th>16</th>\n",
       "      <th>17</th>\n",
       "    </tr>\n",
       "  </thead>\n",
       "  <tbody>\n",
       "    <tr>\n",
       "      <th>12097</th>\n",
       "      <td>1.486801</td>\n",
       "      <td>1.490230</td>\n",
       "      <td>2.748448</td>\n",
       "      <td>1.226414</td>\n",
       "      <td>1.252298</td>\n",
       "      <td>2.306202</td>\n",
       "      <td>-2.582756</td>\n",
       "      <td>-2.499051</td>\n",
       "      <td>-2.090063</td>\n",
       "      <td>0.201204</td>\n",
       "      <td>-2.425672</td>\n",
       "      <td>-2.332441</td>\n",
       "      <td>-1.947328</td>\n",
       "      <td>-0.003114</td>\n",
       "      <td>0.654191</td>\n",
       "      <td>1.156439</td>\n",
       "      <td>-0.628955</td>\n",
       "      <td>-0.013615</td>\n",
       "    </tr>\n",
       "    <tr>\n",
       "      <th>11189</th>\n",
       "      <td>-0.310053</td>\n",
       "      <td>-0.310064</td>\n",
       "      <td>-0.363842</td>\n",
       "      <td>-0.367185</td>\n",
       "      <td>-0.367444</td>\n",
       "      <td>-0.433613</td>\n",
       "      <td>0.380493</td>\n",
       "      <td>0.526630</td>\n",
       "      <td>0.137098</td>\n",
       "      <td>0.151421</td>\n",
       "      <td>0.661845</td>\n",
       "      <td>0.757284</td>\n",
       "      <td>-0.107681</td>\n",
       "      <td>-0.003114</td>\n",
       "      <td>0.654191</td>\n",
       "      <td>-0.282643</td>\n",
       "      <td>-0.628955</td>\n",
       "      <td>1.180174</td>\n",
       "    </tr>\n",
       "    <tr>\n",
       "      <th>10351</th>\n",
       "      <td>-0.310053</td>\n",
       "      <td>-0.310064</td>\n",
       "      <td>-0.363842</td>\n",
       "      <td>-0.367185</td>\n",
       "      <td>-0.367444</td>\n",
       "      <td>-0.433613</td>\n",
       "      <td>0.241590</td>\n",
       "      <td>0.434942</td>\n",
       "      <td>0.380061</td>\n",
       "      <td>0.798589</td>\n",
       "      <td>0.661845</td>\n",
       "      <td>0.757284</td>\n",
       "      <td>0.812143</td>\n",
       "      <td>1.151707</td>\n",
       "      <td>0.654191</td>\n",
       "      <td>-0.042796</td>\n",
       "      <td>-1.164786</td>\n",
       "      <td>-0.013615</td>\n",
       "    </tr>\n",
       "    <tr>\n",
       "      <th>11399</th>\n",
       "      <td>-0.310053</td>\n",
       "      <td>-0.310064</td>\n",
       "      <td>-0.363842</td>\n",
       "      <td>-0.367185</td>\n",
       "      <td>-0.367444</td>\n",
       "      <td>-0.433613</td>\n",
       "      <td>0.334192</td>\n",
       "      <td>-0.069338</td>\n",
       "      <td>0.137098</td>\n",
       "      <td>0.002075</td>\n",
       "      <td>0.661845</td>\n",
       "      <td>-0.272624</td>\n",
       "      <td>-0.107681</td>\n",
       "      <td>-0.003114</td>\n",
       "      <td>0.654191</td>\n",
       "      <td>-1.242031</td>\n",
       "      <td>0.978538</td>\n",
       "      <td>-0.610509</td>\n",
       "    </tr>\n",
       "    <tr>\n",
       "      <th>2216</th>\n",
       "      <td>-0.310053</td>\n",
       "      <td>-0.310064</td>\n",
       "      <td>-0.363842</td>\n",
       "      <td>-0.367185</td>\n",
       "      <td>-0.367444</td>\n",
       "      <td>-0.433613</td>\n",
       "      <td>0.611997</td>\n",
       "      <td>0.801692</td>\n",
       "      <td>0.663518</td>\n",
       "      <td>0.201204</td>\n",
       "      <td>0.661845</td>\n",
       "      <td>0.757284</td>\n",
       "      <td>0.812143</td>\n",
       "      <td>-0.003114</td>\n",
       "      <td>-1.528605</td>\n",
       "      <td>1.636133</td>\n",
       "      <td>0.978538</td>\n",
       "      <td>-0.610509</td>\n",
       "    </tr>\n",
       "    <tr>\n",
       "      <th>...</th>\n",
       "      <td>...</td>\n",
       "      <td>...</td>\n",
       "      <td>...</td>\n",
       "      <td>...</td>\n",
       "      <td>...</td>\n",
       "      <td>...</td>\n",
       "      <td>...</td>\n",
       "      <td>...</td>\n",
       "      <td>...</td>\n",
       "      <td>...</td>\n",
       "      <td>...</td>\n",
       "      <td>...</td>\n",
       "      <td>...</td>\n",
       "      <td>...</td>\n",
       "      <td>...</td>\n",
       "      <td>...</td>\n",
       "      <td>...</td>\n",
       "      <td>...</td>\n",
       "    </tr>\n",
       "    <tr>\n",
       "      <th>11284</th>\n",
       "      <td>-0.310053</td>\n",
       "      <td>-0.310064</td>\n",
       "      <td>-0.363842</td>\n",
       "      <td>-0.367185</td>\n",
       "      <td>-0.367444</td>\n",
       "      <td>-0.433613</td>\n",
       "      <td>0.102688</td>\n",
       "      <td>-0.115181</td>\n",
       "      <td>-0.105865</td>\n",
       "      <td>0.051857</td>\n",
       "      <td>-0.367328</td>\n",
       "      <td>-0.272624</td>\n",
       "      <td>-0.107681</td>\n",
       "      <td>-0.003114</td>\n",
       "      <td>0.654191</td>\n",
       "      <td>-1.002184</td>\n",
       "      <td>-1.700617</td>\n",
       "      <td>1.180174</td>\n",
       "    </tr>\n",
       "    <tr>\n",
       "      <th>11964</th>\n",
       "      <td>-0.310053</td>\n",
       "      <td>-0.310064</td>\n",
       "      <td>-0.363842</td>\n",
       "      <td>-0.367185</td>\n",
       "      <td>-0.367444</td>\n",
       "      <td>-0.433613</td>\n",
       "      <td>0.704598</td>\n",
       "      <td>0.618317</td>\n",
       "      <td>1.189938</td>\n",
       "      <td>0.201204</td>\n",
       "      <td>0.661845</td>\n",
       "      <td>0.757284</td>\n",
       "      <td>1.731967</td>\n",
       "      <td>-0.003114</td>\n",
       "      <td>-1.528605</td>\n",
       "      <td>0.436898</td>\n",
       "      <td>0.978538</td>\n",
       "      <td>-1.207403</td>\n",
       "    </tr>\n",
       "    <tr>\n",
       "      <th>5390</th>\n",
       "      <td>-0.310053</td>\n",
       "      <td>-0.310064</td>\n",
       "      <td>-0.363842</td>\n",
       "      <td>-0.367185</td>\n",
       "      <td>-0.367444</td>\n",
       "      <td>-0.433613</td>\n",
       "      <td>0.102688</td>\n",
       "      <td>0.251568</td>\n",
       "      <td>0.218086</td>\n",
       "      <td>-0.296618</td>\n",
       "      <td>-0.367328</td>\n",
       "      <td>-0.272624</td>\n",
       "      <td>-0.107681</td>\n",
       "      <td>-0.003114</td>\n",
       "      <td>-1.528605</td>\n",
       "      <td>-0.522490</td>\n",
       "      <td>-0.628955</td>\n",
       "      <td>0.583279</td>\n",
       "    </tr>\n",
       "    <tr>\n",
       "      <th>860</th>\n",
       "      <td>-0.310053</td>\n",
       "      <td>-0.310064</td>\n",
       "      <td>-0.363842</td>\n",
       "      <td>-0.367185</td>\n",
       "      <td>-0.367444</td>\n",
       "      <td>-0.433613</td>\n",
       "      <td>0.334192</td>\n",
       "      <td>0.572473</td>\n",
       "      <td>-0.065371</td>\n",
       "      <td>0.450114</td>\n",
       "      <td>0.661845</td>\n",
       "      <td>0.757284</td>\n",
       "      <td>-0.107681</td>\n",
       "      <td>-0.003114</td>\n",
       "      <td>0.654191</td>\n",
       "      <td>-0.042796</td>\n",
       "      <td>0.442707</td>\n",
       "      <td>-1.804298</td>\n",
       "    </tr>\n",
       "    <tr>\n",
       "      <th>15795</th>\n",
       "      <td>-0.310053</td>\n",
       "      <td>-0.310064</td>\n",
       "      <td>-0.363842</td>\n",
       "      <td>-0.367185</td>\n",
       "      <td>-0.367444</td>\n",
       "      <td>-0.433613</td>\n",
       "      <td>0.241590</td>\n",
       "      <td>0.480786</td>\n",
       "      <td>-0.065371</td>\n",
       "      <td>0.400332</td>\n",
       "      <td>0.661845</td>\n",
       "      <td>0.757284</td>\n",
       "      <td>-0.107681</td>\n",
       "      <td>-0.003114</td>\n",
       "      <td>-1.528605</td>\n",
       "      <td>-0.522490</td>\n",
       "      <td>-1.164786</td>\n",
       "      <td>1.777068</td>\n",
       "    </tr>\n",
       "  </tbody>\n",
       "</table>\n",
       "<p>14836 rows × 18 columns</p>\n",
       "</div>"
      ],
      "text/plain": [
       "              0         1         2         3         4         5         6  \\\n",
       "12097  1.486801  1.490230  2.748448  1.226414  1.252298  2.306202 -2.582756   \n",
       "11189 -0.310053 -0.310064 -0.363842 -0.367185 -0.367444 -0.433613  0.380493   \n",
       "10351 -0.310053 -0.310064 -0.363842 -0.367185 -0.367444 -0.433613  0.241590   \n",
       "11399 -0.310053 -0.310064 -0.363842 -0.367185 -0.367444 -0.433613  0.334192   \n",
       "2216  -0.310053 -0.310064 -0.363842 -0.367185 -0.367444 -0.433613  0.611997   \n",
       "...         ...       ...       ...       ...       ...       ...       ...   \n",
       "11284 -0.310053 -0.310064 -0.363842 -0.367185 -0.367444 -0.433613  0.102688   \n",
       "11964 -0.310053 -0.310064 -0.363842 -0.367185 -0.367444 -0.433613  0.704598   \n",
       "5390  -0.310053 -0.310064 -0.363842 -0.367185 -0.367444 -0.433613  0.102688   \n",
       "860   -0.310053 -0.310064 -0.363842 -0.367185 -0.367444 -0.433613  0.334192   \n",
       "15795 -0.310053 -0.310064 -0.363842 -0.367185 -0.367444 -0.433613  0.241590   \n",
       "\n",
       "              7         8         9        10        11        12        13  \\\n",
       "12097 -2.499051 -2.090063  0.201204 -2.425672 -2.332441 -1.947328 -0.003114   \n",
       "11189  0.526630  0.137098  0.151421  0.661845  0.757284 -0.107681 -0.003114   \n",
       "10351  0.434942  0.380061  0.798589  0.661845  0.757284  0.812143  1.151707   \n",
       "11399 -0.069338  0.137098  0.002075  0.661845 -0.272624 -0.107681 -0.003114   \n",
       "2216   0.801692  0.663518  0.201204  0.661845  0.757284  0.812143 -0.003114   \n",
       "...         ...       ...       ...       ...       ...       ...       ...   \n",
       "11284 -0.115181 -0.105865  0.051857 -0.367328 -0.272624 -0.107681 -0.003114   \n",
       "11964  0.618317  1.189938  0.201204  0.661845  0.757284  1.731967 -0.003114   \n",
       "5390   0.251568  0.218086 -0.296618 -0.367328 -0.272624 -0.107681 -0.003114   \n",
       "860    0.572473 -0.065371  0.450114  0.661845  0.757284 -0.107681 -0.003114   \n",
       "15795  0.480786 -0.065371  0.400332  0.661845  0.757284 -0.107681 -0.003114   \n",
       "\n",
       "             14        15        16        17  \n",
       "12097  0.654191  1.156439 -0.628955 -0.013615  \n",
       "11189  0.654191 -0.282643 -0.628955  1.180174  \n",
       "10351  0.654191 -0.042796 -1.164786 -0.013615  \n",
       "11399  0.654191 -1.242031  0.978538 -0.610509  \n",
       "2216  -1.528605  1.636133  0.978538 -0.610509  \n",
       "...         ...       ...       ...       ...  \n",
       "11284  0.654191 -1.002184 -1.700617  1.180174  \n",
       "11964 -1.528605  0.436898  0.978538 -1.207403  \n",
       "5390  -1.528605 -0.522490 -0.628955  0.583279  \n",
       "860    0.654191 -0.042796  0.442707 -1.804298  \n",
       "15795 -1.528605 -0.522490 -1.164786  1.777068  \n",
       "\n",
       "[14836 rows x 18 columns]"
      ]
     },
     "execution_count": 67,
     "metadata": {},
     "output_type": "execute_result"
    }
   ],
   "source": [
    "# x_train = pd.DataFrame(x_train)\n",
    "# x_train"
   ]
  },
  {
   "cell_type": "code",
   "execution_count": 98,
   "metadata": {},
   "outputs": [],
   "source": [
    "balanced = SMOTE(random_state = 42)\n",
    "x_train, y_train = balanced.fit_resample(x_train, y_train)"
   ]
  },
  {
   "cell_type": "code",
   "execution_count": 99,
   "metadata": {},
   "outputs": [
    {
     "data": {
      "text/plain": [
       "(32790, 18)"
      ]
     },
     "execution_count": 99,
     "metadata": {},
     "output_type": "execute_result"
    }
   ],
   "source": [
    "x_train.shape"
   ]
  },
  {
   "cell_type": "code",
   "execution_count": 100,
   "metadata": {},
   "outputs": [
    {
     "data": {
      "text/plain": [
       "(32790,)"
      ]
     },
     "execution_count": 100,
     "metadata": {},
     "output_type": "execute_result"
    }
   ],
   "source": [
    "y_train.shape"
   ]
  },
  {
   "cell_type": "code",
   "execution_count": 101,
   "metadata": {},
   "outputs": [
    {
     "name": "stdout",
     "output_type": "stream",
     "text": [
      "{1.0: 6558, 2.0: 6558, 3.0: 6558, 4.0: 6558, 5.0: 6558}\n"
     ]
    }
   ],
   "source": [
    "aUnique = y_train\n",
    "unique, counts = np.unique(aUnique, return_counts=True)\n",
    "print(dict(zip(unique, counts)))  "
   ]
  },
  {
   "cell_type": "code",
   "execution_count": 102,
   "metadata": {},
   "outputs": [],
   "source": [
    "pipe = Pipeline([(\"scaler\", StandardScaler()),(\"tree\", DecisionTreeClassifier())])\n",
    "model10= pipe.fit(x_train, y_train)"
   ]
  },
  {
   "cell_type": "code",
   "execution_count": 103,
   "metadata": {},
   "outputs": [],
   "source": [
    "pred10= model10.predict(x_train)"
   ]
  },
  {
   "cell_type": "code",
   "execution_count": 104,
   "metadata": {},
   "outputs": [
    {
     "data": {
      "text/plain": [
       "1.0"
      ]
     },
     "execution_count": 104,
     "metadata": {},
     "output_type": "execute_result"
    }
   ],
   "source": [
    "accuracy_score(y_train, pred)"
   ]
  },
  {
   "cell_type": "code",
   "execution_count": 105,
   "metadata": {},
   "outputs": [
    {
     "data": {
      "text/plain": [
       "array([[6558,    0,    0,    0,    0],\n",
       "       [   0, 6558,    0,    0,    0],\n",
       "       [   0,    0, 6558,    0,    0],\n",
       "       [   0,    0,    0, 6558,    0],\n",
       "       [   0,    0,    0,    0, 6558]])"
      ]
     },
     "execution_count": 105,
     "metadata": {},
     "output_type": "execute_result"
    }
   ],
   "source": [
    "confusion_matrix(pred, y_train)"
   ]
  },
  {
   "cell_type": "code",
   "execution_count": 106,
   "metadata": {},
   "outputs": [],
   "source": [
    "pred10= model10.predict(x_test)"
   ]
  },
  {
   "cell_type": "code",
   "execution_count": 107,
   "metadata": {},
   "outputs": [
    {
     "data": {
      "text/plain": [
       "0.6837422485845241"
      ]
     },
     "execution_count": 107,
     "metadata": {},
     "output_type": "execute_result"
    }
   ],
   "source": [
    "accuracy_score(y_test, pred10)"
   ]
  },
  {
   "cell_type": "code",
   "execution_count": 112,
   "metadata": {},
   "outputs": [],
   "source": [
    "tree6= DecisionTreeClassifier()"
   ]
  },
  {
   "cell_type": "code",
   "execution_count": 113,
   "metadata": {},
   "outputs": [],
   "source": [
    "parameters = [{\"criterion\":[\"gini\", \"entropy\"],\"max_depth\":list(range(2, 11)), \n",
    "             \"min_samples_split\":list(range(2, 6)), \"min_samples_leaf\":list(range(2, 6))}]"
   ]
  },
  {
   "cell_type": "code",
   "execution_count": 114,
   "metadata": {},
   "outputs": [],
   "source": [
    "grid2 = GridSearchCV(tree6, \n",
    "                     param_grid=parameters, cv= 3, refit= True)"
   ]
  },
  {
   "cell_type": "code",
   "execution_count": 115,
   "metadata": {},
   "outputs": [],
   "source": [
    "model11= grid2.fit(x_train, y_train)"
   ]
  },
  {
   "cell_type": "code",
   "execution_count": 116,
   "metadata": {},
   "outputs": [
    {
     "data": {
      "text/plain": [
       "0.7440073193046661"
      ]
     },
     "execution_count": 116,
     "metadata": {},
     "output_type": "execute_result"
    }
   ],
   "source": [
    "model11.best_score_"
   ]
  },
  {
   "cell_type": "code",
   "execution_count": 117,
   "metadata": {},
   "outputs": [
    {
     "data": {
      "text/plain": [
       "{'criterion': 'gini',\n",
       " 'max_depth': 10,\n",
       " 'min_samples_leaf': 3,\n",
       " 'min_samples_split': 5}"
      ]
     },
     "execution_count": 117,
     "metadata": {},
     "output_type": "execute_result"
    }
   ],
   "source": [
    "model11.best_params_"
   ]
  },
  {
   "cell_type": "code",
   "execution_count": 118,
   "metadata": {},
   "outputs": [
    {
     "data": {
      "text/plain": [
       "0.7879231473010064"
      ]
     },
     "execution_count": 118,
     "metadata": {},
     "output_type": "execute_result"
    }
   ],
   "source": [
    "predict11= model11.predict(x_train)\n",
    "accuracy_score(y_train, predict5)"
   ]
  },
  {
   "cell_type": "code",
   "execution_count": 119,
   "metadata": {},
   "outputs": [
    {
     "data": {
      "text/plain": [
       "0.7481801024534915"
      ]
     },
     "execution_count": 119,
     "metadata": {},
     "output_type": "execute_result"
    }
   ],
   "source": [
    "pred11= model11.predict(x_test)\n",
    "accuracy_score(y_test, pred5)"
   ]
  },
  {
   "cell_type": "code",
   "execution_count": 120,
   "metadata": {},
   "outputs": [],
   "source": [
    "scaler= StandardScaler()\n",
    "x_norm= scaler.fit_transform(x_train)"
   ]
  },
  {
   "cell_type": "code",
   "execution_count": 121,
   "metadata": {},
   "outputs": [
    {
     "data": {
      "text/plain": [
       "(32790, 18)"
      ]
     },
     "execution_count": 121,
     "metadata": {},
     "output_type": "execute_result"
    }
   ],
   "source": [
    "x_norm.shape"
   ]
  },
  {
   "cell_type": "code",
   "execution_count": 122,
   "metadata": {},
   "outputs": [],
   "source": [
    "model12= grid2.fit(x_norm, y_train)"
   ]
  },
  {
   "cell_type": "code",
   "execution_count": 159,
   "metadata": {},
   "outputs": [
    {
     "data": {
      "text/plain": [
       "0.7439158279963403"
      ]
     },
     "execution_count": 159,
     "metadata": {},
     "output_type": "execute_result"
    }
   ],
   "source": [
    "model12.best_score_"
   ]
  },
  {
   "cell_type": "code",
   "execution_count": 123,
   "metadata": {},
   "outputs": [
    {
     "data": {
      "text/plain": [
       "{'criterion': 'gini',\n",
       " 'max_depth': 10,\n",
       " 'min_samples_leaf': 3,\n",
       " 'min_samples_split': 3}"
      ]
     },
     "execution_count": 123,
     "metadata": {},
     "output_type": "execute_result"
    }
   ],
   "source": [
    "model12.best_params_"
   ]
  },
  {
   "cell_type": "code",
   "execution_count": 124,
   "metadata": {},
   "outputs": [
    {
     "data": {
      "text/plain": [
       "0.7878926501982312"
      ]
     },
     "execution_count": 124,
     "metadata": {},
     "output_type": "execute_result"
    }
   ],
   "source": [
    "predict12= model12.predict(x_norm)\n",
    "accuracy_score(y_train,predict12)"
   ]
  },
  {
   "cell_type": "code",
   "execution_count": 125,
   "metadata": {},
   "outputs": [
    {
     "data": {
      "text/plain": [
       "0.7487193313561606"
      ]
     },
     "execution_count": 125,
     "metadata": {},
     "output_type": "execute_result"
    }
   ],
   "source": [
    "test_norm= scaler.transform(x_test)\n",
    "pred6= model12.predict(test_norm)\n",
    "accuracy_score(y_test, pred12)"
   ]
  },
  {
   "cell_type": "code",
   "execution_count": 126,
   "metadata": {},
   "outputs": [],
   "source": [
    "tree7= DecisionTreeClassifier(max_depth= 10)\n",
    "model13= tree7.fit(x_norm, y_train)"
   ]
  },
  {
   "cell_type": "code",
   "execution_count": 127,
   "metadata": {},
   "outputs": [
    {
     "data": {
      "text/plain": [
       "0.7908203720646538"
      ]
     },
     "execution_count": 127,
     "metadata": {},
     "output_type": "execute_result"
    }
   ],
   "source": [
    "predict13= model13.predict(x_norm)\n",
    "accuracy_score(y_train, predict13)"
   ]
  },
  {
   "cell_type": "code",
   "execution_count": 128,
   "metadata": {},
   "outputs": [
    {
     "data": {
      "text/plain": [
       "0.7471016446481531"
      ]
     },
     "execution_count": 128,
     "metadata": {},
     "output_type": "execute_result"
    }
   ],
   "source": [
    "pred13= model13.predict(test_norm)\n",
    "accuracy_score(y_test, pred13)"
   ]
  },
  {
   "cell_type": "code",
   "execution_count": 23,
   "metadata": {},
   "outputs": [
    {
     "data": {
      "text/html": [
       "<div>\n",
       "<style scoped>\n",
       "    .dataframe tbody tr th:only-of-type {\n",
       "        vertical-align: middle;\n",
       "    }\n",
       "\n",
       "    .dataframe tbody tr th {\n",
       "        vertical-align: top;\n",
       "    }\n",
       "\n",
       "    .dataframe thead th {\n",
       "        text-align: right;\n",
       "    }\n",
       "</style>\n",
       "<table border=\"1\" class=\"dataframe\">\n",
       "  <thead>\n",
       "    <tr style=\"text-align: right;\">\n",
       "      <th></th>\n",
       "      <th>0</th>\n",
       "      <th>1</th>\n",
       "      <th>2</th>\n",
       "      <th>3</th>\n",
       "      <th>4</th>\n",
       "      <th>5</th>\n",
       "      <th>6</th>\n",
       "      <th>7</th>\n",
       "      <th>8</th>\n",
       "      <th>9</th>\n",
       "      <th>TARGET</th>\n",
       "    </tr>\n",
       "  </thead>\n",
       "  <tbody>\n",
       "    <tr>\n",
       "      <th>0</th>\n",
       "      <td>0.0</td>\n",
       "      <td>0.0</td>\n",
       "      <td>0.0</td>\n",
       "      <td>0.0</td>\n",
       "      <td>0.0</td>\n",
       "      <td>6.2</td>\n",
       "      <td>5.8</td>\n",
       "      <td>4.6</td>\n",
       "      <td>6.0</td>\n",
       "      <td>2.0</td>\n",
       "      <td>2.0</td>\n",
       "    </tr>\n",
       "    <tr>\n",
       "      <th>1</th>\n",
       "      <td>0.0</td>\n",
       "      <td>0.0</td>\n",
       "      <td>0.0</td>\n",
       "      <td>0.0</td>\n",
       "      <td>0.0</td>\n",
       "      <td>6.0</td>\n",
       "      <td>6.2</td>\n",
       "      <td>5.2</td>\n",
       "      <td>6.0</td>\n",
       "      <td>2.0</td>\n",
       "      <td>2.0</td>\n",
       "    </tr>\n",
       "    <tr>\n",
       "      <th>2</th>\n",
       "      <td>0.0</td>\n",
       "      <td>0.0</td>\n",
       "      <td>0.0</td>\n",
       "      <td>0.0</td>\n",
       "      <td>0.0</td>\n",
       "      <td>7.3</td>\n",
       "      <td>6.7</td>\n",
       "      <td>7.1</td>\n",
       "      <td>8.0</td>\n",
       "      <td>5.0</td>\n",
       "      <td>3.0</td>\n",
       "    </tr>\n",
       "    <tr>\n",
       "      <th>3</th>\n",
       "      <td>1.0</td>\n",
       "      <td>3.0</td>\n",
       "      <td>1.0</td>\n",
       "      <td>1.0</td>\n",
       "      <td>1.0</td>\n",
       "      <td>0.0</td>\n",
       "      <td>0.0</td>\n",
       "      <td>0.0</td>\n",
       "      <td>2.0</td>\n",
       "      <td>4.0</td>\n",
       "      <td>1.0</td>\n",
       "    </tr>\n",
       "    <tr>\n",
       "      <th>4</th>\n",
       "      <td>1.0</td>\n",
       "      <td>3.0</td>\n",
       "      <td>1.0</td>\n",
       "      <td>1.0</td>\n",
       "      <td>1.0</td>\n",
       "      <td>0.0</td>\n",
       "      <td>0.0</td>\n",
       "      <td>0.0</td>\n",
       "      <td>2.0</td>\n",
       "      <td>5.0</td>\n",
       "      <td>1.0</td>\n",
       "    </tr>\n",
       "    <tr>\n",
       "      <th>...</th>\n",
       "      <td>...</td>\n",
       "      <td>...</td>\n",
       "      <td>...</td>\n",
       "      <td>...</td>\n",
       "      <td>...</td>\n",
       "      <td>...</td>\n",
       "      <td>...</td>\n",
       "      <td>...</td>\n",
       "      <td>...</td>\n",
       "      <td>...</td>\n",
       "      <td>...</td>\n",
       "    </tr>\n",
       "    <tr>\n",
       "      <th>18540</th>\n",
       "      <td>1.0</td>\n",
       "      <td>1.0</td>\n",
       "      <td>1.0</td>\n",
       "      <td>1.0</td>\n",
       "      <td>1.0</td>\n",
       "      <td>0.0</td>\n",
       "      <td>0.0</td>\n",
       "      <td>0.0</td>\n",
       "      <td>2.0</td>\n",
       "      <td>20.0</td>\n",
       "      <td>1.0</td>\n",
       "    </tr>\n",
       "    <tr>\n",
       "      <th>18541</th>\n",
       "      <td>0.0</td>\n",
       "      <td>0.0</td>\n",
       "      <td>0.0</td>\n",
       "      <td>0.0</td>\n",
       "      <td>0.0</td>\n",
       "      <td>7.0</td>\n",
       "      <td>7.9</td>\n",
       "      <td>5.8</td>\n",
       "      <td>6.0</td>\n",
       "      <td>9.0</td>\n",
       "      <td>2.0</td>\n",
       "    </tr>\n",
       "    <tr>\n",
       "      <th>18542</th>\n",
       "      <td>0.0</td>\n",
       "      <td>0.0</td>\n",
       "      <td>0.0</td>\n",
       "      <td>0.0</td>\n",
       "      <td>0.0</td>\n",
       "      <td>7.9</td>\n",
       "      <td>7.6</td>\n",
       "      <td>8.3</td>\n",
       "      <td>10.0</td>\n",
       "      <td>8.0</td>\n",
       "      <td>5.0</td>\n",
       "    </tr>\n",
       "    <tr>\n",
       "      <th>18543</th>\n",
       "      <td>0.0</td>\n",
       "      <td>0.0</td>\n",
       "      <td>1.0</td>\n",
       "      <td>1.0</td>\n",
       "      <td>1.0</td>\n",
       "      <td>6.3</td>\n",
       "      <td>5.1</td>\n",
       "      <td>0.0</td>\n",
       "      <td>2.0</td>\n",
       "      <td>3.0</td>\n",
       "      <td>1.0</td>\n",
       "    </tr>\n",
       "    <tr>\n",
       "      <th>18544</th>\n",
       "      <td>0.0</td>\n",
       "      <td>0.0</td>\n",
       "      <td>1.0</td>\n",
       "      <td>1.0</td>\n",
       "      <td>1.0</td>\n",
       "      <td>7.0</td>\n",
       "      <td>7.3</td>\n",
       "      <td>0.0</td>\n",
       "      <td>2.0</td>\n",
       "      <td>3.0</td>\n",
       "      <td>1.0</td>\n",
       "    </tr>\n",
       "  </tbody>\n",
       "</table>\n",
       "<p>18545 rows × 11 columns</p>\n",
       "</div>"
      ],
      "text/plain": [
       "         0    1    2    3    4    5    6    7     8     9  TARGET\n",
       "0      0.0  0.0  0.0  0.0  0.0  6.2  5.8  4.6   6.0   2.0     2.0\n",
       "1      0.0  0.0  0.0  0.0  0.0  6.0  6.2  5.2   6.0   2.0     2.0\n",
       "2      0.0  0.0  0.0  0.0  0.0  7.3  6.7  7.1   8.0   5.0     3.0\n",
       "3      1.0  3.0  1.0  1.0  1.0  0.0  0.0  0.0   2.0   4.0     1.0\n",
       "4      1.0  3.0  1.0  1.0  1.0  0.0  0.0  0.0   2.0   5.0     1.0\n",
       "...    ...  ...  ...  ...  ...  ...  ...  ...   ...   ...     ...\n",
       "18540  1.0  1.0  1.0  1.0  1.0  0.0  0.0  0.0   2.0  20.0     1.0\n",
       "18541  0.0  0.0  0.0  0.0  0.0  7.0  7.9  5.8   6.0   9.0     2.0\n",
       "18542  0.0  0.0  0.0  0.0  0.0  7.9  7.6  8.3  10.0   8.0     5.0\n",
       "18543  0.0  0.0  1.0  1.0  1.0  6.3  5.1  0.0   2.0   3.0     1.0\n",
       "18544  0.0  0.0  1.0  1.0  1.0  7.0  7.3  0.0   2.0   3.0     1.0\n",
       "\n",
       "[18545 rows x 11 columns]"
      ]
     },
     "execution_count": 23,
     "metadata": {},
     "output_type": "execute_result"
    }
   ],
   "source": [
    "# Loading CSV file with feature selection\n",
    "selection= pd.read_csv(\"Data/selection_variables.csv\")\n",
    "selection"
   ]
  },
  {
   "cell_type": "code",
   "execution_count": 24,
   "metadata": {},
   "outputs": [],
   "source": [
    "x= selection.iloc[:, 0:10]\n",
    "y= selection.TARGET"
   ]
  },
  {
   "cell_type": "code",
   "execution_count": 25,
   "metadata": {},
   "outputs": [],
   "source": [
    "xtrain, xtest, ytrain, ytest= train_test_split(x, y, test_size= 0.2, random_state=42)"
   ]
  },
  {
   "cell_type": "code",
   "execution_count": 26,
   "metadata": {},
   "outputs": [],
   "source": [
    "smote = SMOTE(random_state= 42)\n",
    "xtrain, ytrain= smote.fit_resample(xtrain, ytrain)"
   ]
  },
  {
   "cell_type": "code",
   "execution_count": 17,
   "metadata": {},
   "outputs": [],
   "source": [
    "model14= tree.fit(xtrain, ytrain) "
   ]
  },
  {
   "cell_type": "code",
   "execution_count": 19,
   "metadata": {},
   "outputs": [
    {
     "data": {
      "text/plain": [
       "0.9946020128087831"
      ]
     },
     "execution_count": 19,
     "metadata": {},
     "output_type": "execute_result"
    }
   ],
   "source": [
    "predict14= model14.predict(xtrain)\n",
    "accuracy_score(ytrain, predict14)"
   ]
  },
  {
   "cell_type": "code",
   "execution_count": 21,
   "metadata": {},
   "outputs": [
    {
     "data": {
      "text/plain": [
       "0.702345645726611"
      ]
     },
     "execution_count": 21,
     "metadata": {},
     "output_type": "execute_result"
    }
   ],
   "source": [
    "pred14= model14.predict(xtest)\n",
    "accuracy_score(ytest, pred14)"
   ]
  },
  {
   "cell_type": "code",
   "execution_count": 28,
   "metadata": {},
   "outputs": [
    {
     "data": {
      "text/plain": [
       "array([[ 1.        ,  1.        ,  1.        , ...,  0.        ,\n",
       "         2.        , 10.        ],\n",
       "       [ 0.        ,  0.        ,  0.        , ...,  5.5       ,\n",
       "         6.        ,  4.        ],\n",
       "       [ 0.        ,  0.        ,  0.        , ...,  6.1       ,\n",
       "         8.        ,  5.        ],\n",
       "       ...,\n",
       "       [ 0.        ,  0.        ,  0.        , ...,  7.67776765,\n",
       "         8.        ,  4.        ],\n",
       "       [ 0.        ,  0.        ,  0.        , ...,  8.74893543,\n",
       "        10.        ,  5.        ],\n",
       "       [ 0.        ,  0.        ,  0.        , ...,  7.33455828,\n",
       "         8.        , 16.05759714]])"
      ]
     },
     "execution_count": 28,
     "metadata": {},
     "output_type": "execute_result"
    }
   ],
   "source": [
    "xtrain= xtrain.to_numpy()\n",
    "xtrain"
   ]
  },
  {
   "cell_type": "code",
   "execution_count": 33,
   "metadata": {},
   "outputs": [],
   "source": [
    "model15= grid.fit(xtrain, ytrain)"
   ]
  },
  {
   "cell_type": "code",
   "execution_count": 34,
   "metadata": {},
   "outputs": [
    {
     "data": {
      "text/plain": [
       "0.7390972857578529"
      ]
     },
     "execution_count": 34,
     "metadata": {},
     "output_type": "execute_result"
    }
   ],
   "source": [
    "model15.best_score_"
   ]
  },
  {
   "cell_type": "code",
   "execution_count": 35,
   "metadata": {},
   "outputs": [
    {
     "data": {
      "text/plain": [
       "{'criterion': 'gini', 'max_depth': 10}"
      ]
     },
     "execution_count": 35,
     "metadata": {},
     "output_type": "execute_result"
    }
   ],
   "source": [
    "model15.best_params_"
   ]
  },
  {
   "cell_type": "code",
   "execution_count": 36,
   "metadata": {},
   "outputs": [
    {
     "data": {
      "text/plain": [
       "0.7770661787130223"
      ]
     },
     "execution_count": 36,
     "metadata": {},
     "output_type": "execute_result"
    }
   ],
   "source": [
    "predict15= model15.predict(xtrain)\n",
    "accuracy_score(ytrain, predict15)"
   ]
  },
  {
   "cell_type": "code",
   "execution_count": 37,
   "metadata": {},
   "outputs": [
    {
     "data": {
      "text/plain": [
       "0.7584254516042059"
      ]
     },
     "execution_count": 37,
     "metadata": {},
     "output_type": "execute_result"
    }
   ],
   "source": [
    "pred15= model15.predict(xtest)\n",
    "accuracy_score(ytest, pred15)"
   ]
  },
  {
   "cell_type": "code",
   "execution_count": 27,
   "metadata": {},
   "outputs": [],
   "source": [
    "model16= grid2.fit(xtrain, ytrain)"
   ]
  },
  {
   "cell_type": "code",
   "execution_count": 28,
   "metadata": {},
   "outputs": [
    {
     "data": {
      "text/plain": [
       "0.7576395242451966"
      ]
     },
     "execution_count": 28,
     "metadata": {},
     "output_type": "execute_result"
    }
   ],
   "source": [
    "model16.best_score_"
   ]
  },
  {
   "cell_type": "code",
   "execution_count": 29,
   "metadata": {},
   "outputs": [
    {
     "data": {
      "text/plain": [
       "{'criterion': 'gini',\n",
       " 'max_depth': 12,\n",
       " 'min_samples_leaf': 2,\n",
       " 'min_samples_split': 3}"
      ]
     },
     "execution_count": 29,
     "metadata": {},
     "output_type": "execute_result"
    }
   ],
   "source": [
    "model16.best_params_"
   ]
  },
  {
   "cell_type": "code",
   "execution_count": 30,
   "metadata": {},
   "outputs": [
    {
     "data": {
      "text/plain": [
       "0.8182982616651419"
      ]
     },
     "execution_count": 30,
     "metadata": {},
     "output_type": "execute_result"
    }
   ],
   "source": [
    "predict16= model16.predict(xtrain)\n",
    "accuracy_score(ytrain, predict16)"
   ]
  },
  {
   "cell_type": "code",
   "execution_count": 32,
   "metadata": {},
   "outputs": [
    {
     "data": {
      "text/plain": [
       "0.7508762469668374"
      ]
     },
     "execution_count": 32,
     "metadata": {},
     "output_type": "execute_result"
    }
   ],
   "source": [
    "pred16= model16.predict(xtest)\n",
    "accuracy_score(ytest, pred16)"
   ]
  },
  {
   "cell_type": "code",
   "execution_count": 39,
   "metadata": {},
   "outputs": [],
   "source": [
    "# Standardize data\n",
    "scaler= StandardScaler()\n",
    "xtrain_norm= scaler.fit_transform(xtrain)\n",
    "xtest_norm= scaler.transform(xtest)"
   ]
  },
  {
   "cell_type": "code",
   "execution_count": 42,
   "metadata": {},
   "outputs": [],
   "source": [
    "model17= grid.fit(xtrain_norm, ytrain)"
   ]
  },
  {
   "cell_type": "code",
   "execution_count": 43,
   "metadata": {},
   "outputs": [
    {
     "data": {
      "text/plain": [
       "0.7393717596828302"
      ]
     },
     "execution_count": 43,
     "metadata": {},
     "output_type": "execute_result"
    }
   ],
   "source": [
    "model17.best_score_"
   ]
  },
  {
   "cell_type": "code",
   "execution_count": 45,
   "metadata": {},
   "outputs": [
    {
     "data": {
      "text/plain": [
       "{'criterion': 'gini', 'max_depth': 10}"
      ]
     },
     "execution_count": 45,
     "metadata": {},
     "output_type": "execute_result"
    }
   ],
   "source": [
    "model17.best_params_"
   ]
  },
  {
   "cell_type": "code",
   "execution_count": 49,
   "metadata": {},
   "outputs": [
    {
     "data": {
      "text/plain": [
       "0.7770661787130223"
      ]
     },
     "execution_count": 49,
     "metadata": {},
     "output_type": "execute_result"
    }
   ],
   "source": [
    "predict17= model17.predict(xtrain_norm)\n",
    "accuracy_score(ytrain, predict17)"
   ]
  },
  {
   "cell_type": "code",
   "execution_count": 51,
   "metadata": {},
   "outputs": [
    {
     "data": {
      "text/plain": [
       "0.7578862227015368"
      ]
     },
     "execution_count": 51,
     "metadata": {},
     "output_type": "execute_result"
    }
   ],
   "source": [
    "pred17= model17.predict(xtest_norm)\n",
    "accuracy_score(ytest, pred17)"
   ]
  },
  {
   "cell_type": "code",
   "execution_count": 81,
   "metadata": {},
   "outputs": [],
   "source": [
    "parameters3= {'criterion': ['gini', 'entropy'],\n",
    "              'max_depth': [10, 11, 12, 13, 14],\n",
    "              'min_samples_split': [2, 3, 4, 5],\n",
    "              'min_samples_leaf': [2, 3, 4, 5]}"
   ]
  },
  {
   "cell_type": "code",
   "execution_count": 82,
   "metadata": {},
   "outputs": [],
   "source": [
    "grid3= GridSearchCV(tree, parameters3, cv=5, refit= True, scoring= \"accuracy\")\n",
    "model18= grid3.fit(xtrain_norm, ytrain)"
   ]
  },
  {
   "cell_type": "code",
   "execution_count": 83,
   "metadata": {},
   "outputs": [
    {
     "data": {
      "text/plain": [
       "0.7703263189996952"
      ]
     },
     "execution_count": 83,
     "metadata": {},
     "output_type": "execute_result"
    }
   ],
   "source": [
    "model18.best_score_"
   ]
  },
  {
   "cell_type": "code",
   "execution_count": 84,
   "metadata": {},
   "outputs": [
    {
     "data": {
      "text/plain": [
       "{'criterion': 'gini',\n",
       " 'max_depth': 14,\n",
       " 'min_samples_leaf': 3,\n",
       " 'min_samples_split': 5}"
      ]
     },
     "execution_count": 84,
     "metadata": {},
     "output_type": "execute_result"
    }
   ],
   "source": [
    "model18.best_params_"
   ]
  },
  {
   "cell_type": "code",
   "execution_count": 85,
   "metadata": {},
   "outputs": [
    {
     "data": {
      "text/plain": [
       "0.8561756633119854"
      ]
     },
     "execution_count": 85,
     "metadata": {},
     "output_type": "execute_result"
    }
   ],
   "source": [
    "predict18= model18.predict(xtrain_norm)\n",
    "accuracy_score(ytrain, predict18)"
   ]
  },
  {
   "cell_type": "code",
   "execution_count": 86,
   "metadata": {},
   "outputs": [
    {
     "data": {
      "text/plain": [
       "0.7508762469668374"
      ]
     },
     "execution_count": 86,
     "metadata": {},
     "output_type": "execute_result"
    }
   ],
   "source": [
    "pred18= model18.predict(xtest_norm)\n",
    "accuracy_score(ytest, pred18)"
   ]
  },
  {
   "cell_type": "code",
   "execution_count": null,
   "metadata": {},
   "outputs": [],
   "source": []
  }
 ],
 "metadata": {
  "kernelspec": {
   "display_name": "Python 3",
   "language": "python",
   "name": "python3"
  },
  "language_info": {
   "codemirror_mode": {
    "name": "ipython",
    "version": 3
   },
   "file_extension": ".py",
   "mimetype": "text/x-python",
   "name": "python",
   "nbconvert_exporter": "python",
   "pygments_lexer": "ipython3",
   "version": "3.7.6"
  }
 },
 "nbformat": 4,
 "nbformat_minor": 4
}
