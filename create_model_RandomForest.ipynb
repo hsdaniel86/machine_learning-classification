{
 "cells": [
  {
   "cell_type": "code",
   "execution_count": 1,
   "metadata": {},
   "outputs": [],
   "source": [
    "import numpy as np\n",
    "import pandas as pd\n",
    "from sklearn.ensemble import RandomForestClassifier\n",
    "from sklearn.metrics import accuracy_score, confusion_matrix\n",
    "from sklearn.model_selection import train_test_split\n",
    "from sklearn.model_selection import GridSearchCV\n",
    "from sklearn.preprocessing import MinMaxScaler\n",
    "from imblearn.over_sampling import SMOTE"
   ]
  },
  {
   "cell_type": "code",
   "execution_count": 2,
   "metadata": {},
   "outputs": [
    {
     "name": "stdout",
     "output_type": "stream",
     "text": [
      "numpy : 1.18.5\n",
      "pandas: 1.0.1\n",
      "\n"
     ]
    }
   ],
   "source": [
    "%load_ext watermark\n",
    "%watermark --iversions"
   ]
  },
  {
   "cell_type": "code",
   "execution_count": 95,
   "metadata": {},
   "outputs": [
    {
     "data": {
      "text/plain": [
       "(18545, 23)"
      ]
     },
     "execution_count": 95,
     "metadata": {},
     "output_type": "execute_result"
    }
   ],
   "source": [
    "data= pd.read_csv(\"Data/data3.csv\")\n",
    "data.shape"
   ]
  },
  {
   "cell_type": "code",
   "execution_count": 4,
   "metadata": {},
   "outputs": [
    {
     "data": {
      "text/plain": [
       "DISAPPROVALS_BL        float64\n",
       "DISAPPROVALS_EN        float64\n",
       "DISAPPROVALS_HUMAN       int64\n",
       "DISAPPROVALS_FM        float64\n",
       "DISAPPROVALS_OM        float64\n",
       "DISAPPROVALS_EXACTS      int64\n",
       "NOTE_BL                float64\n",
       "NOTE_EN                float64\n",
       "NOTE_FM                float64\n",
       "NOTE_OM                float64\n",
       "NOTE_BL_CAT             object\n",
       "NOTE_EN_CAT             object\n",
       "NOTE_FM_CAT             object\n",
       "NOTE_OM_CAT             object\n",
       "NOTE_BL_CAT_N            int64\n",
       "NOTE_EN_CAT_N            int64\n",
       "NOTE_FM_CAT_N            int64\n",
       "NOTE_OM_CAT_N            int64\n",
       "ENGLISH                float64\n",
       "H_CLASS_PRES           float64\n",
       "ONLINE_TASKS           float64\n",
       "ABSENCES               float64\n",
       "PROFILE_N              float64\n",
       "dtype: object"
      ]
     },
     "execution_count": 4,
     "metadata": {},
     "output_type": "execute_result"
    }
   ],
   "source": [
    "data.dtypes"
   ]
  },
  {
   "cell_type": "code",
   "execution_count": 5,
   "metadata": {},
   "outputs": [
    {
     "data": {
      "text/plain": [
       "DISAPPROVALS_BL        float64\n",
       "DISAPPROVALS_EN        float64\n",
       "DISAPPROVALS_HUMAN       int64\n",
       "DISAPPROVALS_FM        float64\n",
       "DISAPPROVALS_OM        float64\n",
       "DISAPPROVALS_EXACTS      int64\n",
       "NOTE_BL                float64\n",
       "NOTE_EN                float64\n",
       "NOTE_FM                float64\n",
       "NOTE_OM                float64\n",
       "NOTE_BL_CAT_N            int64\n",
       "NOTE_EN_CAT_N            int64\n",
       "NOTE_FM_CAT_N            int64\n",
       "NOTE_OM_CAT_N            int64\n",
       "ENGLISH                float64\n",
       "H_CLASS_PRES           float64\n",
       "ONLINE_TASKS           float64\n",
       "ABSENCES               float64\n",
       "PROFILE_N              float64\n",
       "dtype: object"
      ]
     },
     "execution_count": 5,
     "metadata": {},
     "output_type": "execute_result"
    }
   ],
   "source": [
    "df= data.drop([\"NOTE_BL_CAT\", \"NOTE_EN_CAT\", \"NOTE_FM_CAT\", \"NOTE_OM_CAT\"], axis= 1)\n",
    "df.dtypes"
   ]
  },
  {
   "cell_type": "code",
   "execution_count": 96,
   "metadata": {},
   "outputs": [],
   "source": [
    "x = df.iloc[:, 0:18]\n",
    "y = df.PROFILE_N"
   ]
  },
  {
   "cell_type": "code",
   "execution_count": 97,
   "metadata": {},
   "outputs": [],
   "source": [
    "smote = SMOTE(random_state= 100)\n",
    "x, y= smote.fit_resample(x, y)"
   ]
  },
  {
   "cell_type": "code",
   "execution_count": 8,
   "metadata": {},
   "outputs": [
    {
     "data": {
      "text/plain": [
       "3.0    8229\n",
       "5.0    8229\n",
       "4.0    8229\n",
       "1.0    8229\n",
       "2.0    8229\n",
       "Name: PROFILE_N, dtype: int64"
      ]
     },
     "execution_count": 8,
     "metadata": {},
     "output_type": "execute_result"
    }
   ],
   "source": [
    "y.value_counts()"
   ]
  },
  {
   "cell_type": "code",
   "execution_count": 9,
   "metadata": {},
   "outputs": [],
   "source": [
    "xtrain, xtest, ytrain, ytest= train_test_split(x, y, test_size=.25, random_state= 100)"
   ]
  },
  {
   "cell_type": "code",
   "execution_count": 10,
   "metadata": {},
   "outputs": [
    {
     "data": {
      "text/html": [
       "<div>\n",
       "<style scoped>\n",
       "    .dataframe tbody tr th:only-of-type {\n",
       "        vertical-align: middle;\n",
       "    }\n",
       "\n",
       "    .dataframe tbody tr th {\n",
       "        vertical-align: top;\n",
       "    }\n",
       "\n",
       "    .dataframe thead th {\n",
       "        text-align: right;\n",
       "    }\n",
       "</style>\n",
       "<table border=\"1\" class=\"dataframe\">\n",
       "  <thead>\n",
       "    <tr style=\"text-align: right;\">\n",
       "      <th></th>\n",
       "      <th>DISAPPROVALS_BL</th>\n",
       "      <th>DISAPPROVALS_EN</th>\n",
       "      <th>DISAPPROVALS_HUMAN</th>\n",
       "      <th>DISAPPROVALS_FM</th>\n",
       "      <th>DISAPPROVALS_OM</th>\n",
       "      <th>DISAPPROVALS_EXACTS</th>\n",
       "      <th>NOTE_BL</th>\n",
       "      <th>NOTE_EN</th>\n",
       "      <th>NOTE_FM</th>\n",
       "      <th>NOTE_OM</th>\n",
       "      <th>NOTE_BL_CAT_N</th>\n",
       "      <th>NOTE_EN_CAT_N</th>\n",
       "      <th>NOTE_FM_CAT_N</th>\n",
       "      <th>NOTE_OM_CAT_N</th>\n",
       "      <th>ENGLISH</th>\n",
       "      <th>H_CLASS_PRES</th>\n",
       "      <th>ONLINE_TASKS</th>\n",
       "      <th>ABSENCES</th>\n",
       "    </tr>\n",
       "  </thead>\n",
       "  <tbody>\n",
       "    <tr>\n",
       "      <th>12028</th>\n",
       "      <td>0.0</td>\n",
       "      <td>0.0</td>\n",
       "      <td>0</td>\n",
       "      <td>0.0</td>\n",
       "      <td>0.0</td>\n",
       "      <td>0</td>\n",
       "      <td>5.200000</td>\n",
       "      <td>6.400000</td>\n",
       "      <td>4.600000</td>\n",
       "      <td>5.000000</td>\n",
       "      <td>6</td>\n",
       "      <td>8</td>\n",
       "      <td>6</td>\n",
       "      <td>6</td>\n",
       "      <td>0.0</td>\n",
       "      <td>13.000000</td>\n",
       "      <td>7.0</td>\n",
       "      <td>1.000000</td>\n",
       "    </tr>\n",
       "    <tr>\n",
       "      <th>39882</th>\n",
       "      <td>0.0</td>\n",
       "      <td>0.0</td>\n",
       "      <td>0</td>\n",
       "      <td>0.0</td>\n",
       "      <td>0.0</td>\n",
       "      <td>0</td>\n",
       "      <td>7.201905</td>\n",
       "      <td>7.396191</td>\n",
       "      <td>7.003809</td>\n",
       "      <td>6.901905</td>\n",
       "      <td>8</td>\n",
       "      <td>8</td>\n",
       "      <td>8</td>\n",
       "      <td>8</td>\n",
       "      <td>0.0</td>\n",
       "      <td>5.000000</td>\n",
       "      <td>5.0</td>\n",
       "      <td>3.000000</td>\n",
       "    </tr>\n",
       "    <tr>\n",
       "      <th>23068</th>\n",
       "      <td>0.0</td>\n",
       "      <td>0.0</td>\n",
       "      <td>0</td>\n",
       "      <td>0.0</td>\n",
       "      <td>0.0</td>\n",
       "      <td>0</td>\n",
       "      <td>7.180958</td>\n",
       "      <td>7.326986</td>\n",
       "      <td>7.288903</td>\n",
       "      <td>6.538083</td>\n",
       "      <td>8</td>\n",
       "      <td>8</td>\n",
       "      <td>8</td>\n",
       "      <td>8</td>\n",
       "      <td>1.0</td>\n",
       "      <td>3.000000</td>\n",
       "      <td>1.0</td>\n",
       "      <td>6.269861</td>\n",
       "    </tr>\n",
       "    <tr>\n",
       "      <th>21313</th>\n",
       "      <td>0.0</td>\n",
       "      <td>0.0</td>\n",
       "      <td>0</td>\n",
       "      <td>0.0</td>\n",
       "      <td>0.0</td>\n",
       "      <td>0</td>\n",
       "      <td>7.077455</td>\n",
       "      <td>6.922545</td>\n",
       "      <td>7.369939</td>\n",
       "      <td>5.352606</td>\n",
       "      <td>8</td>\n",
       "      <td>8</td>\n",
       "      <td>8</td>\n",
       "      <td>6</td>\n",
       "      <td>1.0</td>\n",
       "      <td>2.000000</td>\n",
       "      <td>2.0</td>\n",
       "      <td>5.000000</td>\n",
       "    </tr>\n",
       "    <tr>\n",
       "      <th>34160</th>\n",
       "      <td>0.0</td>\n",
       "      <td>0.0</td>\n",
       "      <td>0</td>\n",
       "      <td>0.0</td>\n",
       "      <td>0.0</td>\n",
       "      <td>0</td>\n",
       "      <td>7.160756</td>\n",
       "      <td>7.660756</td>\n",
       "      <td>7.143022</td>\n",
       "      <td>7.039244</td>\n",
       "      <td>8</td>\n",
       "      <td>8</td>\n",
       "      <td>8</td>\n",
       "      <td>8</td>\n",
       "      <td>1.0</td>\n",
       "      <td>4.196222</td>\n",
       "      <td>0.0</td>\n",
       "      <td>5.607556</td>\n",
       "    </tr>\n",
       "    <tr>\n",
       "      <th>...</th>\n",
       "      <td>...</td>\n",
       "      <td>...</td>\n",
       "      <td>...</td>\n",
       "      <td>...</td>\n",
       "      <td>...</td>\n",
       "      <td>...</td>\n",
       "      <td>...</td>\n",
       "      <td>...</td>\n",
       "      <td>...</td>\n",
       "      <td>...</td>\n",
       "      <td>...</td>\n",
       "      <td>...</td>\n",
       "      <td>...</td>\n",
       "      <td>...</td>\n",
       "      <td>...</td>\n",
       "      <td>...</td>\n",
       "      <td>...</td>\n",
       "      <td>...</td>\n",
       "    </tr>\n",
       "    <tr>\n",
       "      <th>16304</th>\n",
       "      <td>0.0</td>\n",
       "      <td>0.0</td>\n",
       "      <td>0</td>\n",
       "      <td>0.0</td>\n",
       "      <td>0.0</td>\n",
       "      <td>0</td>\n",
       "      <td>7.200000</td>\n",
       "      <td>6.100000</td>\n",
       "      <td>6.600000</td>\n",
       "      <td>5.200000</td>\n",
       "      <td>8</td>\n",
       "      <td>8</td>\n",
       "      <td>8</td>\n",
       "      <td>6</td>\n",
       "      <td>1.0</td>\n",
       "      <td>3.000000</td>\n",
       "      <td>2.0</td>\n",
       "      <td>8.000000</td>\n",
       "    </tr>\n",
       "    <tr>\n",
       "      <th>79</th>\n",
       "      <td>0.0</td>\n",
       "      <td>0.0</td>\n",
       "      <td>0</td>\n",
       "      <td>0.0</td>\n",
       "      <td>0.0</td>\n",
       "      <td>0</td>\n",
       "      <td>5.700000</td>\n",
       "      <td>5.600000</td>\n",
       "      <td>5.200000</td>\n",
       "      <td>5.700000</td>\n",
       "      <td>6</td>\n",
       "      <td>6</td>\n",
       "      <td>6</td>\n",
       "      <td>6</td>\n",
       "      <td>1.0</td>\n",
       "      <td>2.000000</td>\n",
       "      <td>5.0</td>\n",
       "      <td>3.000000</td>\n",
       "    </tr>\n",
       "    <tr>\n",
       "      <th>12119</th>\n",
       "      <td>0.0</td>\n",
       "      <td>0.0</td>\n",
       "      <td>0</td>\n",
       "      <td>0.0</td>\n",
       "      <td>0.0</td>\n",
       "      <td>0</td>\n",
       "      <td>5.400000</td>\n",
       "      <td>5.100000</td>\n",
       "      <td>5.000000</td>\n",
       "      <td>5.400000</td>\n",
       "      <td>6</td>\n",
       "      <td>6</td>\n",
       "      <td>6</td>\n",
       "      <td>6</td>\n",
       "      <td>0.0</td>\n",
       "      <td>5.000000</td>\n",
       "      <td>0.0</td>\n",
       "      <td>3.000000</td>\n",
       "    </tr>\n",
       "    <tr>\n",
       "      <th>14147</th>\n",
       "      <td>0.0</td>\n",
       "      <td>0.0</td>\n",
       "      <td>0</td>\n",
       "      <td>0.0</td>\n",
       "      <td>0.0</td>\n",
       "      <td>0</td>\n",
       "      <td>6.600000</td>\n",
       "      <td>6.000000</td>\n",
       "      <td>6.600000</td>\n",
       "      <td>6.300000</td>\n",
       "      <td>8</td>\n",
       "      <td>6</td>\n",
       "      <td>8</td>\n",
       "      <td>8</td>\n",
       "      <td>0.0</td>\n",
       "      <td>9.000000</td>\n",
       "      <td>4.0</td>\n",
       "      <td>4.000000</td>\n",
       "    </tr>\n",
       "    <tr>\n",
       "      <th>38408</th>\n",
       "      <td>0.0</td>\n",
       "      <td>0.0</td>\n",
       "      <td>0</td>\n",
       "      <td>0.0</td>\n",
       "      <td>0.0</td>\n",
       "      <td>0</td>\n",
       "      <td>7.392502</td>\n",
       "      <td>7.677505</td>\n",
       "      <td>8.914997</td>\n",
       "      <td>7.470007</td>\n",
       "      <td>8</td>\n",
       "      <td>8</td>\n",
       "      <td>10</td>\n",
       "      <td>8</td>\n",
       "      <td>0.0</td>\n",
       "      <td>12.925017</td>\n",
       "      <td>5.0</td>\n",
       "      <td>3.000000</td>\n",
       "    </tr>\n",
       "  </tbody>\n",
       "</table>\n",
       "<p>30858 rows × 18 columns</p>\n",
       "</div>"
      ],
      "text/plain": [
       "       DISAPPROVALS_BL  DISAPPROVALS_EN  DISAPPROVALS_HUMAN  DISAPPROVALS_FM  \\\n",
       "12028              0.0              0.0                   0              0.0   \n",
       "39882              0.0              0.0                   0              0.0   \n",
       "23068              0.0              0.0                   0              0.0   \n",
       "21313              0.0              0.0                   0              0.0   \n",
       "34160              0.0              0.0                   0              0.0   \n",
       "...                ...              ...                 ...              ...   \n",
       "16304              0.0              0.0                   0              0.0   \n",
       "79                 0.0              0.0                   0              0.0   \n",
       "12119              0.0              0.0                   0              0.0   \n",
       "14147              0.0              0.0                   0              0.0   \n",
       "38408              0.0              0.0                   0              0.0   \n",
       "\n",
       "       DISAPPROVALS_OM  DISAPPROVALS_EXACTS   NOTE_BL   NOTE_EN   NOTE_FM  \\\n",
       "12028              0.0                    0  5.200000  6.400000  4.600000   \n",
       "39882              0.0                    0  7.201905  7.396191  7.003809   \n",
       "23068              0.0                    0  7.180958  7.326986  7.288903   \n",
       "21313              0.0                    0  7.077455  6.922545  7.369939   \n",
       "34160              0.0                    0  7.160756  7.660756  7.143022   \n",
       "...                ...                  ...       ...       ...       ...   \n",
       "16304              0.0                    0  7.200000  6.100000  6.600000   \n",
       "79                 0.0                    0  5.700000  5.600000  5.200000   \n",
       "12119              0.0                    0  5.400000  5.100000  5.000000   \n",
       "14147              0.0                    0  6.600000  6.000000  6.600000   \n",
       "38408              0.0                    0  7.392502  7.677505  8.914997   \n",
       "\n",
       "        NOTE_OM  NOTE_BL_CAT_N  NOTE_EN_CAT_N  NOTE_FM_CAT_N  NOTE_OM_CAT_N  \\\n",
       "12028  5.000000              6              8              6              6   \n",
       "39882  6.901905              8              8              8              8   \n",
       "23068  6.538083              8              8              8              8   \n",
       "21313  5.352606              8              8              8              6   \n",
       "34160  7.039244              8              8              8              8   \n",
       "...         ...            ...            ...            ...            ...   \n",
       "16304  5.200000              8              8              8              6   \n",
       "79     5.700000              6              6              6              6   \n",
       "12119  5.400000              6              6              6              6   \n",
       "14147  6.300000              8              6              8              8   \n",
       "38408  7.470007              8              8             10              8   \n",
       "\n",
       "       ENGLISH  H_CLASS_PRES  ONLINE_TASKS  ABSENCES  \n",
       "12028      0.0     13.000000           7.0  1.000000  \n",
       "39882      0.0      5.000000           5.0  3.000000  \n",
       "23068      1.0      3.000000           1.0  6.269861  \n",
       "21313      1.0      2.000000           2.0  5.000000  \n",
       "34160      1.0      4.196222           0.0  5.607556  \n",
       "...        ...           ...           ...       ...  \n",
       "16304      1.0      3.000000           2.0  8.000000  \n",
       "79         1.0      2.000000           5.0  3.000000  \n",
       "12119      0.0      5.000000           0.0  3.000000  \n",
       "14147      0.0      9.000000           4.0  4.000000  \n",
       "38408      0.0     12.925017           5.0  3.000000  \n",
       "\n",
       "[30858 rows x 18 columns]"
      ]
     },
     "execution_count": 10,
     "metadata": {},
     "output_type": "execute_result"
    }
   ],
   "source": [
    "xtrain"
   ]
  },
  {
   "cell_type": "code",
   "execution_count": 11,
   "metadata": {},
   "outputs": [],
   "source": [
    "rf = RandomForestClassifier(max_depth= 15, random_state= 100, max_features= \"log2\")\n",
    "model = rf.fit(xtrain, ytrain)"
   ]
  },
  {
   "cell_type": "code",
   "execution_count": 12,
   "metadata": {},
   "outputs": [
    {
     "data": {
      "text/plain": [
       "0.9460107589603992"
      ]
     },
     "execution_count": 12,
     "metadata": {},
     "output_type": "execute_result"
    }
   ],
   "source": [
    "predict= model.predict(xtrain)\n",
    "accuracy_score(ytrain, predict)"
   ]
  },
  {
   "cell_type": "code",
   "execution_count": 13,
   "metadata": {},
   "outputs": [
    {
     "data": {
      "text/plain": [
       "0.854087683484009"
      ]
     },
     "execution_count": 13,
     "metadata": {},
     "output_type": "execute_result"
    }
   ],
   "source": [
    "pred= model.predict(xtest)\n",
    "accuracy_score(ytest, pred)"
   ]
  },
  {
   "cell_type": "code",
   "execution_count": 78,
   "metadata": {},
   "outputs": [],
   "source": [
    "parameters= {\"n_estimators\":[10, 50, 100, 200], \"max_depth\":[8, 10, 15, 20]}\n",
    "rf1= RandomForestClassifier(random_state= 100)"
   ]
  },
  {
   "cell_type": "code",
   "execution_count": 79,
   "metadata": {},
   "outputs": [],
   "source": [
    "grid= GridSearchCV(rf1, parameters, cv=5, refit=True, n_jobs=4, scoring=\"accuracy\")"
   ]
  },
  {
   "cell_type": "code",
   "execution_count": 16,
   "metadata": {},
   "outputs": [],
   "source": [
    "model2= grid.fit(xtrain, ytrain)"
   ]
  },
  {
   "cell_type": "code",
   "execution_count": 17,
   "metadata": {},
   "outputs": [
    {
     "data": {
      "text/plain": [
       "0.8696284641235273"
      ]
     },
     "execution_count": 17,
     "metadata": {},
     "output_type": "execute_result"
    }
   ],
   "source": [
    "model2.best_score_"
   ]
  },
  {
   "cell_type": "code",
   "execution_count": 18,
   "metadata": {},
   "outputs": [
    {
     "data": {
      "text/plain": [
       "{'max_depth': 20, 'n_estimators': 100}"
      ]
     },
     "execution_count": 18,
     "metadata": {},
     "output_type": "execute_result"
    }
   ],
   "source": [
    "model2.best_params_"
   ]
  },
  {
   "cell_type": "code",
   "execution_count": 19,
   "metadata": {},
   "outputs": [
    {
     "data": {
      "text/plain": [
       "0.8834451249149412"
      ]
     },
     "execution_count": 19,
     "metadata": {},
     "output_type": "execute_result"
    }
   ],
   "source": [
    "pred2= model2.predict(xtest)\n",
    "accuracy_score(ytest, pred2)"
   ]
  },
  {
   "cell_type": "code",
   "execution_count": 20,
   "metadata": {},
   "outputs": [],
   "source": [
    "parameters2= {\"n_estimators\":[50, 100, 200], \"max_depth\":[10, 15, 20],\n",
    "            \"min_samples_split\":list(range(2,7))}\n",
    "grid2= GridSearchCV(rf1, parameters2, cv=5, refit=True, n_jobs=4, scoring=\"accuracy\")"
   ]
  },
  {
   "cell_type": "code",
   "execution_count": 21,
   "metadata": {},
   "outputs": [
    {
     "name": "stderr",
     "output_type": "stream",
     "text": [
      "/home/hsdaniel/anaconda3/lib/python3.7/site-packages/joblib/externals/loky/process_executor.py:706: UserWarning: A worker stopped while some jobs were given to the executor. This can be caused by a too short worker timeout or by a memory leak.\n",
      "  \"timeout or by a memory leak.\", UserWarning\n"
     ]
    }
   ],
   "source": [
    "model3= grid2.fit(xtrain, ytrain)"
   ]
  },
  {
   "cell_type": "code",
   "execution_count": 22,
   "metadata": {},
   "outputs": [
    {
     "data": {
      "text/plain": [
       "0.8696284641235273"
      ]
     },
     "execution_count": 22,
     "metadata": {},
     "output_type": "execute_result"
    }
   ],
   "source": [
    "model3.best_score_"
   ]
  },
  {
   "cell_type": "code",
   "execution_count": 23,
   "metadata": {},
   "outputs": [
    {
     "data": {
      "text/plain": [
       "{'max_depth': 20, 'min_samples_split': 2, 'n_estimators': 100}"
      ]
     },
     "execution_count": 23,
     "metadata": {},
     "output_type": "execute_result"
    }
   ],
   "source": [
    "model3.best_params_"
   ]
  },
  {
   "cell_type": "code",
   "execution_count": 24,
   "metadata": {},
   "outputs": [
    {
     "data": {
      "text/plain": [
       "0.8834451249149412"
      ]
     },
     "execution_count": 24,
     "metadata": {},
     "output_type": "execute_result"
    }
   ],
   "source": [
    "pred3= model3.predict(xtest)\n",
    "accuracy_score(ytest, pred3)"
   ]
  },
  {
   "cell_type": "markdown",
   "metadata": {},
   "source": [
    "<font color=\"darkpink\">loading standardized data</font> "
   ]
  },
  {
   "cell_type": "code",
   "execution_count": 25,
   "metadata": {},
   "outputs": [],
   "source": [
    "xtrain_norm= pd.read_csv(\"Data/x_train_norm.csv\")\n",
    "xtest_norm= pd.read_csv(\"Data/x_test_norm.csv\")\n",
    "y_train= pd.read_csv(\"Data/y_train.csv\")\n",
    "y_test= pd.read_csv(\"Data/y_test.csv\")"
   ]
  },
  {
   "cell_type": "code",
   "execution_count": 26,
   "metadata": {},
   "outputs": [
    {
     "data": {
      "text/html": [
       "<div>\n",
       "<style scoped>\n",
       "    .dataframe tbody tr th:only-of-type {\n",
       "        vertical-align: middle;\n",
       "    }\n",
       "\n",
       "    .dataframe tbody tr th {\n",
       "        vertical-align: top;\n",
       "    }\n",
       "\n",
       "    .dataframe thead th {\n",
       "        text-align: right;\n",
       "    }\n",
       "</style>\n",
       "<table border=\"1\" class=\"dataframe\">\n",
       "  <thead>\n",
       "    <tr style=\"text-align: right;\">\n",
       "      <th></th>\n",
       "      <th>DISAPPROVALS_BL</th>\n",
       "      <th>DISAPPROVALS_EN</th>\n",
       "      <th>DISAPPROVALS_FM</th>\n",
       "      <th>DISAPPROVALS_OM</th>\n",
       "      <th>NOTE_BL</th>\n",
       "      <th>NOTE_EN</th>\n",
       "      <th>NOTE_FM</th>\n",
       "      <th>NOTE_OM</th>\n",
       "      <th>ENGLISH</th>\n",
       "      <th>H_CLASS_PRES</th>\n",
       "      <th>ONLINE_TASKS</th>\n",
       "      <th>ABSENCES</th>\n",
       "    </tr>\n",
       "  </thead>\n",
       "  <tbody>\n",
       "    <tr>\n",
       "      <th>0</th>\n",
       "      <td>-0.250308</td>\n",
       "      <td>-0.250198</td>\n",
       "      <td>-0.293156</td>\n",
       "      <td>-0.293808</td>\n",
       "      <td>-0.212294</td>\n",
       "      <td>-0.877855</td>\n",
       "      <td>-0.551592</td>\n",
       "      <td>-0.135847</td>\n",
       "      <td>0.800015</td>\n",
       "      <td>-0.557012</td>\n",
       "      <td>-0.886794</td>\n",
       "      <td>1.512318</td>\n",
       "    </tr>\n",
       "    <tr>\n",
       "      <th>1</th>\n",
       "      <td>-0.250308</td>\n",
       "      <td>-0.250198</td>\n",
       "      <td>-0.293156</td>\n",
       "      <td>-0.293808</td>\n",
       "      <td>-0.313401</td>\n",
       "      <td>-0.251804</td>\n",
       "      <td>-0.631016</td>\n",
       "      <td>-0.292352</td>\n",
       "      <td>0.800015</td>\n",
       "      <td>-1.117204</td>\n",
       "      <td>-0.886794</td>\n",
       "      <td>1.512318</td>\n",
       "    </tr>\n",
       "    <tr>\n",
       "      <th>2</th>\n",
       "      <td>1.917495</td>\n",
       "      <td>1.927500</td>\n",
       "      <td>-0.293156</td>\n",
       "      <td>-0.293808</td>\n",
       "      <td>-3.144408</td>\n",
       "      <td>-2.996797</td>\n",
       "      <td>-0.273605</td>\n",
       "      <td>-0.448858</td>\n",
       "      <td>0.800015</td>\n",
       "      <td>-0.930473</td>\n",
       "      <td>1.180295</td>\n",
       "      <td>1.512318</td>\n",
       "    </tr>\n",
       "    <tr>\n",
       "      <th>3</th>\n",
       "      <td>1.917495</td>\n",
       "      <td>1.927500</td>\n",
       "      <td>1.631678</td>\n",
       "      <td>1.701063</td>\n",
       "      <td>-3.144408</td>\n",
       "      <td>-2.996797</td>\n",
       "      <td>-2.497497</td>\n",
       "      <td>-2.952943</td>\n",
       "      <td>-1.385902</td>\n",
       "      <td>-1.117204</td>\n",
       "      <td>-1.920339</td>\n",
       "      <td>-0.330399</td>\n",
       "    </tr>\n",
       "    <tr>\n",
       "      <th>4</th>\n",
       "      <td>-0.250308</td>\n",
       "      <td>-0.250198</td>\n",
       "      <td>-0.293156</td>\n",
       "      <td>-0.293808</td>\n",
       "      <td>0.444904</td>\n",
       "      <td>0.470562</td>\n",
       "      <td>0.004381</td>\n",
       "      <td>0.698848</td>\n",
       "      <td>-1.385902</td>\n",
       "      <td>-0.743743</td>\n",
       "      <td>1.180295</td>\n",
       "      <td>-0.330399</td>\n",
       "    </tr>\n",
       "    <tr>\n",
       "      <th>...</th>\n",
       "      <td>...</td>\n",
       "      <td>...</td>\n",
       "      <td>...</td>\n",
       "      <td>...</td>\n",
       "      <td>...</td>\n",
       "      <td>...</td>\n",
       "      <td>...</td>\n",
       "      <td>...</td>\n",
       "      <td>...</td>\n",
       "      <td>...</td>\n",
       "      <td>...</td>\n",
       "      <td>...</td>\n",
       "    </tr>\n",
       "    <tr>\n",
       "      <th>33080</th>\n",
       "      <td>-0.250308</td>\n",
       "      <td>-0.250198</td>\n",
       "      <td>-0.293156</td>\n",
       "      <td>-0.293808</td>\n",
       "      <td>0.784377</td>\n",
       "      <td>0.655919</td>\n",
       "      <td>-0.341944</td>\n",
       "      <td>0.714010</td>\n",
       "      <td>0.177260</td>\n",
       "      <td>-0.503813</td>\n",
       "      <td>1.180295</td>\n",
       "      <td>-0.330399</td>\n",
       "    </tr>\n",
       "    <tr>\n",
       "      <th>33081</th>\n",
       "      <td>-0.250308</td>\n",
       "      <td>-0.250198</td>\n",
       "      <td>-0.293156</td>\n",
       "      <td>-0.293808</td>\n",
       "      <td>0.863443</td>\n",
       "      <td>1.192929</td>\n",
       "      <td>1.276570</td>\n",
       "      <td>-0.135847</td>\n",
       "      <td>-0.597996</td>\n",
       "      <td>1.377602</td>\n",
       "      <td>1.180295</td>\n",
       "      <td>-0.944638</td>\n",
       "    </tr>\n",
       "    <tr>\n",
       "      <th>33082</th>\n",
       "      <td>-0.250308</td>\n",
       "      <td>-0.250198</td>\n",
       "      <td>-0.293156</td>\n",
       "      <td>-0.293808</td>\n",
       "      <td>0.494578</td>\n",
       "      <td>0.423242</td>\n",
       "      <td>0.878399</td>\n",
       "      <td>0.491536</td>\n",
       "      <td>-1.385902</td>\n",
       "      <td>1.683757</td>\n",
       "      <td>0.663522</td>\n",
       "      <td>-0.536926</td>\n",
       "    </tr>\n",
       "    <tr>\n",
       "      <th>33083</th>\n",
       "      <td>-0.250308</td>\n",
       "      <td>-0.250198</td>\n",
       "      <td>-0.293156</td>\n",
       "      <td>-0.293808</td>\n",
       "      <td>0.882537</td>\n",
       "      <td>0.907402</td>\n",
       "      <td>1.056171</td>\n",
       "      <td>1.236893</td>\n",
       "      <td>0.800015</td>\n",
       "      <td>-0.292937</td>\n",
       "      <td>-0.672747</td>\n",
       "      <td>-0.944638</td>\n",
       "    </tr>\n",
       "    <tr>\n",
       "      <th>33084</th>\n",
       "      <td>-0.250308</td>\n",
       "      <td>-0.250198</td>\n",
       "      <td>-0.293156</td>\n",
       "      <td>-0.293808</td>\n",
       "      <td>0.980722</td>\n",
       "      <td>1.044164</td>\n",
       "      <td>1.297195</td>\n",
       "      <td>-0.135847</td>\n",
       "      <td>-1.288505</td>\n",
       "      <td>0.555052</td>\n",
       "      <td>1.180295</td>\n",
       "      <td>-0.944638</td>\n",
       "    </tr>\n",
       "  </tbody>\n",
       "</table>\n",
       "<p>33085 rows × 12 columns</p>\n",
       "</div>"
      ],
      "text/plain": [
       "       DISAPPROVALS_BL  DISAPPROVALS_EN  DISAPPROVALS_FM  DISAPPROVALS_OM  \\\n",
       "0            -0.250308        -0.250198        -0.293156        -0.293808   \n",
       "1            -0.250308        -0.250198        -0.293156        -0.293808   \n",
       "2             1.917495         1.927500        -0.293156        -0.293808   \n",
       "3             1.917495         1.927500         1.631678         1.701063   \n",
       "4            -0.250308        -0.250198        -0.293156        -0.293808   \n",
       "...                ...              ...              ...              ...   \n",
       "33080        -0.250308        -0.250198        -0.293156        -0.293808   \n",
       "33081        -0.250308        -0.250198        -0.293156        -0.293808   \n",
       "33082        -0.250308        -0.250198        -0.293156        -0.293808   \n",
       "33083        -0.250308        -0.250198        -0.293156        -0.293808   \n",
       "33084        -0.250308        -0.250198        -0.293156        -0.293808   \n",
       "\n",
       "        NOTE_BL   NOTE_EN   NOTE_FM   NOTE_OM   ENGLISH  H_CLASS_PRES  \\\n",
       "0     -0.212294 -0.877855 -0.551592 -0.135847  0.800015     -0.557012   \n",
       "1     -0.313401 -0.251804 -0.631016 -0.292352  0.800015     -1.117204   \n",
       "2     -3.144408 -2.996797 -0.273605 -0.448858  0.800015     -0.930473   \n",
       "3     -3.144408 -2.996797 -2.497497 -2.952943 -1.385902     -1.117204   \n",
       "4      0.444904  0.470562  0.004381  0.698848 -1.385902     -0.743743   \n",
       "...         ...       ...       ...       ...       ...           ...   \n",
       "33080  0.784377  0.655919 -0.341944  0.714010  0.177260     -0.503813   \n",
       "33081  0.863443  1.192929  1.276570 -0.135847 -0.597996      1.377602   \n",
       "33082  0.494578  0.423242  0.878399  0.491536 -1.385902      1.683757   \n",
       "33083  0.882537  0.907402  1.056171  1.236893  0.800015     -0.292937   \n",
       "33084  0.980722  1.044164  1.297195 -0.135847 -1.288505      0.555052   \n",
       "\n",
       "       ONLINE_TASKS  ABSENCES  \n",
       "0         -0.886794  1.512318  \n",
       "1         -0.886794  1.512318  \n",
       "2          1.180295  1.512318  \n",
       "3         -1.920339 -0.330399  \n",
       "4          1.180295 -0.330399  \n",
       "...             ...       ...  \n",
       "33080      1.180295 -0.330399  \n",
       "33081      1.180295 -0.944638  \n",
       "33082      0.663522 -0.536926  \n",
       "33083     -0.672747 -0.944638  \n",
       "33084      1.180295 -0.944638  \n",
       "\n",
       "[33085 rows x 12 columns]"
      ]
     },
     "execution_count": 26,
     "metadata": {},
     "output_type": "execute_result"
    }
   ],
   "source": [
    "xtrain_norm"
   ]
  },
  {
   "cell_type": "code",
   "execution_count": 37,
   "metadata": {},
   "outputs": [
    {
     "data": {
      "text/html": [
       "<div>\n",
       "<style scoped>\n",
       "    .dataframe tbody tr th:only-of-type {\n",
       "        vertical-align: middle;\n",
       "    }\n",
       "\n",
       "    .dataframe tbody tr th {\n",
       "        vertical-align: top;\n",
       "    }\n",
       "\n",
       "    .dataframe thead th {\n",
       "        text-align: right;\n",
       "    }\n",
       "</style>\n",
       "<table border=\"1\" class=\"dataframe\">\n",
       "  <thead>\n",
       "    <tr style=\"text-align: right;\">\n",
       "      <th></th>\n",
       "      <th>DISAPPROVALS_BL</th>\n",
       "      <th>DISAPPROVALS_EN</th>\n",
       "      <th>DISAPPROVALS_FM</th>\n",
       "      <th>DISAPPROVALS_OM</th>\n",
       "      <th>NOTE_BL</th>\n",
       "      <th>NOTE_EN</th>\n",
       "      <th>NOTE_FM</th>\n",
       "      <th>NOTE_OM</th>\n",
       "      <th>ENGLISH</th>\n",
       "      <th>H_CLASS_PRES</th>\n",
       "      <th>ONLINE_TASKS</th>\n",
       "      <th>ABSENCES</th>\n",
       "    </tr>\n",
       "  </thead>\n",
       "  <tbody>\n",
       "    <tr>\n",
       "      <th>0</th>\n",
       "      <td>-0.250308</td>\n",
       "      <td>-0.250198</td>\n",
       "      <td>-0.293156</td>\n",
       "      <td>-0.293808</td>\n",
       "      <td>-0.262848</td>\n",
       "      <td>-0.059173</td>\n",
       "      <td>-0.591304</td>\n",
       "      <td>-0.396689</td>\n",
       "      <td>0.800015</td>\n",
       "      <td>-0.743743</td>\n",
       "      <td>-0.886794</td>\n",
       "      <td>-0.330399</td>\n",
       "    </tr>\n",
       "    <tr>\n",
       "      <th>1</th>\n",
       "      <td>-0.250308</td>\n",
       "      <td>-0.250198</td>\n",
       "      <td>-0.293156</td>\n",
       "      <td>-0.293808</td>\n",
       "      <td>0.394350</td>\n",
       "      <td>0.037142</td>\n",
       "      <td>0.361792</td>\n",
       "      <td>-0.396689</td>\n",
       "      <td>-1.385902</td>\n",
       "      <td>0.750103</td>\n",
       "      <td>0.146750</td>\n",
       "      <td>-0.944638</td>\n",
       "    </tr>\n",
       "    <tr>\n",
       "      <th>2</th>\n",
       "      <td>-0.250308</td>\n",
       "      <td>-0.250198</td>\n",
       "      <td>-0.293156</td>\n",
       "      <td>-0.293808</td>\n",
       "      <td>0.849333</td>\n",
       "      <td>0.855824</td>\n",
       "      <td>0.798628</td>\n",
       "      <td>-0.135847</td>\n",
       "      <td>0.800015</td>\n",
       "      <td>0.003180</td>\n",
       "      <td>0.663522</td>\n",
       "      <td>-0.330399</td>\n",
       "    </tr>\n",
       "    <tr>\n",
       "      <th>3</th>\n",
       "      <td>-0.250308</td>\n",
       "      <td>-0.250198</td>\n",
       "      <td>-0.293156</td>\n",
       "      <td>-0.293808</td>\n",
       "      <td>0.091028</td>\n",
       "      <td>-0.059173</td>\n",
       "      <td>-0.591304</td>\n",
       "      <td>0.072827</td>\n",
       "      <td>0.800015</td>\n",
       "      <td>-0.930473</td>\n",
       "      <td>-0.886794</td>\n",
       "      <td>0.283840</td>\n",
       "    </tr>\n",
       "    <tr>\n",
       "      <th>4</th>\n",
       "      <td>-0.250308</td>\n",
       "      <td>-0.250198</td>\n",
       "      <td>-0.293156</td>\n",
       "      <td>-0.293808</td>\n",
       "      <td>0.242689</td>\n",
       "      <td>0.181616</td>\n",
       "      <td>-0.114756</td>\n",
       "      <td>-0.135847</td>\n",
       "      <td>0.800015</td>\n",
       "      <td>-0.930473</td>\n",
       "      <td>-0.370022</td>\n",
       "      <td>-0.330399</td>\n",
       "    </tr>\n",
       "    <tr>\n",
       "      <th>...</th>\n",
       "      <td>...</td>\n",
       "      <td>...</td>\n",
       "      <td>...</td>\n",
       "      <td>...</td>\n",
       "      <td>...</td>\n",
       "      <td>...</td>\n",
       "      <td>...</td>\n",
       "      <td>...</td>\n",
       "      <td>...</td>\n",
       "      <td>...</td>\n",
       "      <td>...</td>\n",
       "      <td>...</td>\n",
       "    </tr>\n",
       "    <tr>\n",
       "      <th>3704</th>\n",
       "      <td>-0.250308</td>\n",
       "      <td>-0.250198</td>\n",
       "      <td>-0.293156</td>\n",
       "      <td>-0.293808</td>\n",
       "      <td>-0.414509</td>\n",
       "      <td>-0.637066</td>\n",
       "      <td>-0.114756</td>\n",
       "      <td>0.385837</td>\n",
       "      <td>0.800015</td>\n",
       "      <td>-0.557012</td>\n",
       "      <td>0.663522</td>\n",
       "      <td>-0.330399</td>\n",
       "    </tr>\n",
       "    <tr>\n",
       "      <th>3705</th>\n",
       "      <td>-0.250308</td>\n",
       "      <td>-0.250198</td>\n",
       "      <td>-0.293156</td>\n",
       "      <td>-0.293808</td>\n",
       "      <td>-0.717831</td>\n",
       "      <td>-0.251804</td>\n",
       "      <td>-0.194180</td>\n",
       "      <td>-0.553194</td>\n",
       "      <td>0.800015</td>\n",
       "      <td>-0.557012</td>\n",
       "      <td>0.663522</td>\n",
       "      <td>-0.944638</td>\n",
       "    </tr>\n",
       "    <tr>\n",
       "      <th>3706</th>\n",
       "      <td>-0.250308</td>\n",
       "      <td>-0.250198</td>\n",
       "      <td>-0.293156</td>\n",
       "      <td>-0.293808</td>\n",
       "      <td>0.343797</td>\n",
       "      <td>-0.396278</td>\n",
       "      <td>0.600067</td>\n",
       "      <td>-0.135847</td>\n",
       "      <td>0.800015</td>\n",
       "      <td>1.497026</td>\n",
       "      <td>-1.920339</td>\n",
       "      <td>-0.330399</td>\n",
       "    </tr>\n",
       "    <tr>\n",
       "      <th>3707</th>\n",
       "      <td>-0.250308</td>\n",
       "      <td>-0.250198</td>\n",
       "      <td>-0.293156</td>\n",
       "      <td>-0.293808</td>\n",
       "      <td>0.546011</td>\n",
       "      <td>0.326089</td>\n",
       "      <td>0.679491</td>\n",
       "      <td>0.490174</td>\n",
       "      <td>0.800015</td>\n",
       "      <td>0.563373</td>\n",
       "      <td>1.180295</td>\n",
       "      <td>-0.330399</td>\n",
       "    </tr>\n",
       "    <tr>\n",
       "      <th>3708</th>\n",
       "      <td>1.917495</td>\n",
       "      <td>1.927500</td>\n",
       "      <td>1.631678</td>\n",
       "      <td>1.701063</td>\n",
       "      <td>-3.144408</td>\n",
       "      <td>-2.996797</td>\n",
       "      <td>-2.497497</td>\n",
       "      <td>-2.952943</td>\n",
       "      <td>0.800015</td>\n",
       "      <td>-0.743743</td>\n",
       "      <td>-1.920339</td>\n",
       "      <td>2.126557</td>\n",
       "    </tr>\n",
       "  </tbody>\n",
       "</table>\n",
       "<p>3709 rows × 12 columns</p>\n",
       "</div>"
      ],
      "text/plain": [
       "      DISAPPROVALS_BL  DISAPPROVALS_EN  DISAPPROVALS_FM  DISAPPROVALS_OM  \\\n",
       "0           -0.250308        -0.250198        -0.293156        -0.293808   \n",
       "1           -0.250308        -0.250198        -0.293156        -0.293808   \n",
       "2           -0.250308        -0.250198        -0.293156        -0.293808   \n",
       "3           -0.250308        -0.250198        -0.293156        -0.293808   \n",
       "4           -0.250308        -0.250198        -0.293156        -0.293808   \n",
       "...               ...              ...              ...              ...   \n",
       "3704        -0.250308        -0.250198        -0.293156        -0.293808   \n",
       "3705        -0.250308        -0.250198        -0.293156        -0.293808   \n",
       "3706        -0.250308        -0.250198        -0.293156        -0.293808   \n",
       "3707        -0.250308        -0.250198        -0.293156        -0.293808   \n",
       "3708         1.917495         1.927500         1.631678         1.701063   \n",
       "\n",
       "       NOTE_BL   NOTE_EN   NOTE_FM   NOTE_OM   ENGLISH  H_CLASS_PRES  \\\n",
       "0    -0.262848 -0.059173 -0.591304 -0.396689  0.800015     -0.743743   \n",
       "1     0.394350  0.037142  0.361792 -0.396689 -1.385902      0.750103   \n",
       "2     0.849333  0.855824  0.798628 -0.135847  0.800015      0.003180   \n",
       "3     0.091028 -0.059173 -0.591304  0.072827  0.800015     -0.930473   \n",
       "4     0.242689  0.181616 -0.114756 -0.135847  0.800015     -0.930473   \n",
       "...        ...       ...       ...       ...       ...           ...   \n",
       "3704 -0.414509 -0.637066 -0.114756  0.385837  0.800015     -0.557012   \n",
       "3705 -0.717831 -0.251804 -0.194180 -0.553194  0.800015     -0.557012   \n",
       "3706  0.343797 -0.396278  0.600067 -0.135847  0.800015      1.497026   \n",
       "3707  0.546011  0.326089  0.679491  0.490174  0.800015      0.563373   \n",
       "3708 -3.144408 -2.996797 -2.497497 -2.952943  0.800015     -0.743743   \n",
       "\n",
       "      ONLINE_TASKS  ABSENCES  \n",
       "0        -0.886794 -0.330399  \n",
       "1         0.146750 -0.944638  \n",
       "2         0.663522 -0.330399  \n",
       "3        -0.886794  0.283840  \n",
       "4        -0.370022 -0.330399  \n",
       "...            ...       ...  \n",
       "3704      0.663522 -0.330399  \n",
       "3705      0.663522 -0.944638  \n",
       "3706     -1.920339 -0.330399  \n",
       "3707      1.180295 -0.330399  \n",
       "3708     -1.920339  2.126557  \n",
       "\n",
       "[3709 rows x 12 columns]"
      ]
     },
     "execution_count": 37,
     "metadata": {},
     "output_type": "execute_result"
    }
   ],
   "source": [
    "xtest_norm"
   ]
  },
  {
   "cell_type": "code",
   "execution_count": 27,
   "metadata": {},
   "outputs": [],
   "source": [
    "#y_train = y_train.to_numpy()\n",
    "y_train = np.ravel(y_train)"
   ]
  },
  {
   "cell_type": "code",
   "execution_count": 28,
   "metadata": {},
   "outputs": [
    {
     "data": {
      "text/plain": [
       "(3709, 12)"
      ]
     },
     "execution_count": 28,
     "metadata": {},
     "output_type": "execute_result"
    }
   ],
   "source": [
    "xtest_norm.shape"
   ]
  },
  {
   "cell_type": "code",
   "execution_count": 29,
   "metadata": {},
   "outputs": [],
   "source": [
    "y_test= np.ravel(y_test)"
   ]
  },
  {
   "cell_type": "code",
   "execution_count": 30,
   "metadata": {},
   "outputs": [],
   "source": [
    "model4 = rf.fit(xtrain_norm, y_train)"
   ]
  },
  {
   "cell_type": "code",
   "execution_count": 31,
   "metadata": {},
   "outputs": [
    {
     "data": {
      "text/plain": [
       "0.9517303914160495"
      ]
     },
     "execution_count": 31,
     "metadata": {},
     "output_type": "execute_result"
    }
   ],
   "source": [
    "predict4= model4.predict(xtrain_norm)\n",
    "accuracy_score(y_train, predict4)"
   ]
  },
  {
   "cell_type": "code",
   "execution_count": 32,
   "metadata": {},
   "outputs": [
    {
     "data": {
      "text/plain": [
       "0.7710973308169318"
      ]
     },
     "execution_count": 32,
     "metadata": {},
     "output_type": "execute_result"
    }
   ],
   "source": [
    "pred4= model4.predict(xtest_norm)\n",
    "accuracy_score(y_test, pred4)"
   ]
  },
  {
   "cell_type": "code",
   "execution_count": 33,
   "metadata": {},
   "outputs": [
    {
     "name": "stderr",
     "output_type": "stream",
     "text": [
      "/home/hsdaniel/anaconda3/lib/python3.7/site-packages/joblib/externals/loky/process_executor.py:706: UserWarning: A worker stopped while some jobs were given to the executor. This can be caused by a too short worker timeout or by a memory leak.\n",
      "  \"timeout or by a memory leak.\", UserWarning\n"
     ]
    }
   ],
   "source": [
    "model5= grid.fit(xtrain_norm, y_train)"
   ]
  },
  {
   "cell_type": "code",
   "execution_count": 34,
   "metadata": {},
   "outputs": [
    {
     "data": {
      "text/plain": [
       "0.8900710291672965"
      ]
     },
     "execution_count": 34,
     "metadata": {},
     "output_type": "execute_result"
    }
   ],
   "source": [
    "model5.best_score_"
   ]
  },
  {
   "cell_type": "code",
   "execution_count": 35,
   "metadata": {},
   "outputs": [
    {
     "data": {
      "text/plain": [
       "{'max_depth': 20, 'n_estimators': 200}"
      ]
     },
     "execution_count": 35,
     "metadata": {},
     "output_type": "execute_result"
    }
   ],
   "source": [
    "model5.best_params_"
   ]
  },
  {
   "cell_type": "code",
   "execution_count": 36,
   "metadata": {},
   "outputs": [
    {
     "data": {
      "text/plain": [
       "0.772984631976274"
      ]
     },
     "execution_count": 36,
     "metadata": {},
     "output_type": "execute_result"
    }
   ],
   "source": [
    "pred5= model5.predict(xtest_norm)\n",
    "accuracy_score(y_test, pred5)"
   ]
  },
  {
   "cell_type": "markdown",
   "metadata": {},
   "source": [
    "Standardizing data"
   ]
  },
  {
   "cell_type": "code",
   "execution_count": 38,
   "metadata": {},
   "outputs": [],
   "source": [
    "minmax= MinMaxScaler()\n",
    "train_norm= minmax.fit_transform(xtrain)"
   ]
  },
  {
   "cell_type": "code",
   "execution_count": 39,
   "metadata": {},
   "outputs": [],
   "source": [
    "test_norm= minmax.transform(xtest)"
   ]
  },
  {
   "cell_type": "code",
   "execution_count": 40,
   "metadata": {},
   "outputs": [],
   "source": [
    "model6= rf.fit(train_norm, ytrain)"
   ]
  },
  {
   "cell_type": "code",
   "execution_count": 41,
   "metadata": {},
   "outputs": [
    {
     "data": {
      "text/plain": [
       "0.9459459459459459"
      ]
     },
     "execution_count": 41,
     "metadata": {},
     "output_type": "execute_result"
    }
   ],
   "source": [
    "predict6= model6.predict(train_norm)\n",
    "accuracy_score(ytrain, predict6)"
   ]
  },
  {
   "cell_type": "code",
   "execution_count": 42,
   "metadata": {},
   "outputs": [
    {
     "data": {
      "text/plain": [
       "0.8533100029163021"
      ]
     },
     "execution_count": 42,
     "metadata": {},
     "output_type": "execute_result"
    }
   ],
   "source": [
    "pred6= model6.predict(test_norm)\n",
    "accuracy_score(ytest, pred6)"
   ]
  },
  {
   "cell_type": "code",
   "execution_count": 43,
   "metadata": {},
   "outputs": [],
   "source": [
    "model7= grid.fit(train_norm, ytrain)"
   ]
  },
  {
   "cell_type": "code",
   "execution_count": 44,
   "metadata": {},
   "outputs": [
    {
     "data": {
      "text/plain": [
       "0.8700821730812269"
      ]
     },
     "execution_count": 44,
     "metadata": {},
     "output_type": "execute_result"
    }
   ],
   "source": [
    "model7.best_score_"
   ]
  },
  {
   "cell_type": "code",
   "execution_count": 45,
   "metadata": {},
   "outputs": [
    {
     "data": {
      "text/plain": [
       "0.8844172256245747"
      ]
     },
     "execution_count": 45,
     "metadata": {},
     "output_type": "execute_result"
    }
   ],
   "source": [
    "pred7= model7.predict(test_norm)\n",
    "accuracy_score(ytest, pred7)"
   ]
  },
  {
   "cell_type": "markdown",
   "metadata": {},
   "source": [
    "Loading feature selection data"
   ]
  },
  {
   "cell_type": "code",
   "execution_count": 46,
   "metadata": {},
   "outputs": [],
   "source": [
    "selection= pd.read_csv(\"Data/selection_variables.csv\")"
   ]
  },
  {
   "cell_type": "code",
   "execution_count": 47,
   "metadata": {},
   "outputs": [
    {
     "data": {
      "text/plain": [
       "(18545, 11)"
      ]
     },
     "execution_count": 47,
     "metadata": {},
     "output_type": "execute_result"
    }
   ],
   "source": [
    "selection.shape"
   ]
  },
  {
   "cell_type": "code",
   "execution_count": 48,
   "metadata": {},
   "outputs": [
    {
     "data": {
      "text/html": [
       "<div>\n",
       "<style scoped>\n",
       "    .dataframe tbody tr th:only-of-type {\n",
       "        vertical-align: middle;\n",
       "    }\n",
       "\n",
       "    .dataframe tbody tr th {\n",
       "        vertical-align: top;\n",
       "    }\n",
       "\n",
       "    .dataframe thead th {\n",
       "        text-align: right;\n",
       "    }\n",
       "</style>\n",
       "<table border=\"1\" class=\"dataframe\">\n",
       "  <thead>\n",
       "    <tr style=\"text-align: right;\">\n",
       "      <th></th>\n",
       "      <th>0</th>\n",
       "      <th>1</th>\n",
       "      <th>2</th>\n",
       "      <th>3</th>\n",
       "      <th>4</th>\n",
       "      <th>5</th>\n",
       "      <th>6</th>\n",
       "      <th>7</th>\n",
       "      <th>8</th>\n",
       "      <th>9</th>\n",
       "      <th>TARGET</th>\n",
       "    </tr>\n",
       "  </thead>\n",
       "  <tbody>\n",
       "    <tr>\n",
       "      <th>0</th>\n",
       "      <td>0.0</td>\n",
       "      <td>0.0</td>\n",
       "      <td>0.0</td>\n",
       "      <td>0.0</td>\n",
       "      <td>0.0</td>\n",
       "      <td>6.2</td>\n",
       "      <td>5.8</td>\n",
       "      <td>4.6</td>\n",
       "      <td>6.0</td>\n",
       "      <td>2.0</td>\n",
       "      <td>2.0</td>\n",
       "    </tr>\n",
       "    <tr>\n",
       "      <th>1</th>\n",
       "      <td>0.0</td>\n",
       "      <td>0.0</td>\n",
       "      <td>0.0</td>\n",
       "      <td>0.0</td>\n",
       "      <td>0.0</td>\n",
       "      <td>6.0</td>\n",
       "      <td>6.2</td>\n",
       "      <td>5.2</td>\n",
       "      <td>6.0</td>\n",
       "      <td>2.0</td>\n",
       "      <td>2.0</td>\n",
       "    </tr>\n",
       "    <tr>\n",
       "      <th>2</th>\n",
       "      <td>0.0</td>\n",
       "      <td>0.0</td>\n",
       "      <td>0.0</td>\n",
       "      <td>0.0</td>\n",
       "      <td>0.0</td>\n",
       "      <td>7.3</td>\n",
       "      <td>6.7</td>\n",
       "      <td>7.1</td>\n",
       "      <td>8.0</td>\n",
       "      <td>5.0</td>\n",
       "      <td>3.0</td>\n",
       "    </tr>\n",
       "    <tr>\n",
       "      <th>3</th>\n",
       "      <td>1.0</td>\n",
       "      <td>3.0</td>\n",
       "      <td>1.0</td>\n",
       "      <td>1.0</td>\n",
       "      <td>1.0</td>\n",
       "      <td>0.0</td>\n",
       "      <td>0.0</td>\n",
       "      <td>0.0</td>\n",
       "      <td>2.0</td>\n",
       "      <td>4.0</td>\n",
       "      <td>1.0</td>\n",
       "    </tr>\n",
       "    <tr>\n",
       "      <th>4</th>\n",
       "      <td>1.0</td>\n",
       "      <td>3.0</td>\n",
       "      <td>1.0</td>\n",
       "      <td>1.0</td>\n",
       "      <td>1.0</td>\n",
       "      <td>0.0</td>\n",
       "      <td>0.0</td>\n",
       "      <td>0.0</td>\n",
       "      <td>2.0</td>\n",
       "      <td>5.0</td>\n",
       "      <td>1.0</td>\n",
       "    </tr>\n",
       "    <tr>\n",
       "      <th>...</th>\n",
       "      <td>...</td>\n",
       "      <td>...</td>\n",
       "      <td>...</td>\n",
       "      <td>...</td>\n",
       "      <td>...</td>\n",
       "      <td>...</td>\n",
       "      <td>...</td>\n",
       "      <td>...</td>\n",
       "      <td>...</td>\n",
       "      <td>...</td>\n",
       "      <td>...</td>\n",
       "    </tr>\n",
       "    <tr>\n",
       "      <th>18540</th>\n",
       "      <td>1.0</td>\n",
       "      <td>1.0</td>\n",
       "      <td>1.0</td>\n",
       "      <td>1.0</td>\n",
       "      <td>1.0</td>\n",
       "      <td>0.0</td>\n",
       "      <td>0.0</td>\n",
       "      <td>0.0</td>\n",
       "      <td>2.0</td>\n",
       "      <td>20.0</td>\n",
       "      <td>1.0</td>\n",
       "    </tr>\n",
       "    <tr>\n",
       "      <th>18541</th>\n",
       "      <td>0.0</td>\n",
       "      <td>0.0</td>\n",
       "      <td>0.0</td>\n",
       "      <td>0.0</td>\n",
       "      <td>0.0</td>\n",
       "      <td>7.0</td>\n",
       "      <td>7.9</td>\n",
       "      <td>5.8</td>\n",
       "      <td>6.0</td>\n",
       "      <td>9.0</td>\n",
       "      <td>2.0</td>\n",
       "    </tr>\n",
       "    <tr>\n",
       "      <th>18542</th>\n",
       "      <td>0.0</td>\n",
       "      <td>0.0</td>\n",
       "      <td>0.0</td>\n",
       "      <td>0.0</td>\n",
       "      <td>0.0</td>\n",
       "      <td>7.9</td>\n",
       "      <td>7.6</td>\n",
       "      <td>8.3</td>\n",
       "      <td>10.0</td>\n",
       "      <td>8.0</td>\n",
       "      <td>5.0</td>\n",
       "    </tr>\n",
       "    <tr>\n",
       "      <th>18543</th>\n",
       "      <td>0.0</td>\n",
       "      <td>0.0</td>\n",
       "      <td>1.0</td>\n",
       "      <td>1.0</td>\n",
       "      <td>1.0</td>\n",
       "      <td>6.3</td>\n",
       "      <td>5.1</td>\n",
       "      <td>0.0</td>\n",
       "      <td>2.0</td>\n",
       "      <td>3.0</td>\n",
       "      <td>1.0</td>\n",
       "    </tr>\n",
       "    <tr>\n",
       "      <th>18544</th>\n",
       "      <td>0.0</td>\n",
       "      <td>0.0</td>\n",
       "      <td>1.0</td>\n",
       "      <td>1.0</td>\n",
       "      <td>1.0</td>\n",
       "      <td>7.0</td>\n",
       "      <td>7.3</td>\n",
       "      <td>0.0</td>\n",
       "      <td>2.0</td>\n",
       "      <td>3.0</td>\n",
       "      <td>1.0</td>\n",
       "    </tr>\n",
       "  </tbody>\n",
       "</table>\n",
       "<p>18545 rows × 11 columns</p>\n",
       "</div>"
      ],
      "text/plain": [
       "         0    1    2    3    4    5    6    7     8     9  TARGET\n",
       "0      0.0  0.0  0.0  0.0  0.0  6.2  5.8  4.6   6.0   2.0     2.0\n",
       "1      0.0  0.0  0.0  0.0  0.0  6.0  6.2  5.2   6.0   2.0     2.0\n",
       "2      0.0  0.0  0.0  0.0  0.0  7.3  6.7  7.1   8.0   5.0     3.0\n",
       "3      1.0  3.0  1.0  1.0  1.0  0.0  0.0  0.0   2.0   4.0     1.0\n",
       "4      1.0  3.0  1.0  1.0  1.0  0.0  0.0  0.0   2.0   5.0     1.0\n",
       "...    ...  ...  ...  ...  ...  ...  ...  ...   ...   ...     ...\n",
       "18540  1.0  1.0  1.0  1.0  1.0  0.0  0.0  0.0   2.0  20.0     1.0\n",
       "18541  0.0  0.0  0.0  0.0  0.0  7.0  7.9  5.8   6.0   9.0     2.0\n",
       "18542  0.0  0.0  0.0  0.0  0.0  7.9  7.6  8.3  10.0   8.0     5.0\n",
       "18543  0.0  0.0  1.0  1.0  1.0  6.3  5.1  0.0   2.0   3.0     1.0\n",
       "18544  0.0  0.0  1.0  1.0  1.0  7.0  7.3  0.0   2.0   3.0     1.0\n",
       "\n",
       "[18545 rows x 11 columns]"
      ]
     },
     "execution_count": 48,
     "metadata": {},
     "output_type": "execute_result"
    }
   ],
   "source": [
    "selection"
   ]
  },
  {
   "cell_type": "code",
   "execution_count": 49,
   "metadata": {},
   "outputs": [],
   "source": [
    "x= selection.iloc[:, 0:10]\n",
    "y= selection[\"TARGET\"]"
   ]
  },
  {
   "cell_type": "code",
   "execution_count": 50,
   "metadata": {},
   "outputs": [],
   "source": [
    "features_train, features_test, target_train, target_test= train_test_split(x, y, \n",
    "                                                                           test_size= 0.25, \n",
    "                                                                           random_state= 100) "
   ]
  },
  {
   "cell_type": "code",
   "execution_count": 60,
   "metadata": {},
   "outputs": [
    {
     "data": {
      "text/plain": [
       "(30890, 10)"
      ]
     },
     "execution_count": 60,
     "metadata": {},
     "output_type": "execute_result"
    }
   ],
   "source": [
    "features_train, target_train= smote.fit_resample(features_train, target_train)\n",
    "features_train.shape"
   ]
  },
  {
   "cell_type": "code",
   "execution_count": 63,
   "metadata": {},
   "outputs": [],
   "source": [
    "model8= rf.fit(features_train, target_train)"
   ]
  },
  {
   "cell_type": "code",
   "execution_count": 64,
   "metadata": {},
   "outputs": [
    {
     "data": {
      "text/plain": [
       "0.9272256393654904"
      ]
     },
     "execution_count": 64,
     "metadata": {},
     "output_type": "execute_result"
    }
   ],
   "source": [
    "predict8= model8.predict(features_train)\n",
    "accuracy_score(target_train, predict8)"
   ]
  },
  {
   "cell_type": "code",
   "execution_count": 65,
   "metadata": {},
   "outputs": [
    {
     "data": {
      "text/plain": [
       "0.7815397886564589"
      ]
     },
     "execution_count": 65,
     "metadata": {},
     "output_type": "execute_result"
    }
   ],
   "source": [
    "pred8= model8.predict(features_test)\n",
    "accuracy_score(target_test, pred8)"
   ]
  },
  {
   "cell_type": "code",
   "execution_count": 66,
   "metadata": {},
   "outputs": [
    {
     "data": {
      "text/plain": [
       "array([[ 997,  356,   42,    2,    0],\n",
       "       [ 207, 1802,   12,   27,    3],\n",
       "       [   6,    0,  671,   88,   56],\n",
       "       [   0,   37,   67,   52,   60],\n",
       "       [   0,    2,   17,   31,  102]])"
      ]
     },
     "execution_count": 66,
     "metadata": {},
     "output_type": "execute_result"
    }
   ],
   "source": [
    "confusion_matrix(target_test, pred8)"
   ]
  },
  {
   "cell_type": "code",
   "execution_count": 80,
   "metadata": {},
   "outputs": [],
   "source": [
    "model9= grid.fit(features_train, target_train)"
   ]
  },
  {
   "cell_type": "code",
   "execution_count": 81,
   "metadata": {},
   "outputs": [
    {
     "data": {
      "text/plain": [
       "0.8254127549368728"
      ]
     },
     "execution_count": 81,
     "metadata": {},
     "output_type": "execute_result"
    }
   ],
   "source": [
    "model9.best_score_"
   ]
  },
  {
   "cell_type": "code",
   "execution_count": 82,
   "metadata": {},
   "outputs": [
    {
     "data": {
      "text/plain": [
       "{'max_depth': 15, 'n_estimators': 100}"
      ]
     },
     "execution_count": 82,
     "metadata": {},
     "output_type": "execute_result"
    }
   ],
   "source": [
    "model9.best_params_"
   ]
  },
  {
   "cell_type": "code",
   "execution_count": 83,
   "metadata": {},
   "outputs": [
    {
     "data": {
      "text/plain": [
       "0.7009263773768893"
      ]
     },
     "execution_count": 83,
     "metadata": {},
     "output_type": "execute_result"
    }
   ],
   "source": [
    "pred9= model9.predict(features_test)\n",
    "accuracy_score(target_test, pred9)"
   ]
  },
  {
   "cell_type": "code",
   "execution_count": 84,
   "metadata": {},
   "outputs": [
    {
     "data": {
      "text/plain": [
       "array([[1537,  450,   58,    6,    0],\n",
       "       [ 207, 1802,   12,   27,    3],\n",
       "       [  10,    0, 1586,  315,  140],\n",
       "       [   1,  162,  498,  781,  609],\n",
       "       [   0,    8,  101,  460, 1482]])"
      ]
     },
     "execution_count": 84,
     "metadata": {},
     "output_type": "execute_result"
    }
   ],
   "source": [
    "confusion_matrix(target_test, pred9)"
   ]
  },
  {
   "cell_type": "code",
   "execution_count": 85,
   "metadata": {},
   "outputs": [
    {
     "data": {
      "text/plain": [
       "0.9272256393654904"
      ]
     },
     "execution_count": 85,
     "metadata": {},
     "output_type": "execute_result"
    }
   ],
   "source": [
    "predict10= model9.predict(features_train)\n",
    "accuracy_score(target_train, predict10)"
   ]
  },
  {
   "cell_type": "code",
   "execution_count": 86,
   "metadata": {},
   "outputs": [
    {
     "data": {
      "text/plain": [
       "array([[5311,  721,  139,    6,    1],\n",
       "       [ 301, 5847,   23,    7,    0],\n",
       "       [   0,    0, 5944,  111,  123],\n",
       "       [   0,   64,  399, 5472,  243],\n",
       "       [   0,    3,   38,   69, 6068]])"
      ]
     },
     "execution_count": 86,
     "metadata": {},
     "output_type": "execute_result"
    }
   ],
   "source": [
    "confusion_matrix(target_train, predict10)"
   ]
  },
  {
   "cell_type": "code",
   "execution_count": 87,
   "metadata": {},
   "outputs": [],
   "source": [
    "features_test, target_test= smote.fit_resample(features_test, target_test)"
   ]
  },
  {
   "cell_type": "code",
   "execution_count": 88,
   "metadata": {},
   "outputs": [
    {
     "data": {
      "text/plain": [
       "0.7009263773768893"
      ]
     },
     "execution_count": 88,
     "metadata": {},
     "output_type": "execute_result"
    }
   ],
   "source": [
    "pred10= model9.predict(features_test)\n",
    "accuracy_score(target_test, pred10)"
   ]
  },
  {
   "cell_type": "code",
   "execution_count": 89,
   "metadata": {},
   "outputs": [
    {
     "data": {
      "text/plain": [
       "array([[1537,  450,   58,    6,    0],\n",
       "       [ 207, 1802,   12,   27,    3],\n",
       "       [  10,    0, 1586,  315,  140],\n",
       "       [   1,  162,  498,  781,  609],\n",
       "       [   0,    8,  101,  460, 1482]])"
      ]
     },
     "execution_count": 89,
     "metadata": {},
     "output_type": "execute_result"
    }
   ],
   "source": [
    "confusion_matrix(target_test, pred10)"
   ]
  },
  {
   "cell_type": "code",
   "execution_count": 90,
   "metadata": {},
   "outputs": [],
   "source": [
    "result = pd.DataFrame(model9.cv_results_)\n",
    "result = result[['mean_fit_time', 'std_fit_time', 'mean_score_time', 'std_score_time',\n",
    "                'mean_test_score', 'std_test_score', 'rank_test_score']]"
   ]
  },
  {
   "cell_type": "code",
   "execution_count": 105,
   "metadata": {},
   "outputs": [
    {
     "data": {
      "text/html": [
       "<div>\n",
       "<style scoped>\n",
       "    .dataframe tbody tr th:only-of-type {\n",
       "        vertical-align: middle;\n",
       "    }\n",
       "\n",
       "    .dataframe tbody tr th {\n",
       "        vertical-align: top;\n",
       "    }\n",
       "\n",
       "    .dataframe thead th {\n",
       "        text-align: right;\n",
       "    }\n",
       "</style>\n",
       "<table border=\"1\" class=\"dataframe\">\n",
       "  <thead>\n",
       "    <tr style=\"text-align: right;\">\n",
       "      <th></th>\n",
       "      <th>mean_fit_time</th>\n",
       "      <th>std_fit_time</th>\n",
       "      <th>mean_score_time</th>\n",
       "      <th>std_score_time</th>\n",
       "      <th>mean_test_score</th>\n",
       "      <th>std_test_score</th>\n",
       "      <th>rank_test_score</th>\n",
       "    </tr>\n",
       "  </thead>\n",
       "  <tbody>\n",
       "    <tr>\n",
       "      <th>10</th>\n",
       "      <td>1.877491</td>\n",
       "      <td>0.041201</td>\n",
       "      <td>0.096385</td>\n",
       "      <td>0.001479</td>\n",
       "      <td>0.825413</td>\n",
       "      <td>0.013469</td>\n",
       "      <td>1</td>\n",
       "    </tr>\n",
       "    <tr>\n",
       "      <th>11</th>\n",
       "      <td>3.689196</td>\n",
       "      <td>0.165283</td>\n",
       "      <td>0.184894</td>\n",
       "      <td>0.008004</td>\n",
       "      <td>0.825024</td>\n",
       "      <td>0.013697</td>\n",
       "      <td>2</td>\n",
       "    </tr>\n",
       "    <tr>\n",
       "      <th>9</th>\n",
       "      <td>0.941190</td>\n",
       "      <td>0.018515</td>\n",
       "      <td>0.050104</td>\n",
       "      <td>0.001039</td>\n",
       "      <td>0.822402</td>\n",
       "      <td>0.012796</td>\n",
       "      <td>3</td>\n",
       "    </tr>\n",
       "    <tr>\n",
       "      <th>8</th>\n",
       "      <td>0.194316</td>\n",
       "      <td>0.003659</td>\n",
       "      <td>0.012461</td>\n",
       "      <td>0.000177</td>\n",
       "      <td>0.808870</td>\n",
       "      <td>0.012000</td>\n",
       "      <td>4</td>\n",
       "    </tr>\n",
       "    <tr>\n",
       "      <th>7</th>\n",
       "      <td>2.864758</td>\n",
       "      <td>0.057672</td>\n",
       "      <td>0.145062</td>\n",
       "      <td>0.001853</td>\n",
       "      <td>0.760117</td>\n",
       "      <td>0.004200</td>\n",
       "      <td>5</td>\n",
       "    </tr>\n",
       "    <tr>\n",
       "      <th>6</th>\n",
       "      <td>1.432567</td>\n",
       "      <td>0.032504</td>\n",
       "      <td>0.074129</td>\n",
       "      <td>0.000997</td>\n",
       "      <td>0.759599</td>\n",
       "      <td>0.004369</td>\n",
       "      <td>6</td>\n",
       "    </tr>\n",
       "    <tr>\n",
       "      <th>5</th>\n",
       "      <td>0.721505</td>\n",
       "      <td>0.015209</td>\n",
       "      <td>0.038395</td>\n",
       "      <td>0.000584</td>\n",
       "      <td>0.759437</td>\n",
       "      <td>0.003944</td>\n",
       "      <td>7</td>\n",
       "    </tr>\n",
       "    <tr>\n",
       "      <th>4</th>\n",
       "      <td>0.150899</td>\n",
       "      <td>0.004861</td>\n",
       "      <td>0.010013</td>\n",
       "      <td>0.000163</td>\n",
       "      <td>0.751117</td>\n",
       "      <td>0.005641</td>\n",
       "      <td>8</td>\n",
       "    </tr>\n",
       "    <tr>\n",
       "      <th>3</th>\n",
       "      <td>2.463825</td>\n",
       "      <td>0.046303</td>\n",
       "      <td>0.127467</td>\n",
       "      <td>0.001514</td>\n",
       "      <td>0.729880</td>\n",
       "      <td>0.006730</td>\n",
       "      <td>9</td>\n",
       "    </tr>\n",
       "    <tr>\n",
       "      <th>2</th>\n",
       "      <td>1.238926</td>\n",
       "      <td>0.026677</td>\n",
       "      <td>0.065340</td>\n",
       "      <td>0.001195</td>\n",
       "      <td>0.729168</td>\n",
       "      <td>0.006554</td>\n",
       "      <td>10</td>\n",
       "    </tr>\n",
       "    <tr>\n",
       "      <th>1</th>\n",
       "      <td>0.644604</td>\n",
       "      <td>0.029075</td>\n",
       "      <td>0.034292</td>\n",
       "      <td>0.000698</td>\n",
       "      <td>0.727808</td>\n",
       "      <td>0.007370</td>\n",
       "      <td>11</td>\n",
       "    </tr>\n",
       "    <tr>\n",
       "      <th>0</th>\n",
       "      <td>0.148429</td>\n",
       "      <td>0.021754</td>\n",
       "      <td>0.010156</td>\n",
       "      <td>0.001667</td>\n",
       "      <td>0.724571</td>\n",
       "      <td>0.006755</td>\n",
       "      <td>12</td>\n",
       "    </tr>\n",
       "  </tbody>\n",
       "</table>\n",
       "</div>"
      ],
      "text/plain": [
       "    mean_fit_time  std_fit_time  mean_score_time  std_score_time  \\\n",
       "10       1.877491      0.041201         0.096385        0.001479   \n",
       "11       3.689196      0.165283         0.184894        0.008004   \n",
       "9        0.941190      0.018515         0.050104        0.001039   \n",
       "8        0.194316      0.003659         0.012461        0.000177   \n",
       "7        2.864758      0.057672         0.145062        0.001853   \n",
       "6        1.432567      0.032504         0.074129        0.000997   \n",
       "5        0.721505      0.015209         0.038395        0.000584   \n",
       "4        0.150899      0.004861         0.010013        0.000163   \n",
       "3        2.463825      0.046303         0.127467        0.001514   \n",
       "2        1.238926      0.026677         0.065340        0.001195   \n",
       "1        0.644604      0.029075         0.034292        0.000698   \n",
       "0        0.148429      0.021754         0.010156        0.001667   \n",
       "\n",
       "    mean_test_score  std_test_score  rank_test_score  \n",
       "10         0.825413        0.013469                1  \n",
       "11         0.825024        0.013697                2  \n",
       "9          0.822402        0.012796                3  \n",
       "8          0.808870        0.012000                4  \n",
       "7          0.760117        0.004200                5  \n",
       "6          0.759599        0.004369                6  \n",
       "5          0.759437        0.003944                7  \n",
       "4          0.751117        0.005641                8  \n",
       "3          0.729880        0.006730                9  \n",
       "2          0.729168        0.006554               10  \n",
       "1          0.727808        0.007370               11  \n",
       "0          0.724571        0.006755               12  "
      ]
     },
     "execution_count": 105,
     "metadata": {},
     "output_type": "execute_result"
    }
   ],
   "source": [
    "result.sort_values(['rank_test_score'])"
   ]
  }
 ],
 "metadata": {
  "kernelspec": {
   "display_name": "Python 3",
   "language": "python",
   "name": "python3"
  },
  "language_info": {
   "codemirror_mode": {
    "name": "ipython",
    "version": 3
   },
   "file_extension": ".py",
   "mimetype": "text/x-python",
   "name": "python",
   "nbconvert_exporter": "python",
   "pygments_lexer": "ipython3",
   "version": "3.7.6"
  }
 },
 "nbformat": 4,
 "nbformat_minor": 4
}
